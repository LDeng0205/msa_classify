{
 "cells": [
  {
   "cell_type": "code",
   "execution_count": 1,
   "id": "c7bc2fc9",
   "metadata": {
    "collapsed": false
   },
   "outputs": [],
   "source": [
    "import pandas as pd\n",
    "import numpy as np\n",
    "from pathlib import Path\n",
    "from collections import OrderedDict\n",
    "# biopython SeqIO\n",
    "from Bio import SeqIO\n",
    "from sklearn.metrics import roc_auc_score\n",
    "import scipy\n",
    "ALPHABET_PROTEIN = '-ACDEFGHIKLMNPQRSTVWY'"
   ]
  },
  {
   "cell_type": "code",
   "execution_count": 2,
   "id": "43b330e8",
   "metadata": {
    "collapsed": false
   },
   "outputs": [],
   "source": [
    "# Protein amino acid alphabet + gap character \"-\"\n",
    "alphabet = '-ACDEFGHIKLMNPQRSTVWY'\n",
    "# map amino acids to index\n",
    "aa_to_i = {aa:i for i, aa in enumerate(alphabet)}\n",
    "# map index to amino acids\n",
    "i_to_a = {i:aa for i, aa in enumerate(alphabet)}"
   ]
  },
  {
   "cell_type": "code",
   "execution_count": 3,
   "id": "4258286d",
   "metadata": {
    "collapsed": false
   },
   "outputs": [],
   "source": [
    "def encode(seqs, alphabet=ALPHABET_PROTEIN):\n",
    "    '''\n",
    "    Go from letters to numbers\n",
    "    '''\n",
    "    aa_to_i = OrderedDict((aa, i) for i, aa in enumerate( alphabet ))\n",
    "    X = np.asarray([[aa_to_i[x] for x in seq] \n",
    "                    for seq in seqs])\n",
    "    return X, aa_to_i\n",
    "\n",
    "def check_sequence(s, alphabet=ALPHABET_PROTEIN):\n",
    "    for aa in s:\n",
    "        if aa not in ALPHABET_PROTEIN:\n",
    "            return False\n",
    "    return True\n",
    "\n",
    "def one_hot_encode(s):\n",
    "    return np.eye(21)[s].flatten()"
   ]
  },
  {
   "cell_type": "code",
   "execution_count": 4,
   "id": "fdd9f489",
   "metadata": {
    "collapsed": false
   },
   "outputs": [
    {
     "data": {
      "text/html": [
       "<div>\n",
       "<style scoped>\n",
       "    .dataframe tbody tr th:only-of-type {\n",
       "        vertical-align: middle;\n",
       "    }\n",
       "\n",
       "    .dataframe tbody tr th {\n",
       "        vertical-align: top;\n",
       "    }\n",
       "\n",
       "    .dataframe thead th {\n",
       "        text-align: right;\n",
       "    }\n",
       "</style>\n",
       "<table border=\"1\" class=\"dataframe\">\n",
       "  <thead>\n",
       "    <tr style=\"text-align: right;\">\n",
       "      <th></th>\n",
       "      <th>Dataset</th>\n",
       "      <th>EVmutation</th>\n",
       "      <th>EVE_ensemble</th>\n",
       "      <th>UniProt_ID</th>\n",
       "      <th>Neff_L_category</th>\n",
       "      <th>Taxon</th>\n",
       "    </tr>\n",
       "  </thead>\n",
       "  <tbody>\n",
       "    <tr>\n",
       "      <th>13</th>\n",
       "      <td>BLAT_ECOLX_Firnberg_2014</td>\n",
       "      <td>0.708</td>\n",
       "      <td>0.729</td>\n",
       "      <td>BLAT_ECOLX</td>\n",
       "      <td>high</td>\n",
       "      <td>Prokaryote</td>\n",
       "    </tr>\n",
       "    <tr>\n",
       "      <th>15</th>\n",
       "      <td>BLAT_ECOLX_Stiffler_2015</td>\n",
       "      <td>0.707</td>\n",
       "      <td>0.727</td>\n",
       "      <td>BLAT_ECOLX</td>\n",
       "      <td>high</td>\n",
       "      <td>Prokaryote</td>\n",
       "    </tr>\n",
       "    <tr>\n",
       "      <th>14</th>\n",
       "      <td>BLAT_ECOLX_Jacquier_2013</td>\n",
       "      <td>0.689</td>\n",
       "      <td>0.723</td>\n",
       "      <td>BLAT_ECOLX</td>\n",
       "      <td>high</td>\n",
       "      <td>Prokaryote</td>\n",
       "    </tr>\n",
       "    <tr>\n",
       "      <th>23</th>\n",
       "      <td>CP2C9_HUMAN_Amorosi_activity_2021</td>\n",
       "      <td>0.590</td>\n",
       "      <td>0.635</td>\n",
       "      <td>CP2C9_HUMAN</td>\n",
       "      <td>high</td>\n",
       "      <td>Human</td>\n",
       "    </tr>\n",
       "    <tr>\n",
       "      <th>22</th>\n",
       "      <td>CP2C9_HUMAN_Amorosi_abundance_2021</td>\n",
       "      <td>0.572</td>\n",
       "      <td>0.610</td>\n",
       "      <td>CP2C9_HUMAN</td>\n",
       "      <td>high</td>\n",
       "      <td>Human</td>\n",
       "    </tr>\n",
       "    <tr>\n",
       "      <th>41</th>\n",
       "      <td>KKA2_KLEPN_Melnikov_2014</td>\n",
       "      <td>0.530</td>\n",
       "      <td>0.603</td>\n",
       "      <td>KKA2_KLEPN</td>\n",
       "      <td>high</td>\n",
       "      <td>Prokaryote</td>\n",
       "    </tr>\n",
       "    <tr>\n",
       "      <th>21</th>\n",
       "      <td>CCDB_ECOLI_Tripathi_2016</td>\n",
       "      <td>0.506</td>\n",
       "      <td>0.528</td>\n",
       "      <td>CCDB_ECOLI</td>\n",
       "      <td>high</td>\n",
       "      <td>Prokaryote</td>\n",
       "    </tr>\n",
       "    <tr>\n",
       "      <th>12</th>\n",
       "      <td>BLAT_ECOLX_Deng_2012</td>\n",
       "      <td>0.504</td>\n",
       "      <td>0.508</td>\n",
       "      <td>BLAT_ECOLX</td>\n",
       "      <td>high</td>\n",
       "      <td>Prokaryote</td>\n",
       "    </tr>\n",
       "    <tr>\n",
       "      <th>39</th>\n",
       "      <td>IF1_ECOLI_Kelsic_2016</td>\n",
       "      <td>0.499</td>\n",
       "      <td>0.537</td>\n",
       "      <td>IF1_ECOLI</td>\n",
       "      <td>high</td>\n",
       "      <td>Prokaryote</td>\n",
       "    </tr>\n",
       "    <tr>\n",
       "      <th>7</th>\n",
       "      <td>A4GRB6_PSEAI_Chen_2020</td>\n",
       "      <td>0.492</td>\n",
       "      <td>0.641</td>\n",
       "      <td>A4GRB6_PSEAI</td>\n",
       "      <td>high</td>\n",
       "      <td>Prokaryote</td>\n",
       "    </tr>\n",
       "    <tr>\n",
       "      <th>20</th>\n",
       "      <td>CCDB_ECOLI_Adkar_2012</td>\n",
       "      <td>0.486</td>\n",
       "      <td>0.531</td>\n",
       "      <td>CCDB_ECOLI</td>\n",
       "      <td>high</td>\n",
       "      <td>Prokaryote</td>\n",
       "    </tr>\n",
       "    <tr>\n",
       "      <th>8</th>\n",
       "      <td>AACC1_PSEAI_Dandage_2018</td>\n",
       "      <td>0.474</td>\n",
       "      <td>0.491</td>\n",
       "      <td>AACC1_PSEAI</td>\n",
       "      <td>high</td>\n",
       "      <td>Prokaryote</td>\n",
       "    </tr>\n",
       "    <tr>\n",
       "      <th>47</th>\n",
       "      <td>NUD15_HUMAN_Suiter_2020</td>\n",
       "      <td>0.453</td>\n",
       "      <td>0.594</td>\n",
       "      <td>NUD15_HUMAN</td>\n",
       "      <td>high</td>\n",
       "      <td>Human</td>\n",
       "    </tr>\n",
       "    <tr>\n",
       "      <th>10</th>\n",
       "      <td>AMIE_PSEAE_Wrenbeck_2017</td>\n",
       "      <td>0.443</td>\n",
       "      <td>0.464</td>\n",
       "      <td>AMIE_PSEAE</td>\n",
       "      <td>high</td>\n",
       "      <td>Prokaryote</td>\n",
       "    </tr>\n",
       "    <tr>\n",
       "      <th>62</th>\n",
       "      <td>RASH_HUMAN_Bandaru_2017</td>\n",
       "      <td>0.436</td>\n",
       "      <td>0.480</td>\n",
       "      <td>RASH_HUMAN</td>\n",
       "      <td>high</td>\n",
       "      <td>Human</td>\n",
       "    </tr>\n",
       "    <tr>\n",
       "      <th>29</th>\n",
       "      <td>ESTA_BACSU_Nutschel_2020</td>\n",
       "      <td>0.399</td>\n",
       "      <td>0.387</td>\n",
       "      <td>ESTA_BACSU</td>\n",
       "      <td>high</td>\n",
       "      <td>Prokaryote</td>\n",
       "    </tr>\n",
       "    <tr>\n",
       "      <th>30</th>\n",
       "      <td>F7YBW8_MESOW_Aakre_2015</td>\n",
       "      <td>0.395</td>\n",
       "      <td>0.430</td>\n",
       "      <td>F7YBW8_MESOW</td>\n",
       "      <td>high</td>\n",
       "      <td>Prokaryote</td>\n",
       "    </tr>\n",
       "    <tr>\n",
       "      <th>73</th>\n",
       "      <td>SUMO1_HUMAN_Weile_2017</td>\n",
       "      <td>0.373</td>\n",
       "      <td>0.478</td>\n",
       "      <td>SUMO1_HUMAN</td>\n",
       "      <td>high</td>\n",
       "      <td>Human</td>\n",
       "    </tr>\n",
       "    <tr>\n",
       "      <th>18</th>\n",
       "      <td>CALM1_HUMAN_Weile_2017</td>\n",
       "      <td>0.233</td>\n",
       "      <td>0.236</td>\n",
       "      <td>CALM1_HUMAN</td>\n",
       "      <td>high</td>\n",
       "      <td>Human</td>\n",
       "    </tr>\n",
       "    <tr>\n",
       "      <th>76</th>\n",
       "      <td>TAT_HV1BR_Fernandes_2016</td>\n",
       "      <td>0.201</td>\n",
       "      <td>0.300</td>\n",
       "      <td>TAT_HV1BR</td>\n",
       "      <td>high</td>\n",
       "      <td>Virus</td>\n",
       "    </tr>\n",
       "  </tbody>\n",
       "</table>\n",
       "</div>"
      ],
      "text/plain": [
       "                               Dataset  EVmutation  EVE_ensemble  \\\n",
       "13            BLAT_ECOLX_Firnberg_2014       0.708         0.729   \n",
       "15            BLAT_ECOLX_Stiffler_2015       0.707         0.727   \n",
       "14            BLAT_ECOLX_Jacquier_2013       0.689         0.723   \n",
       "23   CP2C9_HUMAN_Amorosi_activity_2021       0.590         0.635   \n",
       "22  CP2C9_HUMAN_Amorosi_abundance_2021       0.572         0.610   \n",
       "41            KKA2_KLEPN_Melnikov_2014       0.530         0.603   \n",
       "21            CCDB_ECOLI_Tripathi_2016       0.506         0.528   \n",
       "12                BLAT_ECOLX_Deng_2012       0.504         0.508   \n",
       "39               IF1_ECOLI_Kelsic_2016       0.499         0.537   \n",
       "7               A4GRB6_PSEAI_Chen_2020       0.492         0.641   \n",
       "20               CCDB_ECOLI_Adkar_2012       0.486         0.531   \n",
       "8             AACC1_PSEAI_Dandage_2018       0.474         0.491   \n",
       "47             NUD15_HUMAN_Suiter_2020       0.453         0.594   \n",
       "10            AMIE_PSEAE_Wrenbeck_2017       0.443         0.464   \n",
       "62             RASH_HUMAN_Bandaru_2017       0.436         0.480   \n",
       "29            ESTA_BACSU_Nutschel_2020       0.399         0.387   \n",
       "30             F7YBW8_MESOW_Aakre_2015       0.395         0.430   \n",
       "73              SUMO1_HUMAN_Weile_2017       0.373         0.478   \n",
       "18              CALM1_HUMAN_Weile_2017       0.233         0.236   \n",
       "76            TAT_HV1BR_Fernandes_2016       0.201         0.300   \n",
       "\n",
       "      UniProt_ID Neff_L_category       Taxon  \n",
       "13    BLAT_ECOLX            high  Prokaryote  \n",
       "15    BLAT_ECOLX            high  Prokaryote  \n",
       "14    BLAT_ECOLX            high  Prokaryote  \n",
       "23   CP2C9_HUMAN            high       Human  \n",
       "22   CP2C9_HUMAN            high       Human  \n",
       "41    KKA2_KLEPN            high  Prokaryote  \n",
       "21    CCDB_ECOLI            high  Prokaryote  \n",
       "12    BLAT_ECOLX            high  Prokaryote  \n",
       "39     IF1_ECOLI            high  Prokaryote  \n",
       "7   A4GRB6_PSEAI            high  Prokaryote  \n",
       "20    CCDB_ECOLI            high  Prokaryote  \n",
       "8    AACC1_PSEAI            high  Prokaryote  \n",
       "47   NUD15_HUMAN            high       Human  \n",
       "10    AMIE_PSEAE            high  Prokaryote  \n",
       "62    RASH_HUMAN            high       Human  \n",
       "29    ESTA_BACSU            high  Prokaryote  \n",
       "30  F7YBW8_MESOW            high  Prokaryote  \n",
       "73   SUMO1_HUMAN            high       Human  \n",
       "18   CALM1_HUMAN            high       Human  \n",
       "76     TAT_HV1BR            high       Virus  "
      ]
     },
     "execution_count": 4,
     "metadata": {},
     "output_type": "execute_result"
    }
   ],
   "source": [
    "# Read in the datasets\n",
    "df = pd.read_csv('/home/hunter/projects/recombination/ProteinGym/Tranception/proteingym/Detailed_performance_files/Substitutions/Spearman/all_models_substitutions_Spearman_DMS_level.csv')\n",
    "df = df.rename(columns={df.columns[0]: 'Dataset'})\n",
    "df = df.loc[df.EVmutation.sort_values(ascending=False).index, [\"Dataset\", \"EVmutation\", \"EVE_ensemble\",\"UniProt_ID\", \"Neff_L_category\", \"Taxon\"]]\n",
    "df = df.loc[df.Neff_L_category == 'high']\n",
    "df.head(20)"
   ]
  },
  {
   "cell_type": "code",
   "execution_count": 11,
   "id": "445c8c8f",
   "metadata": {
    "collapsed": false
   },
   "outputs": [
    {
     "name": "stdout",
     "output_type": "stream",
     "text": [
      "BLAT_ECOLX_Firnberg_2014\n"
     ]
    },
    {
     "data": {
      "text/plain": [
       "PosixPath('/home/hunter/projects/recombination/ProteinGym/substitutions/BLAT_ECOLX_Firnberg_2014.csv')"
      ]
     },
     "execution_count": 11,
     "metadata": {},
     "output_type": "execute_result"
    }
   ],
   "source": [
    "# Grab the first dataset\n",
    "dataset = df.Dataset.iloc[0]\n",
    "print(dataset)\n",
    "# Get all of the MSA files for all of the datasets\n",
    "msa_files = list(Path('/home/hunter/projects/recombination/ProteinGym/MSA_files').glob(\"*.a2m\"))\n",
    "# Get all of the DMS mutation files for all of the datasets\n",
    "mutation_files = list(Path('/home/hunter/projects/recombination/ProteinGym/ProteinGym_substitutions').glob(\"*.csv\"))\n",
    "# Get all of the sequence weight files for all of the datasets\n",
    "weight_files = list(Path('/home/hunter/projects/recombination/ProteinGym/substitutions_MSAs_all_positions').glob(\"*.npy\"))\n",
    "# Get all of the results files for all of the datasets\n",
    "res_files = list(Path('/home/hunter/projects/recombination/ProteinGym/substitutions/').glob(\"*.csv\"))\n",
    "\n",
    "\n",
    "# Find the MSA file for this dataset\n",
    "msa_matches = [f for f in msa_files if dataset.split(\"_\")[0] in f.name]\n",
    "assert len(msa_matches) == 1\n",
    "# Find the DMS mutation file for this dataset\n",
    "mut_matches = [f for f in mutation_files if dataset in f.name]\n",
    "assert len(mut_matches) == 1\n",
    "# Find the sequence weight file for this dataset\n",
    "weight_matches = [f for f in weight_files if dataset.split(\"_\")[0] in f.name]\n",
    "assert len(weight_matches) == 1\n",
    "# Find the results file for this dataset\n",
    "res_matches = [f for f in res_files if dataset == f.stem]\n",
    "assert len(res_matches) == 1\n",
    "\n",
    "msa_fn = msa_matches[0]\n",
    "mut_fn = mut_matches[0]\n",
    "weight_fn = weight_matches[0]\n",
    "res_fn = res_matches[0]\n",
    "mut_df = pd.read_csv(mut_fn)\n",
    "res_df = pd.read_csv(res_fn)"
   ]
  },
  {
   "cell_type": "code",
   "execution_count": 6,
   "id": "7151305d",
   "metadata": {},
   "outputs": [
    {
     "data": {
      "text/plain": [
       "PosixPath('/home/hunter/projects/recombination/ProteinGym/MSA_files/BLAT_ECOLX_full_11-26-2021_b02.a2m')"
      ]
     },
     "execution_count": 6,
     "metadata": {},
     "output_type": "execute_result"
    }
   ],
   "source": [
    "msa_fn"
   ]
  },
  {
   "cell_type": "code",
   "execution_count": 13,
   "id": "f90865fb",
   "metadata": {
    "collapsed": false
   },
   "outputs": [],
   "source": [
    "def process_msa_sequence(msa_fn):\n",
    "    # Process MSA sequences\n",
    "    # one-hot encoded\n",
    "\n",
    "    # read in fasta files\n",
    "    msa_sequences = [str(x.seq) for x in SeqIO.parse(msa_fn, 'fasta')]\n",
    "    # get wild-type sequence\n",
    "    wt_seq = msa_sequences[0]\n",
    "    # keep all the columns\n",
    "    columns_to_keep = [i for i in range(len(wt_seq))]\n",
    "    # upper case all letters\n",
    "    msa_sequences = [[s[i].upper() for i in columns_to_keep] for s in msa_sequences]\n",
    "    # replace \".\" with \"-\"\n",
    "    msa_sequences = [[aa.replace(\".\", \"-\") for aa in s] for s in msa_sequences]\n",
    "    msa_sequences = np.asarray(msa_sequences)\n",
    "    # keep sequences that pass check_sequence\n",
    "    msa_sequences = [s for s in msa_sequences if check_sequence(s)]\n",
    "    msa_sequences = np.asarray(msa_sequences)\n",
    "\n",
    "    seqs_enc, aa_to_i = encode(msa_sequences)\n",
    "    i_to_a = {i:aa for i, aa in enumerate(ALPHABET_PROTEIN)}\n",
    "    weights = np.load(weight_fn)\n",
    "    assert weights.shape[0] == len(msa_sequences)\n",
    "    oh_enc_seq = []\n",
    "    for s in seqs_enc:\n",
    "        oh_enc_seq.append(one_hot_encode(s))\n",
    "    oh_enc_seq = np.asarray(oh_enc_seq)\n",
    "    return oh_enc_seq"
   ]
  },
  {
   "cell_type": "code",
   "execution_count": 14,
   "id": "a7bbf65d",
   "metadata": {
    "collapsed": false
   },
   "outputs": [
    {
     "ename": "NameError",
     "evalue": "name 'seqs_enc' is not defined",
     "output_type": "error",
     "traceback": [
      "\u001b[0;31m---------------------------------------------------------------------------\u001b[0m",
      "\u001b[0;31mNameError\u001b[0m                                 Traceback (most recent call last)",
      "\u001b[1;32m/home/arthur/dev/msa_classify/Process_DMS_Data.ipynb Cell 8\u001b[0m in \u001b[0;36m<cell line: 1>\u001b[0;34m()\u001b[0m\n\u001b[0;32m----> <a href='vscode-notebook-cell://ssh-remote%2Bwhale.bair.berkeley.edu/home/arthur/dev/msa_classify/Process_DMS_Data.ipynb#X10sdnNjb2RlLXJlbW90ZQ%3D%3D?line=0'>1</a>\u001b[0m one_hot_encode(seqs_enc)\n\u001b[1;32m      <a href='vscode-notebook-cell://ssh-remote%2Bwhale.bair.berkeley.edu/home/arthur/dev/msa_classify/Process_DMS_Data.ipynb#X10sdnNjb2RlLXJlbW90ZQ%3D%3D?line=2'>3</a>\u001b[0m \u001b[39mprint\u001b[39m(oh_enc_seq\u001b[39m.\u001b[39mshape)\n",
      "\u001b[0;31mNameError\u001b[0m: name 'seqs_enc' is not defined"
     ]
    }
   ],
   "source": [
    "one_hot_encode(seqs_enc)\n",
    "\n",
    "print(oh_enc_seq.shape)"
   ]
  },
  {
   "cell_type": "code",
   "execution_count": 15,
   "id": "960259fc",
   "metadata": {
    "collapsed": false
   },
   "outputs": [
    {
     "ename": "NameError",
     "evalue": "name 'seqs_enc' is not defined",
     "output_type": "error",
     "traceback": [
      "\u001b[0;31m---------------------------------------------------------------------------\u001b[0m",
      "\u001b[0;31mNameError\u001b[0m                                 Traceback (most recent call last)",
      "\u001b[1;32m/home/arthur/dev/msa_classify/Process_DMS_Data.ipynb Cell 9\u001b[0m in \u001b[0;36m<cell line: 1>\u001b[0;34m()\u001b[0m\n\u001b[0;32m----> <a href='vscode-notebook-cell://ssh-remote%2Bwhale.bair.berkeley.edu/home/arthur/dev/msa_classify/Process_DMS_Data.ipynb#X11sdnNjb2RlLXJlbW90ZQ%3D%3D?line=0'>1</a>\u001b[0m seqs_enc\u001b[39m.\u001b[39mshape\n",
      "\u001b[0;31mNameError\u001b[0m: name 'seqs_enc' is not defined"
     ]
    }
   ],
   "source": [
    "seqs_enc.shape"
   ]
  },
  {
   "cell_type": "code",
   "execution_count": 16,
   "id": "8cb48edb",
   "metadata": {
    "collapsed": false
   },
   "outputs": [
    {
     "data": {
      "text/plain": [
       "array([[0., 0., 1.],\n",
       "       [1., 0., 0.],\n",
       "       [0., 1., 0.]])"
      ]
     },
     "execution_count": 16,
     "metadata": {},
     "output_type": "execute_result"
    }
   ],
   "source": [
    "np.eye(3)[[2, 0, 1]]"
   ]
  },
  {
   "cell_type": "code",
   "execution_count": 17,
   "id": "645eca91",
   "metadata": {
    "collapsed": false
   },
   "outputs": [
    {
     "ename": "NameError",
     "evalue": "name 'columns_to_keep' is not defined",
     "output_type": "error",
     "traceback": [
      "\u001b[0;31m---------------------------------------------------------------------------\u001b[0m",
      "\u001b[0;31mNameError\u001b[0m                                 Traceback (most recent call last)",
      "\u001b[1;32m/home/arthur/dev/msa_classify/Process_DMS_Data.ipynb Cell 11\u001b[0m in \u001b[0;36m<cell line: 2>\u001b[0;34m()\u001b[0m\n\u001b[1;32m      <a href='vscode-notebook-cell://ssh-remote%2Bwhale.bair.berkeley.edu/home/arthur/dev/msa_classify/Process_DMS_Data.ipynb#X13sdnNjb2RlLXJlbW90ZQ%3D%3D?line=0'>1</a>\u001b[0m \u001b[39m# Get the DMS sequences, which we use to evaluate the performance of our model\u001b[39;00m\n\u001b[0;32m----> <a href='vscode-notebook-cell://ssh-remote%2Bwhale.bair.berkeley.edu/home/arthur/dev/msa_classify/Process_DMS_Data.ipynb#X13sdnNjb2RlLXJlbW90ZQ%3D%3D?line=1'>2</a>\u001b[0m mutant_sequences_to_keep \u001b[39m=\u001b[39m mut_df\u001b[39m.\u001b[39;49mmutant\u001b[39m.\u001b[39;49mmap(\u001b[39mlambda\u001b[39;49;00m x: np\u001b[39m.\u001b[39;49mall([\u001b[39mint\u001b[39;49m(y[\u001b[39m1\u001b[39;49m:\u001b[39m-\u001b[39;49m\u001b[39m1\u001b[39;49m])\u001b[39m-\u001b[39;49m\u001b[39m1\u001b[39;49m \u001b[39min\u001b[39;49;00m columns_to_keep \u001b[39mfor\u001b[39;49;00m y \u001b[39min\u001b[39;49;00m x\u001b[39m.\u001b[39;49msplit(\u001b[39m\"\u001b[39;49m\u001b[39m:\u001b[39;49m\u001b[39m\"\u001b[39;49m)]))\n\u001b[1;32m      <a href='vscode-notebook-cell://ssh-remote%2Bwhale.bair.berkeley.edu/home/arthur/dev/msa_classify/Process_DMS_Data.ipynb#X13sdnNjb2RlLXJlbW90ZQ%3D%3D?line=2'>3</a>\u001b[0m sub_mut_df \u001b[39m=\u001b[39m mut_df\u001b[39m.\u001b[39mloc[mutant_sequences_to_keep]\n\u001b[1;32m      <a href='vscode-notebook-cell://ssh-remote%2Bwhale.bair.berkeley.edu/home/arthur/dev/msa_classify/Process_DMS_Data.ipynb#X13sdnNjb2RlLXJlbW90ZQ%3D%3D?line=3'>4</a>\u001b[0m mut_seqs \u001b[39m=\u001b[39m sub_mut_df\u001b[39m.\u001b[39mmutated_sequence\u001b[39m.\u001b[39mmap(\u001b[39mlambda\u001b[39;00m x: [aa_to_i[x[i]] \u001b[39mfor\u001b[39;00m i \u001b[39min\u001b[39;00m columns_to_keep])\u001b[39m.\u001b[39mto_list()\n",
      "File \u001b[0;32m/data/anaconda3/envs/dev_arthur/lib/python3.9/site-packages/pandas/core/series.py:4237\u001b[0m, in \u001b[0;36mSeries.map\u001b[0;34m(self, arg, na_action)\u001b[0m\n\u001b[1;32m   4162\u001b[0m \u001b[39mdef\u001b[39;00m \u001b[39mmap\u001b[39m(\u001b[39mself\u001b[39m, arg, na_action\u001b[39m=\u001b[39m\u001b[39mNone\u001b[39;00m) \u001b[39m-\u001b[39m\u001b[39m>\u001b[39m Series:\n\u001b[1;32m   4163\u001b[0m     \u001b[39m\"\"\"\u001b[39;00m\n\u001b[1;32m   4164\u001b[0m \u001b[39m    Map values of Series according to an input mapping or function.\u001b[39;00m\n\u001b[1;32m   4165\u001b[0m \n\u001b[0;32m   (...)\u001b[0m\n\u001b[1;32m   4235\u001b[0m \u001b[39m    dtype: object\u001b[39;00m\n\u001b[1;32m   4236\u001b[0m \u001b[39m    \"\"\"\u001b[39;00m\n\u001b[0;32m-> 4237\u001b[0m     new_values \u001b[39m=\u001b[39m \u001b[39mself\u001b[39;49m\u001b[39m.\u001b[39;49m_map_values(arg, na_action\u001b[39m=\u001b[39;49mna_action)\n\u001b[1;32m   4238\u001b[0m     \u001b[39mreturn\u001b[39;00m \u001b[39mself\u001b[39m\u001b[39m.\u001b[39m_constructor(new_values, index\u001b[39m=\u001b[39m\u001b[39mself\u001b[39m\u001b[39m.\u001b[39mindex)\u001b[39m.\u001b[39m__finalize__(\n\u001b[1;32m   4239\u001b[0m         \u001b[39mself\u001b[39m, method\u001b[39m=\u001b[39m\u001b[39m\"\u001b[39m\u001b[39mmap\u001b[39m\u001b[39m\"\u001b[39m\n\u001b[1;32m   4240\u001b[0m     )\n",
      "File \u001b[0;32m/data/anaconda3/envs/dev_arthur/lib/python3.9/site-packages/pandas/core/base.py:880\u001b[0m, in \u001b[0;36mIndexOpsMixin._map_values\u001b[0;34m(self, mapper, na_action)\u001b[0m\n\u001b[1;32m    877\u001b[0m         \u001b[39mraise\u001b[39;00m \u001b[39mValueError\u001b[39;00m(msg)\n\u001b[1;32m    879\u001b[0m \u001b[39m# mapper is a function\u001b[39;00m\n\u001b[0;32m--> 880\u001b[0m new_values \u001b[39m=\u001b[39m map_f(values, mapper)\n\u001b[1;32m    882\u001b[0m \u001b[39mreturn\u001b[39;00m new_values\n",
      "File \u001b[0;32m/data/anaconda3/envs/dev_arthur/lib/python3.9/site-packages/pandas/_libs/lib.pyx:2870\u001b[0m, in \u001b[0;36mpandas._libs.lib.map_infer\u001b[0;34m()\u001b[0m\n",
      "\u001b[1;32m/home/arthur/dev/msa_classify/Process_DMS_Data.ipynb Cell 11\u001b[0m in \u001b[0;36m<lambda>\u001b[0;34m(x)\u001b[0m\n\u001b[1;32m      <a href='vscode-notebook-cell://ssh-remote%2Bwhale.bair.berkeley.edu/home/arthur/dev/msa_classify/Process_DMS_Data.ipynb#X13sdnNjb2RlLXJlbW90ZQ%3D%3D?line=0'>1</a>\u001b[0m \u001b[39m# Get the DMS sequences, which we use to evaluate the performance of our model\u001b[39;00m\n\u001b[0;32m----> <a href='vscode-notebook-cell://ssh-remote%2Bwhale.bair.berkeley.edu/home/arthur/dev/msa_classify/Process_DMS_Data.ipynb#X13sdnNjb2RlLXJlbW90ZQ%3D%3D?line=1'>2</a>\u001b[0m mutant_sequences_to_keep \u001b[39m=\u001b[39m mut_df\u001b[39m.\u001b[39mmutant\u001b[39m.\u001b[39mmap(\u001b[39mlambda\u001b[39;00m x: np\u001b[39m.\u001b[39mall([\u001b[39mint\u001b[39m(y[\u001b[39m1\u001b[39m:\u001b[39m-\u001b[39m\u001b[39m1\u001b[39m])\u001b[39m-\u001b[39m\u001b[39m1\u001b[39m \u001b[39min\u001b[39;00m columns_to_keep \u001b[39mfor\u001b[39;00m y \u001b[39min\u001b[39;00m x\u001b[39m.\u001b[39msplit(\u001b[39m\"\u001b[39m\u001b[39m:\u001b[39m\u001b[39m\"\u001b[39m)]))\n\u001b[1;32m      <a href='vscode-notebook-cell://ssh-remote%2Bwhale.bair.berkeley.edu/home/arthur/dev/msa_classify/Process_DMS_Data.ipynb#X13sdnNjb2RlLXJlbW90ZQ%3D%3D?line=2'>3</a>\u001b[0m sub_mut_df \u001b[39m=\u001b[39m mut_df\u001b[39m.\u001b[39mloc[mutant_sequences_to_keep]\n\u001b[1;32m      <a href='vscode-notebook-cell://ssh-remote%2Bwhale.bair.berkeley.edu/home/arthur/dev/msa_classify/Process_DMS_Data.ipynb#X13sdnNjb2RlLXJlbW90ZQ%3D%3D?line=3'>4</a>\u001b[0m mut_seqs \u001b[39m=\u001b[39m sub_mut_df\u001b[39m.\u001b[39mmutated_sequence\u001b[39m.\u001b[39mmap(\u001b[39mlambda\u001b[39;00m x: [aa_to_i[x[i]] \u001b[39mfor\u001b[39;00m i \u001b[39min\u001b[39;00m columns_to_keep])\u001b[39m.\u001b[39mto_list()\n",
      "\u001b[1;32m/home/arthur/dev/msa_classify/Process_DMS_Data.ipynb Cell 11\u001b[0m in \u001b[0;36m<listcomp>\u001b[0;34m(.0)\u001b[0m\n\u001b[1;32m      <a href='vscode-notebook-cell://ssh-remote%2Bwhale.bair.berkeley.edu/home/arthur/dev/msa_classify/Process_DMS_Data.ipynb#X13sdnNjb2RlLXJlbW90ZQ%3D%3D?line=0'>1</a>\u001b[0m \u001b[39m# Get the DMS sequences, which we use to evaluate the performance of our model\u001b[39;00m\n\u001b[0;32m----> <a href='vscode-notebook-cell://ssh-remote%2Bwhale.bair.berkeley.edu/home/arthur/dev/msa_classify/Process_DMS_Data.ipynb#X13sdnNjb2RlLXJlbW90ZQ%3D%3D?line=1'>2</a>\u001b[0m mutant_sequences_to_keep \u001b[39m=\u001b[39m mut_df\u001b[39m.\u001b[39mmutant\u001b[39m.\u001b[39mmap(\u001b[39mlambda\u001b[39;00m x: np\u001b[39m.\u001b[39mall([\u001b[39mint\u001b[39m(y[\u001b[39m1\u001b[39m:\u001b[39m-\u001b[39m\u001b[39m1\u001b[39m])\u001b[39m-\u001b[39m\u001b[39m1\u001b[39m \u001b[39min\u001b[39;00m columns_to_keep \u001b[39mfor\u001b[39;00m y \u001b[39min\u001b[39;00m x\u001b[39m.\u001b[39msplit(\u001b[39m\"\u001b[39m\u001b[39m:\u001b[39m\u001b[39m\"\u001b[39m)]))\n\u001b[1;32m      <a href='vscode-notebook-cell://ssh-remote%2Bwhale.bair.berkeley.edu/home/arthur/dev/msa_classify/Process_DMS_Data.ipynb#X13sdnNjb2RlLXJlbW90ZQ%3D%3D?line=2'>3</a>\u001b[0m sub_mut_df \u001b[39m=\u001b[39m mut_df\u001b[39m.\u001b[39mloc[mutant_sequences_to_keep]\n\u001b[1;32m      <a href='vscode-notebook-cell://ssh-remote%2Bwhale.bair.berkeley.edu/home/arthur/dev/msa_classify/Process_DMS_Data.ipynb#X13sdnNjb2RlLXJlbW90ZQ%3D%3D?line=3'>4</a>\u001b[0m mut_seqs \u001b[39m=\u001b[39m sub_mut_df\u001b[39m.\u001b[39mmutated_sequence\u001b[39m.\u001b[39mmap(\u001b[39mlambda\u001b[39;00m x: [aa_to_i[x[i]] \u001b[39mfor\u001b[39;00m i \u001b[39min\u001b[39;00m columns_to_keep])\u001b[39m.\u001b[39mto_list()\n",
      "\u001b[0;31mNameError\u001b[0m: name 'columns_to_keep' is not defined"
     ]
    }
   ],
   "source": [
    "# Get the DMS sequences, which we use to evaluate the performance of our model\n",
    "mutant_sequences_to_keep = mut_df.mutant.map(lambda x: np.all([int(y[1:-1])-1 in columns_to_keep for y in x.split(\":\")]))\n",
    "sub_mut_df = mut_df.loc[mutant_sequences_to_keep]\n",
    "mut_seqs = sub_mut_df.mutated_sequence.map(lambda x: [aa_to_i[x[i]] for i in columns_to_keep]).to_list()\n",
    "mut_seqs = np.asarray(mut_seqs)\n",
    "# Get ground truth DMS scores\n",
    "y_dms = sub_mut_df.DMS_score.to_numpy()\n",
    "# Get ground truth DMS class (0/1 where 1 is fit and 0 is unfit)\n",
    "y_bin = sub_mut_df.DMS_score_bin.to_numpy()\n",
    "res_df = res_df.loc[mutant_sequences_to_keep]\n",
    "print(dataset)\n",
    "# Print EVMutation spearman\n",
    "print(scipy.stats.spearmanr(res_df.EVmutation, res_df.DMS_score).correlation)\n",
    "# Print EVMutation AUROC\n",
    "print(roc_auc_score(y_bin, res_df.EVmutation))"
   ]
  },
  {
   "cell_type": "code",
   "execution_count": null,
   "id": "3318ab96",
   "metadata": {},
   "outputs": [],
   "source": [
    "re"
   ]
  }
 ],
 "metadata": {
  "kernelspec": {
   "display_name": "Python 3.9.5 ('dev_arthur')",
   "language": "python",
   "name": "python3"
  },
  "language_info": {
   "codemirror_mode": {
    "name": "ipython",
    "version": 3
   },
   "file_extension": ".py",
   "mimetype": "text/x-python",
   "name": "python",
   "nbconvert_exporter": "python",
   "pygments_lexer": "ipython3",
   "version": "3.9.5"
  },
  "name": "Process_DMS_Data.ipynb",
  "vscode": {
   "interpreter": {
    "hash": "2b975e03f1e86e078ea1d566012707067ac1f6e4c759ff48317f6f9dc08e1449"
   }
  }
 },
 "nbformat": 4,
 "nbformat_minor": 5
}
