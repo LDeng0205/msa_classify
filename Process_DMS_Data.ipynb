{
 "cells": [
  {
   "cell_type": "code",
   "execution_count": 1,
   "id": "c7bc2fc9",
   "metadata": {
    "collapsed": false
   },
   "outputs": [],
   "source": [
    "import pandas as pd\n",
    "import numpy as np\n",
    "from pathlib import Path\n",
    "from collections import OrderedDict\n",
    "# biopython SeqIO\n",
    "from Bio import SeqIO\n",
    "from sklearn.metrics import roc_auc_score\n",
    "import scipy\n",
    "ALPHABET_PROTEIN = '-ACDEFGHIKLMNPQRSTVWY'"
   ]
  },
  {
   "cell_type": "code",
   "execution_count": 2,
   "id": "43b330e8",
   "metadata": {
    "collapsed": false
   },
   "outputs": [],
   "source": [
    "# Protein amino acid alphabet + gap character \"-\"\n",
    "alphabet = '-ACDEFGHIKLMNPQRSTVWY'\n",
    "# map amino acids to index\n",
    "aa_to_i = {aa:i for i, aa in enumerate(alphabet)}\n",
    "# map index to amino acids\n",
    "i_to_a = {i:aa for i, aa in enumerate(alphabet)}"
   ]
  },
  {
   "cell_type": "code",
   "execution_count": 21,
   "id": "4258286d",
   "metadata": {
    "collapsed": false
   },
   "outputs": [],
   "source": [
    "def encode(seqs, alphabet=ALPHABET_PROTEIN):\n",
    "    '''\n",
    "    Go from letters to numbers\n",
    "    '''\n",
    "    aa_to_i = OrderedDict((aa, i) for i, aa in enumerate( alphabet ))\n",
    "    X = np.asarray([[aa_to_i[x] for x in seq] \n",
    "                    for seq in seqs])\n",
    "    return X, aa_to_i\n",
    "\n",
    "def check_sequence(s, alphabet=ALPHABET_PROTEIN):\n",
    "    for aa in s:\n",
    "        if aa not in ALPHABET_PROTEIN:\n",
    "            return False\n",
    "    return True\n",
    "\n",
    "def one_hot_encode(s):\n",
    "    return np.eye(21)[s].flatten()"
   ]
  },
  {
   "cell_type": "code",
   "execution_count": 9,
   "id": "fdd9f489",
   "metadata": {
    "collapsed": false
   },
   "outputs": [
    {
     "data": {
      "text/html": [
       "<div>\n",
       "<style scoped>\n",
       "    .dataframe tbody tr th:only-of-type {\n",
       "        vertical-align: middle;\n",
       "    }\n",
       "\n",
       "    .dataframe tbody tr th {\n",
       "        vertical-align: top;\n",
       "    }\n",
       "\n",
       "    .dataframe thead th {\n",
       "        text-align: right;\n",
       "    }\n",
       "</style>\n",
       "<table border=\"1\" class=\"dataframe\">\n",
       "  <thead>\n",
       "    <tr style=\"text-align: right;\">\n",
       "      <th></th>\n",
       "      <th>Dataset</th>\n",
       "      <th>EVmutation</th>\n",
       "      <th>EVE_ensemble</th>\n",
       "      <th>UniProt_ID</th>\n",
       "      <th>Neff_L_category</th>\n",
       "      <th>Taxon</th>\n",
       "    </tr>\n",
       "  </thead>\n",
       "  <tbody>\n",
       "    <tr>\n",
       "      <th>13</th>\n",
       "      <td>BLAT_ECOLX_Firnberg_2014</td>\n",
       "      <td>0.708</td>\n",
       "      <td>0.729</td>\n",
       "      <td>BLAT_ECOLX</td>\n",
       "      <td>high</td>\n",
       "      <td>Prokaryote</td>\n",
       "    </tr>\n",
       "    <tr>\n",
       "      <th>15</th>\n",
       "      <td>BLAT_ECOLX_Stiffler_2015</td>\n",
       "      <td>0.707</td>\n",
       "      <td>0.727</td>\n",
       "      <td>BLAT_ECOLX</td>\n",
       "      <td>high</td>\n",
       "      <td>Prokaryote</td>\n",
       "    </tr>\n",
       "    <tr>\n",
       "      <th>14</th>\n",
       "      <td>BLAT_ECOLX_Jacquier_2013</td>\n",
       "      <td>0.689</td>\n",
       "      <td>0.723</td>\n",
       "      <td>BLAT_ECOLX</td>\n",
       "      <td>high</td>\n",
       "      <td>Prokaryote</td>\n",
       "    </tr>\n",
       "    <tr>\n",
       "      <th>23</th>\n",
       "      <td>CP2C9_HUMAN_Amorosi_activity_2021</td>\n",
       "      <td>0.590</td>\n",
       "      <td>0.635</td>\n",
       "      <td>CP2C9_HUMAN</td>\n",
       "      <td>high</td>\n",
       "      <td>Human</td>\n",
       "    </tr>\n",
       "    <tr>\n",
       "      <th>22</th>\n",
       "      <td>CP2C9_HUMAN_Amorosi_abundance_2021</td>\n",
       "      <td>0.572</td>\n",
       "      <td>0.610</td>\n",
       "      <td>CP2C9_HUMAN</td>\n",
       "      <td>high</td>\n",
       "      <td>Human</td>\n",
       "    </tr>\n",
       "    <tr>\n",
       "      <th>41</th>\n",
       "      <td>KKA2_KLEPN_Melnikov_2014</td>\n",
       "      <td>0.530</td>\n",
       "      <td>0.603</td>\n",
       "      <td>KKA2_KLEPN</td>\n",
       "      <td>high</td>\n",
       "      <td>Prokaryote</td>\n",
       "    </tr>\n",
       "    <tr>\n",
       "      <th>21</th>\n",
       "      <td>CCDB_ECOLI_Tripathi_2016</td>\n",
       "      <td>0.506</td>\n",
       "      <td>0.528</td>\n",
       "      <td>CCDB_ECOLI</td>\n",
       "      <td>high</td>\n",
       "      <td>Prokaryote</td>\n",
       "    </tr>\n",
       "    <tr>\n",
       "      <th>12</th>\n",
       "      <td>BLAT_ECOLX_Deng_2012</td>\n",
       "      <td>0.504</td>\n",
       "      <td>0.508</td>\n",
       "      <td>BLAT_ECOLX</td>\n",
       "      <td>high</td>\n",
       "      <td>Prokaryote</td>\n",
       "    </tr>\n",
       "    <tr>\n",
       "      <th>39</th>\n",
       "      <td>IF1_ECOLI_Kelsic_2016</td>\n",
       "      <td>0.499</td>\n",
       "      <td>0.537</td>\n",
       "      <td>IF1_ECOLI</td>\n",
       "      <td>high</td>\n",
       "      <td>Prokaryote</td>\n",
       "    </tr>\n",
       "    <tr>\n",
       "      <th>7</th>\n",
       "      <td>A4GRB6_PSEAI_Chen_2020</td>\n",
       "      <td>0.492</td>\n",
       "      <td>0.641</td>\n",
       "      <td>A4GRB6_PSEAI</td>\n",
       "      <td>high</td>\n",
       "      <td>Prokaryote</td>\n",
       "    </tr>\n",
       "    <tr>\n",
       "      <th>20</th>\n",
       "      <td>CCDB_ECOLI_Adkar_2012</td>\n",
       "      <td>0.486</td>\n",
       "      <td>0.531</td>\n",
       "      <td>CCDB_ECOLI</td>\n",
       "      <td>high</td>\n",
       "      <td>Prokaryote</td>\n",
       "    </tr>\n",
       "    <tr>\n",
       "      <th>8</th>\n",
       "      <td>AACC1_PSEAI_Dandage_2018</td>\n",
       "      <td>0.474</td>\n",
       "      <td>0.491</td>\n",
       "      <td>AACC1_PSEAI</td>\n",
       "      <td>high</td>\n",
       "      <td>Prokaryote</td>\n",
       "    </tr>\n",
       "    <tr>\n",
       "      <th>47</th>\n",
       "      <td>NUD15_HUMAN_Suiter_2020</td>\n",
       "      <td>0.453</td>\n",
       "      <td>0.594</td>\n",
       "      <td>NUD15_HUMAN</td>\n",
       "      <td>high</td>\n",
       "      <td>Human</td>\n",
       "    </tr>\n",
       "    <tr>\n",
       "      <th>10</th>\n",
       "      <td>AMIE_PSEAE_Wrenbeck_2017</td>\n",
       "      <td>0.443</td>\n",
       "      <td>0.464</td>\n",
       "      <td>AMIE_PSEAE</td>\n",
       "      <td>high</td>\n",
       "      <td>Prokaryote</td>\n",
       "    </tr>\n",
       "    <tr>\n",
       "      <th>62</th>\n",
       "      <td>RASH_HUMAN_Bandaru_2017</td>\n",
       "      <td>0.436</td>\n",
       "      <td>0.480</td>\n",
       "      <td>RASH_HUMAN</td>\n",
       "      <td>high</td>\n",
       "      <td>Human</td>\n",
       "    </tr>\n",
       "    <tr>\n",
       "      <th>29</th>\n",
       "      <td>ESTA_BACSU_Nutschel_2020</td>\n",
       "      <td>0.399</td>\n",
       "      <td>0.387</td>\n",
       "      <td>ESTA_BACSU</td>\n",
       "      <td>high</td>\n",
       "      <td>Prokaryote</td>\n",
       "    </tr>\n",
       "    <tr>\n",
       "      <th>30</th>\n",
       "      <td>F7YBW8_MESOW_Aakre_2015</td>\n",
       "      <td>0.395</td>\n",
       "      <td>0.430</td>\n",
       "      <td>F7YBW8_MESOW</td>\n",
       "      <td>high</td>\n",
       "      <td>Prokaryote</td>\n",
       "    </tr>\n",
       "    <tr>\n",
       "      <th>73</th>\n",
       "      <td>SUMO1_HUMAN_Weile_2017</td>\n",
       "      <td>0.373</td>\n",
       "      <td>0.478</td>\n",
       "      <td>SUMO1_HUMAN</td>\n",
       "      <td>high</td>\n",
       "      <td>Human</td>\n",
       "    </tr>\n",
       "    <tr>\n",
       "      <th>18</th>\n",
       "      <td>CALM1_HUMAN_Weile_2017</td>\n",
       "      <td>0.233</td>\n",
       "      <td>0.236</td>\n",
       "      <td>CALM1_HUMAN</td>\n",
       "      <td>high</td>\n",
       "      <td>Human</td>\n",
       "    </tr>\n",
       "    <tr>\n",
       "      <th>76</th>\n",
       "      <td>TAT_HV1BR_Fernandes_2016</td>\n",
       "      <td>0.201</td>\n",
       "      <td>0.300</td>\n",
       "      <td>TAT_HV1BR</td>\n",
       "      <td>high</td>\n",
       "      <td>Virus</td>\n",
       "    </tr>\n",
       "  </tbody>\n",
       "</table>\n",
       "</div>"
      ],
      "text/plain": [
       "                               Dataset  EVmutation  EVE_ensemble  \\\n",
       "13            BLAT_ECOLX_Firnberg_2014       0.708         0.729   \n",
       "15            BLAT_ECOLX_Stiffler_2015       0.707         0.727   \n",
       "14            BLAT_ECOLX_Jacquier_2013       0.689         0.723   \n",
       "23   CP2C9_HUMAN_Amorosi_activity_2021       0.590         0.635   \n",
       "22  CP2C9_HUMAN_Amorosi_abundance_2021       0.572         0.610   \n",
       "41            KKA2_KLEPN_Melnikov_2014       0.530         0.603   \n",
       "21            CCDB_ECOLI_Tripathi_2016       0.506         0.528   \n",
       "12                BLAT_ECOLX_Deng_2012       0.504         0.508   \n",
       "39               IF1_ECOLI_Kelsic_2016       0.499         0.537   \n",
       "7               A4GRB6_PSEAI_Chen_2020       0.492         0.641   \n",
       "20               CCDB_ECOLI_Adkar_2012       0.486         0.531   \n",
       "8             AACC1_PSEAI_Dandage_2018       0.474         0.491   \n",
       "47             NUD15_HUMAN_Suiter_2020       0.453         0.594   \n",
       "10            AMIE_PSEAE_Wrenbeck_2017       0.443         0.464   \n",
       "62             RASH_HUMAN_Bandaru_2017       0.436         0.480   \n",
       "29            ESTA_BACSU_Nutschel_2020       0.399         0.387   \n",
       "30             F7YBW8_MESOW_Aakre_2015       0.395         0.430   \n",
       "73              SUMO1_HUMAN_Weile_2017       0.373         0.478   \n",
       "18              CALM1_HUMAN_Weile_2017       0.233         0.236   \n",
       "76            TAT_HV1BR_Fernandes_2016       0.201         0.300   \n",
       "\n",
       "      UniProt_ID Neff_L_category       Taxon  \n",
       "13    BLAT_ECOLX            high  Prokaryote  \n",
       "15    BLAT_ECOLX            high  Prokaryote  \n",
       "14    BLAT_ECOLX            high  Prokaryote  \n",
       "23   CP2C9_HUMAN            high       Human  \n",
       "22   CP2C9_HUMAN            high       Human  \n",
       "41    KKA2_KLEPN            high  Prokaryote  \n",
       "21    CCDB_ECOLI            high  Prokaryote  \n",
       "12    BLAT_ECOLX            high  Prokaryote  \n",
       "39     IF1_ECOLI            high  Prokaryote  \n",
       "7   A4GRB6_PSEAI            high  Prokaryote  \n",
       "20    CCDB_ECOLI            high  Prokaryote  \n",
       "8    AACC1_PSEAI            high  Prokaryote  \n",
       "47   NUD15_HUMAN            high       Human  \n",
       "10    AMIE_PSEAE            high  Prokaryote  \n",
       "62    RASH_HUMAN            high       Human  \n",
       "29    ESTA_BACSU            high  Prokaryote  \n",
       "30  F7YBW8_MESOW            high  Prokaryote  \n",
       "73   SUMO1_HUMAN            high       Human  \n",
       "18   CALM1_HUMAN            high       Human  \n",
       "76     TAT_HV1BR            high       Virus  "
      ]
     },
     "execution_count": 9,
     "metadata": {},
     "output_type": "execute_result"
    }
   ],
   "source": [
    "# Read in the datasets\n",
    "df = pd.read_csv('/home/hunter/projects/recombination/ProteinGym/Tranception/proteingym/Detailed_performance_files/Substitutions/Spearman/all_models_substitutions_Spearman_DMS_level.csv')\n",
    "df = df.rename(columns={df.columns[0]: 'Dataset'})\n",
    "df = df.loc[df.EVmutation.sort_values(ascending=False).index, [\"Dataset\", \"EVmutation\", \"EVE_ensemble\",\"UniProt_ID\", \"Neff_L_category\", \"Taxon\"]]\n",
    "df = df.loc[df.Neff_L_category == 'high']\n",
    "df.head(20)"
   ]
  },
  {
   "cell_type": "code",
   "execution_count": 10,
   "id": "445c8c8f",
   "metadata": {
    "collapsed": false
   },
   "outputs": [],
   "source": [
    "# Grab the first dataset\n",
    "dataset = df.Dataset.iloc[0]\n",
    "\n",
    "# Get all of the MSA files for all of the datasets\n",
    "msa_files = list(Path('/home/hunter/projects/recombination/ProteinGym/MSA_files').glob(\"*.a2m\"))\n",
    "# Get all of the DMS mutation files for all of the datasets\n",
    "mutation_files = list(Path('/home/hunter/projects/recombination/ProteinGym/ProteinGym_substitutions').glob(\"*.csv\"))\n",
    "# Get all of the sequence weight files for all of the datasets\n",
    "weight_files = list(Path('/home/hunter/projects/recombination/ProteinGym/substitutions_MSAs_all_positions').glob(\"*.npy\"))\n",
    "# Get all of the results files for all of the datasets\n",
    "res_files = list(Path('/home/hunter/projects/recombination/ProteinGym/substitutions/').glob(\"*.csv\"))\n",
    "\n",
    "\n",
    "# Find the MSA file for this dataset\n",
    "msa_matches = [f for f in msa_files if dataset.split(\"_\")[0] in f.name]\n",
    "assert len(msa_matches) == 1\n",
    "# Find the DMS mutation file for this dataset\n",
    "mut_matches = [f for f in mutation_files if dataset in f.name]\n",
    "assert len(mut_matches) == 1\n",
    "# Find the sequence weight file for this dataset\n",
    "weight_matches = [f for f in weight_files if dataset.split(\"_\")[0] in f.name]\n",
    "assert len(weight_matches) == 1\n",
    "# Find the results file for this dataset\n",
    "res_matches = [f for f in res_files if dataset == f.stem]\n",
    "assert len(res_matches) == 1\n",
    "\n",
    "msa_fn = msa_matches[0]\n",
    "mut_fn = mut_matches[0]\n",
    "weight_fn = weight_matches[0]\n",
    "res_fn = res_matches[0]\n",
    "mut_df = pd.read_csv(mut_fn)\n",
    "res_df = pd.read_csv(res_fn)"
   ]
  },
  {
   "cell_type": "code",
   "execution_count": 25,
   "id": "7151305d",
   "metadata": {},
   "outputs": [
    {
     "data": {
      "text/plain": [
       "PosixPath('/home/hunter/projects/recombination/ProteinGym/MSA_files/BLAT_ECOLX_full_11-26-2021_b02.a2m')"
      ]
     },
     "execution_count": 25,
     "metadata": {},
     "output_type": "execute_result"
    }
   ],
   "source": [
    "msa_fn"
   ]
  },
  {
   "cell_type": "code",
   "execution_count": 24,
   "id": "f90865fb",
   "metadata": {
    "collapsed": false
   },
   "outputs": [],
   "source": [
    "def process_msa_sequence(msa_fn):\n",
    "    # Process MSA sequences\n",
    "    # one-hot encoded\n",
    "\n",
    "    # read in fasta files\n",
    "    msa_sequences = [str(x.seq) for x in SeqIO.parse(msa_fn, 'fasta')]\n",
    "    # get wild-type sequence\n",
    "    wt_seq = msa_sequences[0]\n",
    "    # keep all the columns\n",
    "    columns_to_keep = [i for i in range(len(wt_seq))]\n",
    "    # upper case all letters\n",
    "    msa_sequences = [[s[i].upper() for i in columns_to_keep] for s in msa_sequences]\n",
    "    # replace \".\" with \"-\"\n",
    "    msa_sequences = [[aa.replace(\".\", \"-\") for aa in s] for s in msa_sequences]\n",
    "    msa_sequences = np.asarray(msa_sequences)\n",
    "    # keep sequences that pass check_sequence\n",
    "    msa_sequences = [s for s in msa_sequences if check_sequence(s)]\n",
    "    msa_sequences = np.asarray(msa_sequences)\n",
    "\n",
    "    seqs_enc, aa_to_i = encode(msa_sequences)\n",
    "    i_to_a = {i:aa for i, aa in enumerate(ALPHABET_PROTEIN)}\n",
    "    weights = np.load(weight_fn)\n",
    "    assert weights.shape[0] == len(msa_sequences)\n",
    "    oh_enc_seq = []\n",
    "    for s in seqs_enc:\n",
    "        oh_enc_seq.append(one_hot_encode(s))\n",
    "    oh_enc_seq = np.asarray(oh_enc_seq)\n",
    "    return oh_enc_seq"
   ]
  },
  {
   "cell_type": "code",
   "execution_count": 23,
   "id": "a7bbf65d",
   "metadata": {
    "collapsed": false
   },
   "outputs": [
    {
     "name": "stdout",
     "output_type": "stream",
     "text": [
      "(208923, 6006)\n"
     ]
    }
   ],
   "source": [
    "one_hot_encode(seqs_enc)\n",
    "\n",
    "print(oh_enc_seq.shape)"
   ]
  },
  {
   "cell_type": "code",
   "execution_count": 20,
   "id": "960259fc",
   "metadata": {
    "collapsed": false
   },
   "outputs": [
    {
     "data": {
      "text/plain": [
       "(208923, 286)"
      ]
     },
     "execution_count": 20,
     "metadata": {},
     "output_type": "execute_result"
    }
   ],
   "source": [
    "seqs_enc.shape"
   ]
  },
  {
   "cell_type": "code",
   "execution_count": 16,
   "id": "8cb48edb",
   "metadata": {
    "collapsed": false
   },
   "outputs": [
    {
     "data": {
      "text/plain": [
       "array([[0., 0., 1.],\n",
       "       [1., 0., 0.],\n",
       "       [0., 1., 0.]])"
      ]
     },
     "execution_count": 16,
     "metadata": {},
     "output_type": "execute_result"
    }
   ],
   "source": [
    "np.eye(3)[[2, 0, 1]]"
   ]
  },
  {
   "cell_type": "code",
   "execution_count": null,
   "id": "645eca91",
   "metadata": {
    "collapsed": false
   },
   "outputs": [],
   "source": [
    "# Get the DMS sequences, which we use to evaluate the performance of our model\n",
    "mutant_sequences_to_keep = mut_df.mutant.map(lambda x: np.all([int(y[1:-1])-1 in columns_to_keep for y in x.split(\":\")]))\n",
    "sub_mut_df = mut_df.loc[mutant_sequences_to_keep]\n",
    "mut_seqs = sub_mut_df.mutated_sequence.map(lambda x: [aa_to_i[x[i]] for i in columns_to_keep]).to_list()\n",
    "mut_seqs = np.asarray(mut_seqs)\n",
    "# Get ground truth DMS scores\n",
    "y_dms = sub_mut_df.DMS_score.to_numpy()\n",
    "# Get ground truth DMS class (0/1 where 1 is fit and 0 is unfit)\n",
    "y_bin = sub_mut_df.DMS_score_bin.to_numpy()\n",
    "res_df = res_df.loc[mutant_sequences_to_keep]\n",
    "print(dataset)\n",
    "# Print EVMutation spearman\n",
    "print(scipy.stats.spearmanr(res_df.EVmutation, res_df.DMS_score).correlation)\n",
    "# Print EVMutation AUROC\n",
    "print(roc_auc_score(y_bin, res_df.EVmutation))"
   ]
  }
 ],
 "metadata": {
  "kernelspec": {
   "display_name": "Python 3.9.5 ('dev_arthur')",
   "language": "python",
   "name": "python3"
  },
  "language_info": {
   "codemirror_mode": {
    "name": "ipython",
    "version": 3
   },
   "file_extension": ".py",
   "mimetype": "text/x-python",
   "name": "python",
   "nbconvert_exporter": "python",
   "pygments_lexer": "ipython3",
   "version": "3.9.5"
  },
  "name": "Process_DMS_Data.ipynb",
  "vscode": {
   "interpreter": {
    "hash": "2b975e03f1e86e078ea1d566012707067ac1f6e4c759ff48317f6f9dc08e1449"
   }
  }
 },
 "nbformat": 4,
 "nbformat_minor": 5
}
