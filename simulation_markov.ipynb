{
 "cells": [
  {
   "cell_type": "code",
   "execution_count": 1,
   "metadata": {},
   "outputs": [],
   "source": [
    "import numpy as np\n",
    "import math\n",
    "import matplotlib.pyplot as plt\n",
    "from matplotlib import animation\n",
    "import pandas as pd\n",
    "import scipy.stats as stats\n",
    "from Bio import SeqIO\n",
    "from model import CouplingsModel"
   ]
  },
  {
   "cell_type": "code",
   "execution_count": 2,
   "metadata": {},
   "outputs": [],
   "source": [
    "### 1. sample from MCMC with a markov process\n",
    "###     Underlying distribution: AA only depends on previous position. Probability bigram matrix of alphabets based on war_and_peace.txt\n",
    "### 2. Create a2m files from the samples\n",
    "### 3. Train a potts model with plmc\n",
    "### 4. Observe dependency matrices\n",
    "np.random.seed(0)\n",
    "ALPHABET_PROTEIN = '-ACDEFGHIKLMNPQRSTVWY'"
   ]
  },
  {
   "cell_type": "code",
   "execution_count": 3,
   "metadata": {},
   "outputs": [],
   "source": [
    "### first learn the conditional probabilities\n",
    "input_file = \"war_and_peace.txt\"\n",
    "\n",
    "def build_bigram_freq_matrix(input_file):\n",
    "    \"\"\"\n",
    "    Builds a matrix that represents the transitional\n",
    "    probabilities between letters in input_file.\n",
    "    \n",
    "    bigram_freq_matrix[0][1] is the probability of\n",
    "    transitioning from the 0th letter of the alphabet\n",
    "    to the 1st letter of the alphabet, where letters\n",
    "    are zero-indexed. ' ' (space) is denoted as the\n",
    "    26th letter of the alphabet.\n",
    "    \"\"\"\n",
    "    counts = np.ones([27, 27])\n",
    "    with open(input_file, 'r', encoding='utf8') as f:\n",
    "        for _ in range(100000):\n",
    "            line = f.readline()\n",
    "            if len(line) > 2:\n",
    "                for i in range(len(line) - 2):\n",
    "                    first_char = ord(line[i].upper()) - 65 if line[i].isalpha() else 26\n",
    "                    second_char = ord(line[i+1].upper()) - 65 if line[i+1].isalpha() else 26\n",
    "                    if not (first_char == 26 and second_char == 26) and first_char <= 26 and second_char <= 26:\n",
    "                        counts[first_char][second_char] += 1\n",
    "        bigram_freq_matrix = (counts.T / np.sum(counts, axis=1)).T\n",
    "    return bigram_freq_matrix\n",
    "\n",
    "freq_matrix = build_bigram_freq_matrix(input_file)\n",
    "\n",
    "### freq_matrix is based on all 26 letters of the english alphabet + space\n",
    "### map the matrix to protein alphabets\n",
    "indices = []\n",
    "for aa in list(ALPHABET_PROTEIN):\n",
    "    if aa == '-':\n",
    "        indices.append(26)\n",
    "    else:\n",
    "        indices.append(ord(aa)-ord('A'))\n"
   ]
  },
  {
   "cell_type": "code",
   "execution_count": 6,
   "metadata": {},
   "outputs": [
    {
     "data": {
      "text/plain": [
       "<matplotlib.image.AxesImage at 0x7f4ce46bf670>"
      ]
     },
     "execution_count": 6,
     "metadata": {},
     "output_type": "execute_result"
    },
    {
     "data": {
      "image/png": "[encoded data removed]",
      "text/plain": [
       "<Figure size 640x480 with 1 Axes>"
      ]
     },
     "metadata": {},
     "output_type": "display_data"
    }
   ],
   "source": [
    "### only take letters in the protiein alphabet\n",
    "\n",
    "protein_freq_matrix = freq_matrix[indices]\n",
    "protein_freq_matrix = protein_freq_matrix[:, indices]\n",
    "\n",
    "### normalize it so probabilities sum to 1\n",
    "for x in protein_freq_matrix:\n",
    "    x /= np.sum(x)\n",
    "\n",
    "### check for valid probabilities\n",
    "\n",
    "assert np.all(protein_freq_matrix >= 0) and np.all(protein_freq_matrix <= 1)\n",
    "plt.imshow(protein_freq_matrix, cmap='binary', interpolation='none')    "
   ]
  },
  {
   "cell_type": "code",
   "execution_count": 13,
   "metadata": {},
   "outputs": [],
   "source": [
    "def sample(bigram, length, first_letter):\n",
    "    seq = first_letter\n",
    "    cur_letter = first_letter\n",
    "    while len(seq) < length:\n",
    "        # iteratively append to the sequence according to bigram frequency\n",
    "        bigram_freq = bigram[ALPHABET_PROTEIN.index(cur_letter)]\n",
    "        \n",
    "        # draw next letter from the given bigram distribution\n",
    "        next_letter = np.random.choice(list(ALPHABET_PROTEIN), p=bigram_freq)\n",
    "        seq += next_letter\n",
    "        cur_letter = next_letter\n",
    "    return seq\n",
    "\n",
    "def draw_samples_MP(bigram, length, n):\n",
    "    samples = []\n",
    "    for _ in range(n):\n",
    "        random_first_letter = np.random.choice(list(ALPHABET_PROTEIN))\n",
    "        samples.append(sample(bigram, length, random_first_letter))\n",
    "    return samples"
   ]
  },
  {
   "cell_type": "code",
   "execution_count": 15,
   "metadata": {},
   "outputs": [],
   "source": [
    "data = draw_samples_MP(protein_freq_matrix, 5, 100000)"
   ]
  },
  {
   "cell_type": "code",
   "execution_count": null,
   "metadata": {},
   "outputs": [],
   "source": []
  }
 ],
 "metadata": {
  "kernelspec": {
   "display_name": "Python 3.9.5 ('dev_arthur')",
   "language": "python",
   "name": "python3"
  },
  "language_info": {
   "codemirror_mode": {
    "name": "ipython",
    "version": 3
   },
   "file_extension": ".py",
   "mimetype": "text/x-python",
   "name": "python",
   "nbconvert_exporter": "python",
   "pygments_lexer": "ipython3",
   "version": "3.9.5"
  },
  "orig_nbformat": 4,
  "vscode": {
   "interpreter": {
    "hash": "2b975e03f1e86e078ea1d566012707067ac1f6e4c759ff48317f6f9dc08e1449"
   }
  }
 },
 "nbformat": 4,
 "nbformat_minor": 2
}
