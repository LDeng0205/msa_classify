{
 "cells": [
  {
   "cell_type": "code",
   "execution_count": 1,
   "metadata": {},
   "outputs": [],
   "source": [
    "### replicate results of EVmutation with the PABP_YEAST dataset\n",
    "import pandas as pd\n",
    "import numpy as np\n",
    "import matplotlib.pyplot as plt\n",
    "from model import CouplingsModel\n",
    "import tools\n",
    "import scipy\n",
    "from pathlib import Path\n",
    "from collections import OrderedDict\n",
    "# biopython SeqIO\n",
    "from Bio import SeqIO\n",
    "from sklearn.metrics import roc_auc_score\n",
    "import scipy\n",
    "from collections import OrderedDict\n",
    "from sklearn.svm import OneClassSVM\n",
    "from datetime import datetime\n"
   ]
  },
  {
   "cell_type": "code",
   "execution_count": 2,
   "metadata": {},
   "outputs": [],
   "source": [
    "ALPHABET_PROTEIN = '-ACDEFGHIKLMNPQRSTVWY'\n",
    "np.random.seed(0)"
   ]
  },
  {
   "cell_type": "code",
   "execution_count": 3,
   "metadata": {},
   "outputs": [],
   "source": [
    "# helper functions\n",
    "def encode(seqs, alphabet=ALPHABET_PROTEIN):\n",
    "    '''\n",
    "    Go from letters to numbers\n",
    "    '''\n",
    "    aa_to_i = OrderedDict((aa, i) for i, aa in enumerate( alphabet ))\n",
    "    X = np.asarray([[aa_to_i[x] for x in seq] \n",
    "                    for seq in seqs])\n",
    "    return X, aa_to_i\n",
    "def one_hot_encode(s):\n",
    "    return np.vstack([np.zeros(20), np.eye(20)])[s].flatten()\n",
    "\n",
    "def check_sequence(s, alphabet=ALPHABET_PROTEIN):\n",
    "    for aa in s:\n",
    "        if aa not in ALPHABET_PROTEIN:\n",
    "            return False\n",
    "    return True\n",
    "def process_msa_sequence(msa_sequences):\n",
    "    ''' takes in list of sequences and one-hot encodes the sequences'''\n",
    "    pos_upper = [x for x in range(len(msa_sequences[0])) if not msa_sequences[0][x].islower()]\n",
    "    msa_sequences = np.asarray([np.asarray(list(s))[pos_upper] for s in msa_sequences if not 'x' in s])\n",
    "    msa_sequences = np.asarray([s for s in msa_sequences if check_sequence(s) and len(s)==82])\n",
    "    msa_sequences = np.asarray(msa_sequences)\n",
    "\n",
    "    seqs_enc, aa_to_i = encode(msa_sequences)\n",
    "    oh_enc_seq = []\n",
    "    for s in seqs_enc:\n",
    "        oh_enc_seq.append(one_hot_encode(s))\n",
    "    oh_enc_seq = np.asarray(oh_enc_seq)\n",
    "    return oh_enc_seq\n",
    "\n",
    "def valid_weights_from_model(c):\n",
    "    ### returns only valid weights\n",
    "    _w = c.weights\n",
    "    _w_valid = []\n",
    "    for i in range(c.weights.shape[0]):\n",
    "        if _w[i] == 0: \n",
    "            continue\n",
    "        _w_valid.append(1/_w[i])\n",
    "    return _w_valid\n",
    "\n",
    "def unison_shuffled_copies(a, b):\n",
    "    assert len(a) == len(b)\n",
    "    p = np.random.permutation(len(a))\n",
    "    return a[p], b[p]"
   ]
  },
  {
   "attachments": {},
   "cell_type": "markdown",
   "metadata": {},
   "source": [
    "Preprocessing sequence data"
   ]
  },
  {
   "cell_type": "code",
   "execution_count": 4,
   "metadata": {},
   "outputs": [],
   "source": [
    "### get all available msa sequences\n",
    "yeast_seq_str = []\n",
    "fasta_sequences = SeqIO.parse(open(\"PABP_YEAST/data/PABP_YEAST.a2m\"),'fasta')\n",
    "for fasta in fasta_sequences:\n",
    "    yeast_seq_str.append(str(fasta.seq))\n",
    "\n",
    "processed = process_msa_sequence(yeast_seq_str)\n",
    "c = CouplingsModel(f\"PABP_YEAST/model/PABP_YEAST.model_params\")\n",
    "weights = valid_weights_from_model(c)\n",
    "assert len(weights) == len(processed)\n",
    "wildtype_processed, wildtype_weights = processed[0], weights[0]\n",
    "processed, weights = np.asarray(processed[1:]), np.asarray(weights[1:])\n",
    "processed, weights = unison_shuffled_copies(processed, weights)"
   ]
  },
  {
   "cell_type": "code",
   "execution_count": null,
   "metadata": {},
   "outputs": [
    {
     "name": "stdout",
     "output_type": "stream",
     "text": [
      "(1188, 1640)\n"
     ]
    }
   ],
   "source": [
    "# using the trained svm model on DMS data\n",
    "wildtype = yeast_seq_str[0]\n",
    "data = pd.read_csv(\n",
    "    \"PABP_YEAST/data/PABP_YEAST_Fields2013-singles.csv\", sep=\";\", comment=\"#\"\n",
    ")\n",
    "mutant, label_dms = data['mutant'].to_numpy(), data['linear'].to_numpy()\n",
    "label = np.zeros(label_dms.shape[0])\n",
    "for i in range(label_dms.shape[0]):\n",
    "    label[i] = 1 if label_dms[i] > 0.7 else 0\n",
    "mutant_data = []\n",
    "for m in mutant:\n",
    "    original_aa, loc, mutant_aa = m[0], int(m[1:4])-115, m[4]\n",
    "    print(m, ' ', original_aa, loc, mutant_qq\n",
    "    assert wildtype[loc] == original_aa\n",
    "    mutant_data.append(wildtype[:loc]+mutant_aa+wildtype[loc+1:])\n",
    "mutant_data = np.asarray(mutant_data)\n",
    "mutant_data = process_msa_sequence(mutant_data)\n",
    "\n",
    "mutant_data, label = np.asarray(mutant_data), np.asarray(label)\n",
    "mutant_data, label = unison_shuffled_copies(mutant_data, label)\n",
    "print(mutant_data.shape)"
   ]
  },
  {
   "attachments": {},
   "cell_type": "markdown",
   "metadata": {},
   "source": [
    "Experiment 1: Train a OneClassSVM with polynomial degree 2 kernel on MSA sequences. "
   ]
  },
  {
   "cell_type": "code",
   "execution_count": null,
   "metadata": {},
   "outputs": [],
   "source": [
    "### The classifier has some effect on MSA data. ~2700 out of 5000 total positive samples have been classified correctly from the MSA dataset\n",
    "\n",
    "clf = OneClassSVM(kernel='poly', degree=2, nu=0.3)\n",
    "train = processed[:50000]\n",
    "clf.fit(train, sample_weight=weights[:50000])\n",
    "pred = clf.predict(processed[50000:55000])\n",
    "print(pred[np.where(pred==1)].shape)"
   ]
  },
  {
   "cell_type": "code",
   "execution_count": 43,
   "metadata": {},
   "outputs": [
    {
     "ename": "NameError",
     "evalue": "name 'clf' is not defined",
     "output_type": "error",
     "traceback": [
      "\u001b[0;31m---------------------------------------------------------------------------\u001b[0m",
      "\u001b[0;31mNameError\u001b[0m                                 Traceback (most recent call last)",
      "\u001b[1;32m/home/arthur/dev/msa_classify/svm_yeast.ipynb Cell 14\u001b[0m in \u001b[0;36m<cell line: 1>\u001b[0;34m()\u001b[0m\n\u001b[0;32m----> <a href='vscode-notebook-cell://ssh-remote%2Bwhale.bair.berkeley.edu/home/arthur/dev/msa_classify/svm_yeast.ipynb#X16sdnNjb2RlLXJlbW90ZQ%3D%3D?line=0'>1</a>\u001b[0m mutant_pred \u001b[39m=\u001b[39m clf\u001b[39m.\u001b[39mpredict(mutant_data)\n",
      "\u001b[0;31mNameError\u001b[0m: name 'clf' is not defined"
     ]
    }
   ],
   "source": [
    "### The classifier does shitty job for mutant sequences (DMS).\n",
    "mutant_pred = clf.predict(mutant_data)\n",
    "print(pred[np.where(mutant_pred==1)].shape)"
   ]
  },
  {
   "attachments": {},
   "cell_type": "markdown",
   "metadata": {},
   "source": [
    "Experiment 2: Train a OneClassSVM with polynomial degree 2 kernel on DMS sequences."
   ]
  },
  {
   "cell_type": "code",
   "execution_count": 44,
   "metadata": {},
   "outputs": [
    {
     "ename": "NameError",
     "evalue": "name 'pred' is not defined",
     "output_type": "error",
     "traceback": [
      "\u001b[0;31m---------------------------------------------------------------------------\u001b[0m",
      "\u001b[0;31mNameError\u001b[0m                                 Traceback (most recent call last)",
      "\u001b[1;32m/home/arthur/dev/msa_classify/svm_yeast.ipynb Cell 15\u001b[0m in \u001b[0;36m<cell line: 1>\u001b[0;34m()\u001b[0m\n\u001b[0;32m----> <a href='vscode-notebook-cell://ssh-remote%2Bwhale.bair.berkeley.edu/home/arthur/dev/msa_classify/svm_yeast.ipynb#X20sdnNjb2RlLXJlbW90ZQ%3D%3D?line=0'>1</a>\u001b[0m pred[np\u001b[39m.\u001b[39mwhere(mutant_pred\u001b[39m==\u001b[39m\u001b[39m1\u001b[39m)]\u001b[39m.\u001b[39mshape\n",
      "\u001b[0;31mNameError\u001b[0m: name 'pred' is not defined"
     ]
    }
   ],
   "source": [
    "### also does a shitty job. Probably because too many features and did not shuffle sequences.\n",
    "import sklearn\n",
    "clf2 = sklearn.svm.SVC(kernel='poly', degree=2)\n",
    "split = mutant_data.shape[0]//5 * 4\n",
    "mut_train = mutant_data[:split]\n",
    "mut_test = mutant_data[split:]\n",
    "clf2.fit(mut_train, label[:split])"
   ]
  },
  {
   "attachments": {},
   "cell_type": "markdown",
   "metadata": {},
   "source": [
    "Experiement 3: Gaussian Kernel OneClassSVM"
   ]
  },
  {
   "cell_type": "code",
   "execution_count": 10,
   "metadata": {},
   "outputs": [
    {
     "name": "stdout",
     "output_type": "stream",
     "text": [
      "(3552,)\n"
     ]
    }
   ],
   "source": [
    "clf = OneClassSVM(kernel='rbf', nu=0.3)\n",
    "train = processed[:50000]\n",
    "clf.fit(train, sample_weight=weights[:50000])\n",
    "pred = clf.predict(processed[50000:55000])\n",
    "print(pred[np.where(pred==1)].shape)"
   ]
  },
  {
   "cell_type": "code",
   "execution_count": 12,
   "metadata": {},
   "outputs": [
    {
     "name": "stdout",
     "output_type": "stream",
     "text": [
      "(1188,)\n"
     ]
    }
   ],
   "source": [
    "### The classifier does shitty job for mutant sequences (DMS).\n",
    "mutant_pred = clf.predict(mutant_data)\n",
    "print(pred[np.where(mutant_pred==1)].shape)"
   ]
  },
  {
   "attachments": {},
   "cell_type": "markdown",
   "metadata": {},
   "source": [
    "Experiement 4: explicitly model pairwise features. the original d features become d^2 features. SVM still uses poly deg-2 kernel"
   ]
  },
  {
   "cell_type": "code",
   "execution_count": 8,
   "metadata": {},
   "outputs": [
    {
     "name": "stdout",
     "output_type": "stream",
     "text": [
      "1640 151495 (15149, 2689600)\n"
     ]
    }
   ],
   "source": [
    "d = processed.shape[1]\n",
    "num_seq = processed.shape[0]\n",
    "rich_msa = np.zeros((num_seq//10, d**2))\n",
    "\n",
    "print(d, num_seq, rich_msa.shape)"
   ]
  },
  {
   "cell_type": "code",
   "execution_count": 10,
   "metadata": {},
   "outputs": [],
   "source": [
    "# explicitly model pairwise interactions as features. This cell takes more than 1 hour to run\n",
    "for seq in range(num_seq//10):\n",
    "    for i in range(d):\n",
    "        for j in range(i, d):\n",
    "            if processed[seq][i] == 1 and processed[seq][j] == 1 or i == j:\n",
    "                rich_msa[seq][i*d + j] = 1\n",
    "rich_msa = scipy.sparse.csr_matrix(rich_msa, (num_seq//10, d**2))\n",
    "\n",
    "test = np.zeros((mutant_data.shape[0], d**2))\n",
    "for seq in range(mutant_data.shape[0]):\n",
    "    for i in range(d):\n",
    "        for j in range(i, d):\n",
    "            if mutant_data[seq][i] == 1 and mutant_data[seq][j] == 1 or i == j:\n",
    "                test[seq][i*d + j] = 1\n",
    "\n",
    "test_sparse = scipy.sparse.csr_matrix(test, (mutant_data.shape[0], d**2))\n"
   ]
  },
  {
   "cell_type": "code",
   "execution_count": 22,
   "metadata": {},
   "outputs": [],
   "source": [
    "import pickle\n",
    "\n",
    "# with open(\"store_rich_msa.obj\", \"wb\") as file:\n",
    "#     pickle.dump(rich_msa, file)\n",
    "\n",
    "# with open(\"store_rich_test.obj\", \"wb\") as file:\n",
    "#     pickle.dump(test_sparse, file)\n",
    "\n",
    "# with open(\"store_rich_weights.obj\", \"wb\") as file:\n",
    "#     pickle.dump(weights, file)\n",
    "\n",
    "# with open(\"store_test_label.obj\", \"wb\") as file:\n",
    "#     pickle.dump(label, file)\n",
    "\n",
    "# with open(\"store_test_label_dms.obj\", \"wb\") as file:\n",
    "#     pickle.dump(label_dms, file)\n",
    "\n",
    "rich_msa, test_sparse = None, None\n",
    "label, label_dms, weights = None, None, None\n",
    "with open(\"store_rich_msa.obj\", \"rb\") as file:\n",
    "    rich_msa = pickle.load(file)\n",
    "\n",
    "with open(\"store_rich_test.obj\", \"rb\") as file:\n",
    "    test_sparse = pickle.load(file)\n",
    "\n",
    "with open(\"store_rich_weights.obj\", \"rb\") as file:\n",
    "    weights = pickle.load(file)\n",
    "\n",
    "with open(\"store_test_label.obj\", \"rb\") as file:\n",
    "    label = pickle.load(file)\n",
    "\n",
    "with open(\"store_test_label_dms.obj\", \"rb\") as file:\n",
    "    label_dms = pickle.load(file)\n",
    "    \n",
    "assert rich_msa.shape[1] == test_sparse.shape[1]\n",
    "assert label.shape[0] == test_sparse.shape[0]\n",
    "\n",
    "# ### expand wildtype\n",
    "wt = [0 for _ in range(d**2)]\n",
    "for i in range(d):\n",
    "    for j in range(i, d):\n",
    "        if wildtype_processed[i] == 1 and wildtype_processed[j] == 1 or i == j:\n",
    "            wt[i*d + j] = 1"
   ]
  },
  {
   "cell_type": "code",
   "execution_count": 12,
   "metadata": {},
   "outputs": [],
   "source": [
    "# for n in [0.1, 0.15, 0.2, 0.25, 0.3]:\n",
    "#     clf = OneClassSVM(kernel='linear', nu=n)\n",
    "#     clf.fit(rich_msa, sample_weight=weights[:rich_msa.shape[0]])\n",
    "#     pred = clf.predict(test_sparse)\n",
    "#     cnt = 0 \n",
    "#     for i in range(mutant_data.shape[0]):\n",
    "#         if (pred[i]== 1 and label[i] == 1) or (pred[i] == -1 and label[i] == 0):\n",
    "#             cnt += 1\n",
    "#     print(f'kernel: linear, nu: {n}, result: ', cnt)\n",
    "#     print('wt: ', clf.predict([wt]))\n",
    "\n",
    "# ### prediction of wildtype\n",
    "# wt = [0 for _ in range(d**2)]\n",
    "# for i in range(d):\n",
    "#     for j in range(i, d):\n",
    "#         if wildtype_processed[i] == 1 and wildtype_processed[j] == 1 or i == j:\n",
    "#             wt[i*d + j] = 1\n",
    "# clf.predict([wt])"
   ]
  },
  {
   "attachments": {},
   "cell_type": "markdown",
   "metadata": {},
   "source": [
    "Experiment 4.1: Hyperparameter tuning"
   ]
  },
  {
   "cell_type": "code",
   "execution_count": null,
   "metadata": {},
   "outputs": [],
   "source": [
    "for n in [0.2, 0.201, 0.202, 0.21, 0.22, 0.23, 0.25, 0.28, 0.3]:\n",
    "    for deg in [1, 2, 3]:\n",
    "        clf = OneClassSVM(kernel='poly', degree = deg, nu=n)\n",
    "        clf.fit(rich_msa, sample_weight=weights[:rich_msa.shape[0]])\n",
    "        pred = clf.predict(test_sparse)\n",
    "        cnt = 0 \n",
    "        for i in range(mutant_data.shape[0]):\n",
    "            if (pred[i]== 1 and label[i] == 1) or (pred[i] == -1 and label[i] == 0):\n",
    "                cnt += 1\n",
    "        print(f'kernel: poly, degree: {deg}, nu: {n}, result: ', cnt)\n",
    "        print(pred[:20])\n",
    "        print(\"wild type pred: \", clf.predict([wt]))\n",
    "    \n",
    "    clf = OneClassSVM(kernel='rbf', nu=n)\n",
    "    clf.fit(rich_msa, sample_weight=weights[:rich_msa.shape[0]])\n",
    "    pred = clf.predict(test_sparse)\n",
    "    cnt = 0 \n",
    "    for i in range(mutant_data.shape[0]):\n",
    "        if (pred[i]== 1 and label[i] == 1) or (pred[i] == -1 and label[i] == 0):\n",
    "            cnt += 1\n",
    "    \n",
    "    print(f'kernel: rbf, nu: {n}, result: ', cnt)\n",
    "    print(pred[:20])\n",
    "    print(\"wild type pred: \", clf.predict([wt]))\n",
    "\n",
    "    clf = OneClassSVM(kernel='sigmoid', nu=n)\n",
    "    clf.fit(rich_msa, sample_weight=weights[:rich_msa.shape[0]])\n",
    "    pred = clf.predict(test_sparse)\n",
    "    cnt = 0 \n",
    "    for i in range(mutant_data.shape[0]):\n",
    "        if (pred[i]== 1 and label[i] == 1) or (pred[i] == -1 and label[i] == 0):\n",
    "            cnt += 1\n",
    "    print(f'kernel: rbf, nu: {n}, result: ', cnt)\n",
    "    print(pred[:20])\n",
    "    print(\"wild type pred: \", clf.predict([wt]))\n"
   ]
  },
  {
   "attachments": {},
   "cell_type": "markdown",
   "metadata": {},
   "source": [
    "Results:\n",
    "    Only (kernel = 'rbf', nu = 0.2) and (kernel = 'rbf', nu = 0.3) produced results in which the prediction of mutant sequences were not all 1's or all -1's. For nu = 0.2, 716 sequences were classified correctly. For nu = 0.3, 543 sequences were classified correctly. There are a total of 673 (pos) + 515 (neg) = 1188 sequences. "
   ]
  },
  {
   "attachments": {},
   "cell_type": "markdown",
   "metadata": {},
   "source": [
    "Experiement 4.2: Look into the weights assigned to each feature in the linear model, see if SVM has learned anything interesting about pairwise weights. Compare with the Potts model."
   ]
  },
  {
   "cell_type": "code",
   "execution_count": 16,
   "metadata": {},
   "outputs": [
    {
     "name": "stdout",
     "output_type": "stream",
     "text": [
      "(82, 82, 20, 20)\n"
     ]
    }
   ],
   "source": [
    "NAME=\"PABP_YEAST\"\n",
    "# load parameters from file to create a pairwise model\n",
    "c = CouplingsModel(f\"PABP_YEAST/model/{NAME}.model_params\")\n",
    "\n",
    "potts_params = c.J_ij\n",
    "print(potts_params.shape)\n",
    "\n",
    "potts_weights_arr = np.zeros(2689600)\n",
    "for i in range(82):\n",
    "    for aa1 in range(20):\n",
    "        for j in range(i, 82):\n",
    "            for aa2 in range(20):\n",
    "                potts_weights_arr[(i*20 + aa1) * d + j*20 + aa2] = c.J_ij[i][j][aa1][aa2]\n"
   ]
  },
  {
   "cell_type": "code",
   "execution_count": 13,
   "metadata": {},
   "outputs": [],
   "source": [
    "# test_sparse = scipy.sparse.csr_matrix(test_sparse, (test_sparse.shape[0], d**2))\n",
    "# rich_msa = scipy.sparse.csr_matrix(rich_msa, (rich_msa.shape[0], d**2))"
   ]
  },
  {
   "cell_type": "code",
   "execution_count": 29,
   "metadata": {},
   "outputs": [],
   "source": [
    "test_sparse = np.asarray(test_sparse)"
   ]
  },
  {
   "cell_type": "code",
   "execution_count": 30,
   "metadata": {},
   "outputs": [],
   "source": [
    "rich_msa = np.asarray(rich_msa)"
   ]
  },
  {
   "cell_type": "code",
   "execution_count": 32,
   "metadata": {},
   "outputs": [],
   "source": [
    "# [0.0000000000000000001, 0.0000000000000000002, 0.000000000000000001, 0.000000000000000002, 0.00000000000000001, 0.00000000000000002, \n",
    "#         0.0000000000000001, 0.0000000000000002, 0.000000000000001, 0.000000000000002, 0.00000000000001, 0.00000000000002, 0.0000000000001, \n",
    "#         0.0000000000002, 0.000000000001, 0.000000000002, 0.00000000001, 0.00000000002, 0.0000000001, 0.0000000002, 0.000000001, 0.000000002,\n",
    "#         0.00000001, 0.000000002, 0.00000001, 0.00000002, 0.0000001, 0.0000002, 0.000001]"
   ]
  },
  {
   "cell_type": "code",
   "execution_count": 34,
   "metadata": {},
   "outputs": [
    {
     "name": "stdout",
     "output_type": "stream",
     "text": [
      "kernel: linear, nu: 1e-14, result:  515\n",
      "[-1 -1 -1 -1 -1 -1 -1 -1 -1 -1 -1 -1 -1 -1 -1 -1 -1 -1 -1 -1]\n",
      "-1188\n",
      "wild type pred:  [-1]\n",
      "spearman for nu = 1e-14 is: SpearmanrResult(correlation=0.006269996877253153, pvalue=8.416429103887442e-25)\n",
      "kernel: linear, nu: 2e-14, result:  515\n",
      "[-1 -1 -1 -1 -1 -1 -1 -1 -1 -1 -1 -1 -1 -1 -1 -1 -1 -1 -1 -1]\n",
      "-1188\n",
      "wild type pred:  [-1]\n",
      "spearman for nu = 2e-14 is: SpearmanrResult(correlation=0.006269996877253153, pvalue=8.416429103887442e-25)\n",
      "kernel: linear, nu: 1e-13, result:  515\n",
      "[-1 -1 -1 -1 -1 -1 -1 -1 -1 -1 -1 -1 -1 -1 -1 -1 -1 -1 -1 -1]\n",
      "-1188\n",
      "wild type pred:  [-1]\n",
      "spearman for nu = 1e-13 is: SpearmanrResult(correlation=0.006269996877253153, pvalue=8.416429103887442e-25)\n",
      "kernel: linear, nu: 2e-13, result:  515\n",
      "[-1 -1 -1 -1 -1 -1 -1 -1 -1 -1 -1 -1 -1 -1 -1 -1 -1 -1 -1 -1]\n",
      "-1188\n",
      "wild type pred:  [-1]\n",
      "spearman for nu = 2e-13 is: SpearmanrResult(correlation=0.006269996877253153, pvalue=8.416429103887442e-25)\n",
      "kernel: linear, nu: 1e-12, result:  515\n",
      "[-1 -1 -1 -1 -1 -1 -1 -1 -1 -1 -1 -1 -1 -1 -1 -1 -1 -1 -1 -1]\n",
      "-1188\n",
      "wild type pred:  [-1]\n",
      "spearman for nu = 1e-12 is: SpearmanrResult(correlation=0.006269996877253153, pvalue=8.416429103887442e-25)\n",
      "kernel: linear, nu: 2e-12, result:  515\n",
      "[-1 -1 -1 -1 -1 -1 -1 -1 -1 -1 -1 -1 -1 -1 -1 -1 -1 -1 -1 -1]\n",
      "-1188\n",
      "wild type pred:  [-1]\n",
      "spearman for nu = 2e-12 is: SpearmanrResult(correlation=0.006269996877253153, pvalue=8.416429103887442e-25)\n",
      "kernel: linear, nu: 1e-11, result:  515\n",
      "[-1 -1 -1 -1 -1 -1 -1 -1 -1 -1 -1 -1 -1 -1 -1 -1 -1 -1 -1 -1]\n",
      "-1188\n",
      "wild type pred:  [-1]\n",
      "spearman for nu = 1e-11 is: SpearmanrResult(correlation=0.006269996877253153, pvalue=8.416429103887442e-25)\n",
      "kernel: linear, nu: 2e-11, result:  515\n",
      "[-1 -1 -1 -1 -1 -1 -1 -1 -1 -1 -1 -1 -1 -1 -1 -1 -1 -1 -1 -1]\n",
      "-1188\n",
      "wild type pred:  [-1]\n",
      "spearman for nu = 2e-11 is: SpearmanrResult(correlation=0.006269996877253153, pvalue=8.416429103887442e-25)\n",
      "kernel: linear, nu: 1e-10, result:  515\n",
      "[-1 -1 -1 -1 -1 -1 -1 -1 -1 -1 -1 -1 -1 -1 -1 -1 -1 -1 -1 -1]\n",
      "-1188\n",
      "wild type pred:  [-1]\n",
      "spearman for nu = 1e-10 is: SpearmanrResult(correlation=0.006269996877253153, pvalue=8.416429103887442e-25)\n",
      "kernel: linear, nu: 2e-10, result:  515\n",
      "[-1 -1 -1 -1 -1 -1 -1 -1 -1 -1 -1 -1 -1 -1 -1 -1 -1 -1 -1 -1]\n",
      "-1188\n",
      "wild type pred:  [-1]\n",
      "spearman for nu = 2e-10 is: SpearmanrResult(correlation=0.010287443086076169, pvalue=7.249590644232393e-64)\n",
      "kernel: linear, nu: 1e-09, result:  515\n",
      "[-1 -1 -1 -1 -1 -1 -1 -1 -1 -1 -1 -1 -1 -1 -1 -1 -1 -1 -1 -1]\n",
      "-1188\n",
      "wild type pred:  [-1]\n",
      "spearman for nu = 1e-09 is: SpearmanrResult(correlation=0.018982206942615692, pvalue=8.45440941713204e-213)\n",
      "kernel: linear, nu: 2e-09, result:  515\n",
      "[-1 -1 -1 -1 -1 -1 -1 -1 -1 -1 -1 -1 -1 -1 -1 -1 -1 -1 -1 -1]\n",
      "-1188\n",
      "wild type pred:  [-1]\n",
      "spearman for nu = 2e-09 is: SpearmanrResult(correlation=0.021817972175215902, pvalue=1.8421517545927842e-280)\n",
      "kernel: linear, nu: 1e-08, result:  673\n",
      "[1 1 1 1 1 1 1 1 1 1 1 1 1 1 1 1 1 1 1 1]\n",
      "1188\n",
      "wild type pred:  [1]\n",
      "spearman for nu = 1e-08 is: SpearmanrResult(correlation=0.0430860574004594, pvalue=0.0)\n",
      "kernel: linear, nu: 2e-09, result:  515\n",
      "[-1 -1 -1 -1 -1 -1 -1 -1 -1 -1 -1 -1 -1 -1 -1 -1 -1 -1 -1 -1]\n",
      "-1188\n",
      "wild type pred:  [-1]\n",
      "spearman for nu = 2e-09 is: SpearmanrResult(correlation=0.021817972175215902, pvalue=1.8421517545927842e-280)\n",
      "kernel: linear, nu: 1e-08, result:  673\n",
      "[1 1 1 1 1 1 1 1 1 1 1 1 1 1 1 1 1 1 1 1]\n",
      "1188\n",
      "wild type pred:  [1]\n",
      "spearman for nu = 1e-08 is: SpearmanrResult(correlation=0.0430860574004594, pvalue=0.0)\n",
      "kernel: linear, nu: 2e-08, result:  673\n",
      "[1 1 1 1 1 1 1 1 1 1 1 1 1 1 1 1 1 1 1 1]\n",
      "1188\n",
      "wild type pred:  [1]\n",
      "spearman for nu = 2e-08 is: SpearmanrResult(correlation=0.05333215199740683, pvalue=0.0)\n",
      "kernel: linear, nu: 1e-07, result:  673\n",
      "[1 1 1 1 1 1 1 1 1 1 1 1 1 1 1 1 1 1 1 1]\n",
      "1188\n",
      "wild type pred:  [1]\n",
      "spearman for nu = 1e-07 is: SpearmanrResult(correlation=0.07104873186594983, pvalue=0.0)\n",
      "kernel: linear, nu: 2e-07, result:  673\n",
      "[1 1 1 1 1 1 1 1 1 1 1 1 1 1 1 1 1 1 1 1]\n",
      "1188\n",
      "wild type pred:  [1]\n",
      "spearman for nu = 2e-07 is: SpearmanrResult(correlation=0.07580014524186314, pvalue=0.0)\n"
     ]
    }
   ],
   "source": [
    "# train a linear model, which should theoretically be similar to the potts model.\n",
    "\n",
    "with open('result.txt', 'a') as file:\n",
    "    date_time = datetime.now().strftime(\"%m/%d/%Y, %H:%M:%S\")\n",
    "    file.write(date_time)\n",
    "    file.write('\\n\\n')\n",
    "    for n in [0.00000000000001, 0.00000000000002, 0.0000000000001, \n",
    "        0.0000000000002, 0.000000000001, 0.000000000002, 0.00000000001, 0.00000000002, 0.0000000001, 0.0000000002, 0.000000001, 0.000000002,\n",
    "        0.00000001, 0.000000002, 0.00000001, 0.00000002, 0.0000001, 0.0000002, 0.000001]:\n",
    "        clf = OneClassSVM(kernel='linear', nu=n)\n",
    "        clf.fit(rich_msa, sample_weight=weights[:rich_msa.shape[0]])\n",
    "        pred = clf.predict(test_sparse)\n",
    "        cnt = 0 \n",
    "        for i in range(test_sparse.shape[0]):\n",
    "            if (pred[i]== 1 and label[i] == 1) or (pred[i] == -1 and label[i] == 0):\n",
    "                cnt += 1\n",
    "        print(f'kernel: linear, nu: {n}, result: ', cnt)\n",
    "        file.write(f'kernel: linear, nu: {n}, result: {cnt}\\n')\n",
    "        print(pred[:20])\n",
    "        file.write('\\n')\n",
    "        print(np.sum(pred))\n",
    "        file.write(f'Sum: {np.sum(pred)}\\n')\n",
    "        print(\"wild type pred: \", clf.predict([wt]))\n",
    "        file.write(f'wild type pred : {clf.predict([wt])}\\n')\n",
    "        w = clf.coef_\n",
    "        w = w.flatten()\n",
    "\n",
    "        sprm = scipy.stats.spearmanr(w, potts_weights_arr)\n",
    "        print(f'spearman for nu = {n} is: {sprm}')\n",
    "        file.write(f'spearman for nu = {n} is: {sprm}\\n\\n\\n')"
   ]
  },
  {
   "attachments": {},
   "cell_type": "markdown",
   "metadata": {},
   "source": [
    "Experiment 4.3: Remove sequence weights during training. In addition, inspect the effects of classification on MSA data."
   ]
  },
  {
   "cell_type": "code",
   "execution_count": 9,
   "metadata": {},
   "outputs": [
    {
     "name": "stdout",
     "output_type": "stream",
     "text": [
      "kernel: linear, nu: 0.001, result:  673\n",
      "[1 1 1 1 1 1 1 1 1 1 1 1 1 1 1 1 1 1 1 1]\n",
      "1188\n",
      "wild type pred:  [1]\n",
      "spearman for nu = 0.001 is: SpearmanrResult(correlation=0.07970207311834936, pvalue=0.0)\n",
      "kernel: linear, nu: 0.002, result:  673\n",
      "[1 1 1 1 1 1 1 1 1 1 1 1 1 1 1 1 1 1 1 1]\n",
      "1188\n",
      "wild type pred:  [1]\n",
      "spearman for nu = 0.002 is: SpearmanrResult(correlation=0.07970209821992619, pvalue=0.0)\n",
      "kernel: linear, nu: 0.01, result:  673\n",
      "[1 1 1 1 1 1 1 1 1 1 1 1 1 1 1 1 1 1 1 1]\n",
      "1188\n",
      "wild type pred:  [1]\n",
      "spearman for nu = 0.01 is: SpearmanrResult(correlation=0.08238456212570854, pvalue=0.0)\n",
      "kernel: linear, nu: 0.02, result:  673\n",
      "[1 1 1 1 1 1 1 1 1 1 1 1 1 1 1 1 1 1 1 1]\n",
      "1188\n",
      "wild type pred:  [1]\n",
      "spearman for nu = 0.02 is: SpearmanrResult(correlation=0.0849834228805321, pvalue=0.0)\n",
      "kernel: linear, nu: 0.1, result:  673\n",
      "[1 1 1 1 1 1 1 1 1 1 1 1 1 1 1 1 1 1 1 1]\n",
      "1188\n",
      "wild type pred:  [1]\n",
      "spearman for nu = 0.1 is: SpearmanrResult(correlation=0.0937657773622651, pvalue=0.0)\n",
      "kernel: linear, nu: 0.2, result:  673\n",
      "[1 1 1 1 1 1 1 1 1 1 1 1 1 1 1 1 1 1 1 1]\n",
      "1188\n",
      "wild type pred:  [1]\n",
      "spearman for nu = 0.2 is: SpearmanrResult(correlation=0.09369825081297778, pvalue=0.0)\n",
      "kernel: linear, nu: 0.3, result:  673\n",
      "[1 1 1 1 1 1 1 1 1 1 1 1 1 1 1 1 1 1 1 1]\n",
      "1188\n",
      "wild type pred:  [1]\n",
      "spearman for nu = 0.3 is: SpearmanrResult(correlation=0.09167347956276037, pvalue=0.0)\n"
     ]
    }
   ],
   "source": [
    "# train a linear model, which should theoretically be similar to the potts model.\n",
    "\n",
    "with open('result.txt', 'a') as file:\n",
    "    date_time = datetime.now().strftime(\"%m/%d/%Y, %H:%M:%S\")\n",
    "    file.write(date_time)\n",
    "    file.write('\\n\\n')\n",
    "    for n in [0.001, 0.002, 0.01, 0.02, 0.1, 0.2, 0.3, 0.4, 0.5]:\n",
    "        clf = OneClassSVM(kernel='linear', nu=n)\n",
    "        clf.fit(rich_msa)\n",
    "        pred = clf.predict(test_sparse)\n",
    "        cnt = 0 \n",
    "        for i in range(mutant_data.shape[0]):\n",
    "            if (pred[i]== 1 and label[i] == 1) or (pred[i] == -1 and label[i] == 0):\n",
    "                cnt += 1\n",
    "        print(f'kernel: linear, nu: {n}, result: ', cnt)\n",
    "        file.write(f'kernel: linear, nu: {n}, result: {cnt}\\n')\n",
    "        print(pred[:20])\n",
    "        file.write('\\n')\n",
    "        print(np.sum(pred))\n",
    "        file.write(f'Sum: {np.sum(pred)}\\n')\n",
    "        print(\"wild type pred: \", clf.predict([wt]))\n",
    "        file.write(f'wild type pred : {clf.predict([wt])}\\n')\n",
    "        w = clf.coef_.toarray()\n",
    "        w = w.flatten()\n",
    "\n",
    "        sprm = scipy.stats.spearmanr(w, potts_weights_arr)\n",
    "        print(f'spearman for nu = {n} is: {sprm}')\n",
    "        file.write(f'spearman for nu = {n} is: {sprm}\\n\\n\\n')"
   ]
  },
  {
   "attachments": {},
   "cell_type": "markdown",
   "metadata": {},
   "source": [
    "Experiment 4.4: Use Random Sequences as negatives"
   ]
  },
  {
   "cell_type": "code",
   "execution_count": null,
   "metadata": {},
   "outputs": [
    {
     "data": {
      "text/plain": [
       "(2689600,)"
      ]
     },
     "execution_count": 31,
     "metadata": {},
     "output_type": "execute_result"
    }
   ],
   "source": [
    "n_random = 10000\n",
    "random_str = [np.random.choice(list(ALPHABET_PROTEIN), 81) for _ in range(n_random)]\n",
    "p_random = process_msa_sequence(random_str)"
   ]
  },
  {
   "cell_type": "code",
   "execution_count": null,
   "metadata": {},
   "outputs": [],
   "source": [
    "rich_random = np.zeros((n_random, d**2))\n",
    "\n",
    "for seq in range(n_random):\n",
    "    for i in range(d):\n",
    "        for j in range(i, d):\n",
    "            if p_random[seq][i] == 1 and p_random[seq][j] == 1 or i == j:\n",
    "                rich_random[seq][i*d + j] = 1\n",
    "rich_random = scipy.sparse.csr_matrix(rich_random, (n_random, d**2))"
   ]
  },
  {
   "cell_type": "code",
   "execution_count": null,
   "metadata": {},
   "outputs": [],
   "source": []
  },
  {
   "cell_type": "code",
   "execution_count": null,
   "metadata": {},
   "outputs": [],
   "source": [
    "clf_two_class = sklearn.svm.SVC(kernel='linear')"
   ]
  },
  {
   "cell_type": "code",
   "execution_count": 32,
   "metadata": {},
   "outputs": [
    {
     "name": "stdout",
     "output_type": "stream",
     "text": [
      "spearman for nu = 0.001 is: SpearmanrResult(correlation=0.08430774677159406, pvalue=0.0)\n"
     ]
    }
   ],
   "source": [
    "# w = clf.coef_.toarray()\n",
    "# w = w.flatten()\n",
    "\n",
    "sprm = scipy.stats.spearmanr(w, potts_weights_arr)\n",
    "print(f'spearman for nu = {n} is: {sprm}')"
   ]
  },
  {
   "cell_type": "code",
   "execution_count": 11,
   "metadata": {},
   "outputs": [
    {
     "data": {
      "text/plain": [
       "array([0., 1., 1., ..., 0., 1., 1.])"
      ]
     },
     "execution_count": 11,
     "metadata": {},
     "output_type": "execute_result"
    }
   ],
   "source": [
    "label"
   ]
  },
  {
   "attachments": {},
   "cell_type": "markdown",
   "metadata": {},
   "source": [
    "Experiment 4.5: Check for correlation between decision function and labels"
   ]
  },
  {
   "cell_type": "code",
   "execution_count": null,
   "metadata": {},
   "outputs": [],
   "source": [
    "# train a linear model, which should theoretically be similar to the potts model.\n",
    "\n",
    "with open('result.txt', 'a') as file:\n",
    "    file.write(\"Experiment 4.5: Check for correlation between decision function and labels\")\n",
    "    date_time = datetime.now().strftime(\"%m/%d/%Y, %H:%M:%S\")\n",
    "    file.write(date_time)\n",
    "    file.write('\\n\\n')\n",
    "    for n in [0.001, 0.002, 0.01, 0.02, 0.1, 0.2, 0.3, 0.4, 0.5]:\n",
    "        clf = OneClassSVM(kernel='linear', nu=n)\n",
    "        clf.fit(rich_msa, sample_weight=weights[:rich_msa.shape[0]])\n",
    "        pred = clf.decision_function(test_sparse)\n",
    "        cnt = 0 \n",
    "        for i in range(mutant_data.shape[0]):\n",
    "            if (pred[i]== 1 and label[i] == 1) or (pred[i] == -1 and label[i] == 0):\n",
    "                cnt += 1\n",
    "        print(f'kernel: linear, nu: {n}, result: ', cnt)\n",
    "        file.write(f'kernel: linear, nu: {n}, result: {cnt}\\n')\n",
    "        print(pred[:20])\n",
    "        file.write('\\n')\n",
    "        print(np.sum(pred))\n",
    "        file.write(f'Sum: {np.sum(pred)}\\n')\n",
    "        print(\"wild type pred: \", clf.predict([wt]))\n",
    "        file.write(f'wild type pred : {clf.predict([wt])}\\n')\n",
    "        w = clf.coef_.toarray()\n",
    "        w = w.flatten()\n",
    "\n",
    "        sprm = scipy.stats.spearmanr(w, potts_weights_arr)\n",
    "        print(f'spearman for nu = {n} is: {sprm}')\n",
    "        file.write(f'spearman for nu = {n} is: {sprm}\\n\\n\\n')"
   ]
  }
 ],
 "metadata": {
  "kernelspec": {
   "display_name": "dev_arthur",
   "language": "python",
   "name": "python3"
  },
  "language_info": {
   "codemirror_mode": {
    "name": "ipython",
    "version": 3
   },
   "file_extension": ".py",
   "mimetype": "text/x-python",
   "name": "python",
   "nbconvert_exporter": "python",
   "pygments_lexer": "ipython3",
   "version": "3.9.5"
  },
  "orig_nbformat": 4,
  "vscode": {
   "interpreter": {
    "hash": "2b975e03f1e86e078ea1d566012707067ac1f6e4c759ff48317f6f9dc08e1449"
   }
  }
 },
 "nbformat": 4,
 "nbformat_minor": 2
}
