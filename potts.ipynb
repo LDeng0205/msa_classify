{
 "cells": [
  {
   "cell_type": "markdown",
   "metadata": {},
   "source": [
    "This notebook is for further investigation of the Potts model in predicting protein fitness with MSA. "
   ]
  },
  {
   "cell_type": "code",
   "execution_count": 1,
   "metadata": {},
   "outputs": [],
   "source": [
    "import pandas as pd\n",
    "import numpy as np\n",
    "import matplotlib.pyplot as plt\n",
    "from model import CouplingsModel\n",
    "import tools\n",
    "import scipy\n",
    "from pathlib import Path\n",
    "from collections import OrderedDict\n",
    "# biopython SeqIO\n",
    "from Bio import SeqIO\n",
    "from sklearn.metrics import roc_auc_score\n",
    "import scipy"
   ]
  },
  {
   "cell_type": "code",
   "execution_count": 47,
   "metadata": {},
   "outputs": [],
   "source": [
    "ALPHABET_PROTEIN = '-ACDEFGHIKLMNPQRSTVWY'\n",
    "def check_sequence(s, alphabet=ALPHABET_PROTEIN):\n",
    "    for aa in s:\n",
    "        if aa not in ALPHABET_PROTEIN:\n",
    "            return False\n",
    "    return True\n",
    "def model_info(c):\n",
    "    print(\"Number of sites: \", c.L)\n",
    "    print(\"Number of valid sequences: \", c.N_valid)\n",
    "    print(\"Number of invalid sequences: \", c.N_invalid)\n",
    "    print(\"Number of valid sequences: \", c.N_valid)"
   ]
  },
  {
   "cell_type": "code",
   "execution_count": 14,
   "metadata": {},
   "outputs": [],
   "source": [
    "NAME = 'PABP_YEAST'\n",
    "\n",
    "### training code for model, uncomment the following line: \n",
    "#!plmc/bin/plmc -o PABP_YEAST/model/{NAME}.model_params -c PABP_YEAST/model/{NAME}.txt -f PABP_YEAST -le 16.2 -lh 0.01 -m 200 -t 0.2 -g PABP_YEAST/data/{NAME}.a2m\n",
    "c = CouplingsModel(\"PABP_YEAST/model/PABP_YEAST.model_params\")\n",
    "c2 = CouplingsModel(\"PABP_YEAST/model/PABP_YEAST_10000.model_params\")"
   ]
  },
  {
   "cell_type": "code",
   "execution_count": 15,
   "metadata": {},
   "outputs": [],
   "source": [
    "# read the experimental mutational scanning dataset for PABP by Melamed et al., RNA, 2013\n",
    "data = pd.read_csv(\n",
    "    \"PABP_YEAST/data/PABP_YEAST_Fields2013-singles.csv\", sep=\";\", comment=\"#\"\n",
    ")\n",
    "# wt = {\"mutant\": \"wild\", \"linear\": 0, \"log\": 0}\n",
    "# data = data.append(wt, ignore_index=True)"
   ]
  },
  {
   "cell_type": "code",
   "execution_count": 21,
   "metadata": {},
   "outputs": [
    {
     "name": "stdout",
     "output_type": "stream",
     "text": [
      "(152041,)\n",
      "(10000,)\n"
     ]
    }
   ],
   "source": [
    "print(c.weights.shape)\n",
    "print(c2.weights.shape)\n",
    "\n",
    "w_full = c.weights\n",
    "w_10000 = c2.weights"
   ]
  },
  {
   "cell_type": "code",
   "execution_count": 101,
   "metadata": {},
   "outputs": [],
   "source": [
    "cnt = 0\n",
    "for i in range(c.weights.shape[0]):\n",
    "    if w_full[i] == 0:\n",
    "        cnt+=1\n",
    "        continue\n",
    "    w_full[i] = 1/w_full[i]\n",
    "for i in range(c2.weights.shape[0]):\n",
    "    if w_full[i] == 0: \n",
    "        continue\n",
    "    w_10000[i] = 1/w_10000[i]"
   ]
  },
  {
   "cell_type": "code",
   "execution_count": 42,
   "metadata": {},
   "outputs": [
    {
     "name": "stdout",
     "output_type": "stream",
     "text": [
      "Number of sites:  82\n",
      "Number of valid sequences:  151496\n",
      "Number of invalid sequences:  545\n",
      "Number of valid sequences:  151496\n"
     ]
    }
   ],
   "source": [
    "model_info(c)"
   ]
  },
  {
   "cell_type": "code",
   "execution_count": 43,
   "metadata": {},
   "outputs": [
    {
     "data": {
      "text/plain": [
       "152041"
      ]
     },
     "execution_count": 43,
     "metadata": {},
     "output_type": "execute_result"
    }
   ],
   "source": [
    "151496+545"
   ]
  },
  {
   "cell_type": "code",
   "execution_count": 41,
   "metadata": {},
   "outputs": [],
   "source": []
  },
  {
   "cell_type": "code",
   "execution_count": null,
   "metadata": {},
   "outputs": [],
   "source": []
  },
  {
   "cell_type": "code",
   "execution_count": 25,
   "metadata": {},
   "outputs": [
    {
     "name": "stdout",
     "output_type": "stream",
     "text": [
      "  mutant    linear       log  effect_prediction_epistatic  \\\n",
      "0  G126A  0.711743 -0.490571                    -2.597435   \n",
      "1  G126C  0.449027 -1.155127                    -5.653770   \n",
      "2  G126E  0.588928 -0.763836                    -6.589126   \n",
      "3  G126D  0.229853 -2.121218                    -7.249220   \n",
      "4  G126N  0.679435 -0.557593                    -5.799652   \n",
      "\n",
      "   effect_prediction_independent  \n",
      "0                       0.406487  \n",
      "1                      -0.027602  \n",
      "2                      -1.827570  \n",
      "3                      -1.180076  \n",
      "4                       0.387440  \n",
      "Evmutation spearman:  SpearmanrResult(correlation=0.59280030296668, pvalue=1.2266190417209348e-113)\n",
      "Independent control spearman:  SpearmanrResult(correlation=0.4236780791119215, pvalue=6.077688379018816e-53)\n"
     ]
    }
   ],
   "source": [
    "# predict mutations using our model\n",
    "data_pred = tools.predict_mutation_table(\n",
    "    c, data, \"effect_prediction_epistatic\"\n",
    ")\n",
    "\n",
    "# can also add predictions by the corresponding independent model\n",
    "c0 = c.to_independent_model()\n",
    "\n",
    "data_pred = tools.predict_mutation_table(\n",
    "    c0, data_pred, \"effect_prediction_independent\"\n",
    ")\n",
    "print(data_pred.head())\n",
    "pred = data_pred['effect_prediction_epistatic']\n",
    "pred_ind = data_pred['effect_prediction_independent']\n",
    "label = data_pred['linear']\n",
    "print('Evmutation spearman: ', scipy.stats.spearmanr(pred, label))\n",
    "print('Independent control spearman: ', scipy.stats.spearmanr(pred_ind, label))"
   ]
  },
  {
   "cell_type": "code",
   "execution_count": 26,
   "metadata": {},
   "outputs": [],
   "source": [
    "yeast_seq_str = []\n",
    "fasta_sequences = SeqIO.parse(open(\"PABP_YEAST/data/PABP_YEAST.a2m\"),'fasta')\n",
    "for fasta in fasta_sequences:\n",
    "    yeast_seq_str.append(str(fasta.seq))"
   ]
  },
  {
   "cell_type": "code",
   "execution_count": 62,
   "metadata": {},
   "outputs": [
    {
     "name": "stdout",
     "output_type": "stream",
     "text": [
      "(151496, 82)\n"
     ]
    }
   ],
   "source": [
    "pos_upper = [x for x in range(len(yeast_seq_str[0])) if not yeast_seq_str[0][x].islower()]\n",
    "processed_yeast = np.asarray([np.asarray(list(s))[pos_upper] for s in yeast_seq_str if not 'x' in s])\n",
    "processed_yeast = np.asarray([s for s in processed_yeast if check_sequence(s) and len(s)==82])\n",
    "print(processed_yeast.shape)\n",
    "wildtype = yeast_seq_str[0]"
   ]
  },
  {
   "cell_type": "code",
   "execution_count": 63,
   "metadata": {},
   "outputs": [
    {
     "name": "stdout",
     "output_type": "stream",
     "text": [
      "152041\n",
      "(151496, 82)\n"
     ]
    }
   ],
   "source": [
    "print(len(yeast_seq_str))\n",
    "print(processed_yeast.shape)"
   ]
  },
  {
   "cell_type": "code",
   "execution_count": 29,
   "metadata": {},
   "outputs": [
    {
     "data": {
      "text/plain": [
       "array([['K', 'G', 'S', ..., 'L', 'S', 'R'],\n",
       "       ['K', 'G', 'S', ..., 'L', 'S', 'R'],\n",
       "       ['K', 'G', 'S', ..., 'L', 'S', 'R'],\n",
       "       ...,\n",
       "       ['K', 'G', 'S', ..., 'L', 'S', 'R'],\n",
       "       ['K', 'G', 'S', ..., 'L', 'S', 'R'],\n",
       "       ['K', 'G', 'S', ..., 'L', 'S', 'R']], dtype='<U1')"
      ]
     },
     "execution_count": 29,
     "metadata": {},
     "output_type": "execute_result"
    }
   ],
   "source": [
    "mutant, label = data['mutant'].to_numpy(), data['linear'].to_numpy()\n",
    "mutant_data = []\n",
    "for m in mutant:\n",
    "    if m == 'wild':\n",
    "        mutant_data.append(np.asarray(list(wildtype))[pos_upper])\n",
    "        continue\n",
    "    original_aa, loc, mutant_aa = m[0], int(m[1:4])-115, m[4]\n",
    "    assert wildtype[loc] == original_aa\n",
    "    mut_seq = np.asarray(list(wildtype[:loc]+mutant_aa+wildtype[loc+1:]))\n",
    "    mutant_data.append(mut_seq[pos_upper])\n",
    "mutant_data = np.asarray(mutant_data)\n",
    "mutant_data"
   ]
  },
  {
   "cell_type": "code",
   "execution_count": 30,
   "metadata": {},
   "outputs": [],
   "source": [
    "mutant_energies = c.hamiltonians(mutant_data.tolist())\n",
    "\n",
    "# c.delta_hamiltonian"
   ]
  },
  {
   "cell_type": "code",
   "execution_count": 31,
   "metadata": {},
   "outputs": [],
   "source": [
    "# modify energy computation to enable computing sequences with gap characters\n",
    "def mod_convert_sequences(sequences):\n",
    "    \"\"\"\n",
    "    Converts sequences in string format into internal symbol representation\n",
    "    according to alphabet of model\n",
    "\n",
    "    Parameters\n",
    "    ----------\n",
    "    sequences : list of str\n",
    "        List of sequences (must have same length and correspond to\n",
    "        model states)\n",
    "\n",
    "    Returns\n",
    "    -------\n",
    "    np.array\n",
    "        Matrix of size len(sequences) x L of sequences converted to\n",
    "        integer symbols\n",
    "    \"\"\"\n",
    "    seq_lens = list(set(map(len, sequences)))\n",
    "    if len(seq_lens) != 1:\n",
    "        raise ValueError(\"Input sequences have different lengths: \" + str(seq_lens))\n",
    "\n",
    "    L_seq = seq_lens[0]\n",
    "\n",
    "    S = np.empty((len(sequences), L_seq), dtype=np.int)\n",
    "\n",
    "    try:\n",
    "        for i, s in enumerate(sequences):\n",
    "            conv = []\n",
    "            for x in s:\n",
    "                if x == '-':\n",
    "                    conv.append(-1)\n",
    "                else:\n",
    "                    conv.append(c.alphabet_map[x])\n",
    "            S[i] = conv\n",
    "    except KeyError:\n",
    "        raise ValueError(\"Invalid symbol in sequence {}: {}\".format(i, x))\n",
    "    return S\n",
    "    \n",
    "def mod_hamiltonians(sequences, J_ij, h_i):\n",
    "    \"\"\"\n",
    "    Calculates the Hamiltonian of the global probability distribution P(A_1, ..., A_L)\n",
    "    for a given sequence A_1,...,A_L from J_ij and h_i parameters\n",
    "\n",
    "    Parameters\n",
    "    ----------\n",
    "    sequences : np.array\n",
    "        Sequence matrix for which Hamiltonians will be computed\n",
    "    J_ij: np.array\n",
    "        L x L x num_symbols x num_symbols J_ij pair coupling parameter matrix\n",
    "    h_i: np.array\n",
    "        L x num_symbols h_i fields parameter matrix\n",
    "\n",
    "    Returns\n",
    "    -------\n",
    "    np.array\n",
    "        Float matrix of size len(sequences) x 3, where each row corresponds to the\n",
    "        1) total Hamiltonian of sequence and the 2) J_ij and 3) h_i sub-sums\n",
    "    \"\"\"\n",
    "    # iterate over sequences\n",
    "    N, L = sequences.shape\n",
    "    H = np.zeros((N, 3))\n",
    "    for s in range(N):\n",
    "        A = sequences[s]\n",
    "        hi_sum = 0.0\n",
    "        Jij_sum = 0.0\n",
    "        for i in range(L):\n",
    "            if A[i] != -1:\n",
    "                hi_sum += h_i[i, A[i]]\n",
    "                for j in range(i + 1, L):\n",
    "                    if A[j] != -1:\n",
    "                        Jij_sum += J_ij[i, j, A[i], A[j]]\n",
    "\n",
    "        H[s] = [Jij_sum + hi_sum, Jij_sum, hi_sum]\n",
    "\n",
    "    return H"
   ]
  },
  {
   "cell_type": "code",
   "execution_count": 66,
   "metadata": {},
   "outputs": [
    {
     "name": "stderr",
     "output_type": "stream",
     "text": [
      "/tmp/ipykernel_986526/1363331714.py:25: DeprecationWarning: `np.int` is a deprecated alias for the builtin `int`. To silence this warning, use `int` by itself. Doing this will not modify any behavior and is safe. When replacing `np.int`, you may wish to use e.g. `np.int64` or `np.int32` to specify the precision. If you wish to review your current use, check the release note link for additional information.\n",
      "Deprecated in NumPy 1.20; for more details and guidance: https://numpy.org/devdocs/release/1.20.0-notes.html#deprecations\n",
      "  S = np.empty((len(sequences), L_seq), dtype=np.int)\n"
     ]
    }
   ],
   "source": [
    "S = mod_convert_sequences(processed_yeast.tolist())\n",
    "msa_energies = mod_hamiltonians(S, c.J_ij, c.h_i)"
   ]
  },
  {
   "cell_type": "code",
   "execution_count": 75,
   "metadata": {},
   "outputs": [
    {
     "name": "stdout",
     "output_type": "stream",
     "text": [
      "(151496, 3)\n",
      "(152041,)\n",
      "151496\n"
     ]
    }
   ],
   "source": [
    "print(msa_energies.shape)\n",
    "print(w_full.shape)\n",
    "w_full_valid = []\n",
    "for _w in w_full:\n",
    "    if _w != 0:\n",
    "        w_full_valid.append(1/_w)\n",
    "print(len(w_full_valid))"
   ]
  },
  {
   "cell_type": "code",
   "execution_count": 108,
   "metadata": {},
   "outputs": [
    {
     "data": {
      "image/png": "[encoded data removed]",
      "text/plain": [
       "<Figure size 640x480 with 1 Axes>"
      ]
     },
     "metadata": {},
     "output_type": "display_data"
    },
    {
     "data": {
      "image/png": "[encoded data removed]",
      "text/plain": [
       "<Figure size 640x480 with 1 Axes>"
      ]
     },
     "metadata": {},
     "output_type": "display_data"
    }
   ],
   "source": [
    "plt.hist(msa_energies[:, 0], weights=w_full_valid, bins=40, range=(150, 350))\n",
    "\n",
    "plt.axvline(x=c.hamiltonians([c.seq()])[0][0], color='red')\n",
    "plt.title(\"Weighted Energy Distribution of MSA Data\")\n",
    "# plt.yscale('log')\n",
    "plt.show()\n",
    "\n",
    "# plt.hist(mutant_energies[:, 0])\n",
    "plt.hist(msa_energies[:, 0], bins=40, range=(150, 350))\n",
    "plt.title(\"Unweighted Energy Distribution of MSA Data\")\n",
    "# plt.yscale('log')\n",
    "plt.show()"
   ]
  },
  {
   "cell_type": "code",
   "execution_count": 82,
   "metadata": {},
   "outputs": [],
   "source": [
    "msa_energies_10000 = mod_hamiltonians(S, c2.J_ij, c2.h_i)"
   ]
  },
  {
   "cell_type": "code",
   "execution_count": 83,
   "metadata": {},
   "outputs": [],
   "source": [
    "# process weights of c2\n",
    "w_10000_valid = []\n",
    "for _w in w_10000:\n",
    "    if _w != 0:\n",
    "        w_10000_valid.append(1/_w)"
   ]
  },
  {
   "cell_type": "code",
   "execution_count": 94,
   "metadata": {},
   "outputs": [
    {
     "name": "stdout",
     "output_type": "stream",
     "text": [
      "<class 'list'>\n",
      "890.7554558888035\n"
     ]
    }
   ],
   "source": [
    "# len(w_10000_valid)\n",
    "# sum(w_10000_valid)\n",
    "print(type(w_10000_valid))\n",
    "a = 0\n",
    "for _ in w_10000_valid:\n",
    "    a+=_\n",
    "print(a)"
   ]
  },
  {
   "cell_type": "code",
   "execution_count": 109,
   "metadata": {},
   "outputs": [
    {
     "data": {
      "image/png": "[encoded data removed]",
      "text/plain": [
       "<Figure size 640x480 with 1 Axes>"
      ]
     },
     "metadata": {},
     "output_type": "display_data"
    }
   ],
   "source": [
    "plt.hist(msa_energies[:9954, 0], weights=w_10000_valid, bins=40, range=(150, 350))\n",
    "\n",
    "plt.axvline(x=c.hamiltonians([c.seq()])[0][0], color='red')\n",
    "plt.title(\"Weighted Energy Distribution of MSA Data for the first 10000 sequences\")\n",
    "# plt.yscale('log')\n",
    "plt.show()"
   ]
  },
  {
   "cell_type": "code",
   "execution_count": 98,
   "metadata": {},
   "outputs": [],
   "source": [
    "### train a model on the 10000-20000th sequences to get the weights\n",
    "fasta_sequences = SeqIO.parse(open(\"PABP_YEAST/data/PABP_YEAST.a2m\"),'fasta')\n",
    "with open(f\"PABP_YEAST/data/PABP_YEAST_20000.a2m\", \"w+\") as out_file:\n",
    "    cnt = 0\n",
    "    seq = []\n",
    "    for fasta in fasta_sequences:\n",
    "        if 10000 <= cnt < 20000:\n",
    "            seq.append(fasta)\n",
    "        elif cnt >= 20000:\n",
    "            break\n",
    "        cnt += 1\n",
    "    SeqIO.write(seq, out_file, \"fasta\")"
   ]
  },
  {
   "cell_type": "code",
   "execution_count": 99,
   "metadata": {},
   "outputs": [
    {
     "name": "stdout",
     "output_type": "stream",
     "text": [
      "Could not find PABP_YEAST, proceeding without focus sequence\n",
      "9981 valid sequences out of 10000 \n",
      "96 sites\n",
      "Effective number of samples (to 1 decimal place): 1650.4\t(80% identical neighborhood = 1.000 samples)\n",
      "iter\ttime\tcond\tfx\t-loglk\t||h||\t||e||\n",
      "1\t0.1\t133.61\t251977.1\t251903.5\t75.8\t1.0\n",
      "2\t0.2\t264.45\t214879.9\t211505.1\t75.8\t14.3\n",
      "3\t0.3\t117.96\t191483.5\t184657.1\t75.8\t20.4\n",
      "4\t0.4\t77.34\t182756.4\t176636.3\t75.8\t19.3\n",
      "5\t0.5\t120.05\t177530.6\t172343.6\t75.7\t17.8\n",
      "6\t0.6\t49.14\t171495.0\t165460.1\t75.7\t19.2\n",
      "7\t0.7\t45.67\t166115.5\t158693.8\t75.7\t21.3\n",
      "8\t0.8\t48.67\t155128.2\t141933.1\t75.7\t28.5\n",
      "9\t1.0\t68.16\t151418.0\t134761.2\t75.6\t32.0\n",
      "10\t1.1\t49.19\t146911.8\t126827.8\t75.6\t35.2\n",
      "11\t1.2\t50.65\t141938.8\t116177.8\t75.6\t39.8\n",
      "12\t1.3\t34.54\t138827.0\t111910.1\t75.6\t40.7\n",
      "13\t1.4\t29.44\t136978.1\t111007.6\t75.6\t40.0\n",
      "14\t1.5\t50.63\t135048.1\t109196.7\t75.6\t39.9\n",
      "15\t1.6\t25.26\t132961.0\t106540.1\t75.6\t40.3\n",
      "16\t1.7\t20.22\t132062.8\t104419.1\t75.6\t41.3\n",
      "17\t1.8\t18.87\t130541.3\t99555.9\t75.6\t43.7\n",
      "18\t2.0\t23.99\t129960.2\t97323.4\t75.5\t44.8\n",
      "19\t2.1\t14.75\t129390.8\t95583.6\t75.5\t45.6\n",
      "20\t2.2\t12.40\t128806.9\t93801.3\t75.5\t46.4\n",
      "21\t2.3\t17.58\t128463.5\t92864.9\t75.5\t46.8\n",
      "22\t2.4\t10.99\t128144.0\t92425.5\t75.5\t46.9\n",
      "23\t2.5\t10.44\t127794.9\t91879.0\t75.5\t47.0\n",
      "24\t2.6\t10.45\t127593.6\t91623.3\t75.5\t47.1\n",
      "25\t2.7\t9.14\t127374.8\t91019.7\t75.5\t47.3\n",
      "26\t2.8\t8.18\t127225.7\t90461.0\t75.5\t47.6\n",
      "27\t2.9\t5.89\t127118.2\t90037.6\t75.5\t47.8\n",
      "28\t3.0\t4.88\t127041.4\t89712.9\t75.5\t48.0\n",
      "29\t3.1\t9.67\t126970.9\t89174.8\t75.5\t48.3\n",
      "30\t3.2\t4.08\t126892.6\t89024.6\t75.5\t48.3\n",
      "31\t3.3\t3.49\t126861.3\t89009.5\t75.5\t48.3\n",
      "32\t3.4\t4.32\t126818.9\t88925.8\t75.5\t48.3\n",
      "33\t3.5\t7.68\t126799.9\t88768.0\t75.5\t48.4\n",
      "34\t3.6\t2.95\t126763.4\t88731.1\t75.5\t48.4\n",
      "35\t3.7\t2.43\t126744.9\t88684.4\t75.5\t48.4\n",
      "36\t3.8\t2.65\t126729.3\t88624.3\t75.4\t48.5\n",
      "37\t3.9\t7.04\t126720.6\t88550.5\t75.4\t48.5\n",
      "38\t4.0\t2.04\t126698.1\t88511.6\t75.4\t48.5\n",
      "39\t4.1\t1.59\t126691.5\t88518.2\t75.4\t48.5\n",
      "40\t4.2\t1.98\t126681.1\t88526.9\t75.4\t48.5\n",
      "41\t4.3\t2.56\t126668.0\t88538.7\t75.4\t48.5\n",
      "42\t4.5\t2.55\t126660.0\t88558.4\t75.4\t48.5\n",
      "43\t4.6\t1.38\t126652.7\t88566.5\t75.4\t48.5\n",
      "44\t4.7\t1.29\t126647.5\t88580.6\t75.4\t48.4\n",
      "45\t4.8\t1.55\t126642.4\t88610.7\t75.4\t48.4\n",
      "46\t4.9\t2.46\t126639.1\t88663.1\t75.4\t48.4\n",
      "47\t5.0\t1.15\t126635.0\t88668.1\t75.4\t48.4\n",
      "48\t5.1\t1.15\t126631.8\t88687.4\t75.4\t48.4\n",
      "49\t5.2\t1.32\t126628.5\t88722.0\t75.4\t48.3\n",
      "50\t5.3\t2.38\t126623.0\t88813.7\t75.3\t48.3\n",
      "51\t5.4\t1.68\t126619.2\t88903.6\t75.3\t48.2\n",
      "52\t5.5\t0.88\t126616.7\t88893.5\t75.3\t48.2\n",
      "53\t5.6\t0.83\t126614.4\t88905.1\t75.3\t48.2\n",
      "54\t5.7\t1.07\t126611.7\t88942.5\t75.3\t48.2\n",
      "55\t5.8\t2.33\t126608.2\t89031.2\t75.3\t48.1\n",
      "56\t5.9\t1.26\t126603.4\t89094.5\t75.3\t48.1\n",
      "57\t6.0\t1.09\t126599.6\t89137.8\t75.3\t48.1\n",
      "58\t6.1\t1.47\t126594.7\t89205.7\t75.2\t48.0\n",
      "59\t6.2\t2.34\t126591.3\t89296.6\t75.2\t47.9\n",
      "60\t6.3\t1.24\t126587.0\t89291.6\t75.2\t47.9\n",
      "61\t6.4\t1.35\t126581.9\t89293.0\t75.2\t47.9\n",
      "62\t6.5\t1.72\t126576.8\t89304.6\t75.2\t47.9\n",
      "63\t6.6\t4.24\t126570.6\t89357.5\t75.1\t47.9\n",
      "64\t6.7\t1.85\t126559.9\t89368.9\t75.1\t47.9\n",
      "65\t6.8\t1.34\t126553.8\t89377.9\t75.1\t47.9\n",
      "66\t6.9\t1.63\t126547.7\t89390.1\t75.1\t47.9\n",
      "67\t7.0\t1.94\t126539.0\t89399.4\t75.0\t47.8\n",
      "68\t7.1\t5.42\t126536.1\t89418.5\t75.0\t47.8\n",
      "69\t7.2\t1.82\t126520.2\t89391.2\t75.0\t47.8\n",
      "70\t7.3\t1.60\t126513.8\t89371.2\t75.0\t47.8\n",
      "71\t7.4\t2.05\t126503.6\t89338.2\t75.0\t47.9\n",
      "72\t7.5\t3.06\t126490.7\t89286.1\t75.0\t47.9\n",
      "73\t7.6\t2.62\t126479.1\t89220.3\t75.0\t47.9\n",
      "74\t7.7\t1.62\t126470.2\t89202.8\t75.0\t47.9\n",
      "75\t7.8\t1.94\t126458.4\t89164.9\t75.0\t47.9\n",
      "76\t7.9\t2.57\t126449.9\t89115.8\t75.0\t48.0\n",
      "77\t8.0\t1.96\t126438.7\t89042.9\t75.0\t48.0\n",
      "78\t8.1\t2.22\t126430.5\t88992.0\t75.1\t48.0\n",
      "79\t8.2\t1.70\t126422.4\t88952.0\t75.1\t48.1\n",
      "80\t8.3\t1.54\t126415.4\t88929.2\t75.1\t48.1\n",
      "81\t8.4\t2.67\t126409.1\t88902.5\t75.2\t48.1\n",
      "82\t8.5\t1.26\t126402.8\t88884.6\t75.2\t48.1\n",
      "83\t8.6\t1.21\t126399.8\t88878.5\t75.2\t48.1\n",
      "84\t8.7\t1.31\t126395.1\t88866.2\t75.2\t48.1\n",
      "85\t8.9\t1.66\t126392.4\t88854.6\t75.2\t48.1\n",
      "86\t9.0\t0.95\t126389.6\t88846.6\t75.3\t48.1\n",
      "87\t9.1\t0.87\t126387.2\t88840.6\t75.3\t48.1\n",
      "88\t9.2\t1.32\t126385.1\t88836.7\t75.3\t48.1\n",
      "89\t9.3\t0.86\t126382.8\t88835.1\t75.3\t48.1\n",
      "90\t9.4\t0.72\t126380.9\t88837.5\t75.3\t48.1\n",
      "91\t9.5\t1.37\t126379.3\t88843.5\t75.3\t48.1\n",
      "92\t9.6\t0.77\t126377.9\t88844.7\t75.3\t48.1\n",
      "93\t9.7\t0.58\t126376.9\t88846.5\t75.3\t48.1\n",
      "94\t9.8\t0.56\t126376.0\t88849.2\t75.3\t48.1\n",
      "95\t9.9\t1.60\t126375.8\t88857.5\t75.4\t48.1\n",
      "96\t10.0\t0.54\t126374.6\t88856.6\t75.4\t48.1\n",
      "97\t10.1\t0.35\t126374.2\t88857.3\t75.4\t48.1\n",
      "98\t10.2\t0.44\t126373.8\t88859.5\t75.4\t48.1\n",
      "99\t10.3\t0.50\t126373.3\t88861.4\t75.4\t48.1\n",
      "100\t10.4\t1.36\t126373.2\t88862.8\t75.4\t48.1\n",
      "101\t10.5\t0.40\t126372.4\t88862.4\t75.4\t48.1\n",
      "102\t10.6\t0.27\t126372.2\t88861.0\t75.4\t48.1\n",
      "103\t10.7\t0.34\t126371.8\t88857.6\t75.4\t48.1\n",
      "104\t10.8\t0.43\t126371.5\t88853.3\t75.4\t48.1\n",
      "105\t10.9\t0.34\t126371.2\t88847.5\t75.4\t48.1\n",
      "106\t11.0\t0.27\t126370.9\t88844.5\t75.4\t48.1\n",
      "107\t11.1\t0.39\t126370.6\t88838.0\t75.4\t48.1\n",
      "108\t11.2\t0.45\t126370.3\t88832.2\t75.4\t48.1\n",
      "109\t11.3\t0.34\t126370.1\t88826.8\t75.4\t48.1\n",
      "110\t11.4\t0.31\t126369.7\t88817.5\t75.4\t48.1\n",
      "111\t11.5\t0.52\t126369.5\t88810.0\t75.4\t48.1\n",
      "112\t11.6\t0.35\t126369.2\t88805.8\t75.4\t48.1\n",
      "113\t11.7\t0.31\t126368.8\t88799.9\t75.4\t48.1\n",
      "114\t11.9\t0.38\t126368.6\t88796.5\t75.5\t48.1\n",
      "115\t12.0\t0.54\t126368.0\t88788.4\t75.5\t48.1\n",
      "116\t12.1\t0.91\t126367.7\t88781.4\t75.5\t48.1\n",
      "117\t12.2\t0.41\t126367.1\t88782.4\t75.5\t48.1\n",
      "118\t12.3\t0.38\t126366.7\t88784.3\t75.5\t48.1\n",
      "119\t12.4\t0.49\t126366.2\t88785.3\t75.5\t48.1\n",
      "120\t12.5\t1.10\t126365.5\t88787.4\t75.5\t48.1\n",
      "121\t12.6\t0.56\t126364.5\t88787.3\t75.6\t48.1\n",
      "122\t12.7\t0.42\t126363.9\t88786.7\t75.6\t48.1\n",
      "123\t12.8\t0.52\t126363.1\t88787.3\t75.6\t48.1\n",
      "124\t12.9\t0.74\t126362.2\t88789.9\t75.7\t48.1\n",
      "125\t13.0\t0.81\t126361.1\t88795.3\t75.7\t48.1\n",
      "126\t13.1\t0.64\t126359.8\t88799.3\t75.8\t48.1\n",
      "127\t13.2\t0.80\t126358.2\t88808.0\t75.8\t48.1\n",
      "128\t13.3\t0.71\t126357.2\t88811.0\t75.9\t48.1\n",
      "129\t13.4\t0.61\t126356.4\t88811.9\t75.9\t48.1\n",
      "130\t13.5\t1.09\t126355.1\t88815.1\t76.0\t48.1\n",
      "131\t13.6\t0.81\t126354.1\t88816.9\t76.0\t48.1\n",
      "132\t13.7\t0.57\t126353.4\t88816.4\t76.1\t48.1\n",
      "133\t13.8\t0.47\t126352.2\t88816.5\t76.1\t48.1\n",
      "134\t13.9\t0.85\t126351.6\t88817.2\t76.2\t48.1\n",
      "135\t14.0\t0.51\t126350.9\t88816.9\t76.3\t48.1\n",
      "136\t14.1\t0.37\t126350.4\t88815.7\t76.3\t48.1\n",
      "137\t14.2\t0.41\t126350.0\t88814.7\t76.3\t48.1\n",
      "138\t14.3\t0.57\t126349.2\t88810.6\t76.4\t48.1\n",
      "139\t14.4\t0.64\t126348.8\t88808.0\t76.4\t48.1\n",
      "140\t14.5\t0.36\t126348.5\t88805.8\t76.4\t48.1\n",
      "141\t14.6\t0.28\t126348.2\t88803.3\t76.4\t48.1\n",
      "142\t14.7\t0.35\t126347.9\t88800.7\t76.4\t48.1\n",
      "143\t14.9\t0.28\t126347.7\t88797.2\t76.4\t48.1\n",
      "144\t15.0\t0.38\t126347.5\t88794.0\t76.5\t48.1\n",
      "145\t15.1\t0.23\t126347.3\t88791.6\t76.5\t48.1\n",
      "146\t15.2\t0.20\t126347.2\t88791.0\t76.5\t48.1\n",
      "147\t15.3\t0.30\t126347.0\t88789.3\t76.5\t48.1\n",
      "148\t15.4\t0.31\t126347.0\t88787.6\t76.5\t48.1\n",
      "149\t15.5\t0.16\t126346.9\t88787.8\t76.5\t48.1\n",
      "150\t15.6\t0.13\t126346.8\t88787.5\t76.5\t48.1\n",
      "151\t15.7\t0.16\t126346.7\t88787.3\t76.5\t48.1\n",
      "152\t15.8\t0.45\t126346.7\t88788.1\t76.5\t48.1\n",
      "153\t15.9\t0.14\t126346.6\t88788.0\t76.5\t48.1\n",
      "154\t16.0\t0.12\t126346.5\t88788.5\t76.5\t48.1\n",
      "155\t16.1\t0.17\t126346.4\t88790.2\t76.5\t48.1\n",
      "156\t16.2\t0.41\t126346.4\t88793.8\t76.5\t48.1\n",
      "157\t16.3\t0.18\t126346.3\t88794.7\t76.5\t48.1\n",
      "158\t16.4\t0.14\t126346.2\t88796.5\t76.6\t48.1\n",
      "159\t16.5\t0.17\t126346.2\t88798.8\t76.6\t48.1\n",
      "160\t16.6\t0.22\t126346.1\t88803.3\t76.6\t48.1\n",
      "161\t16.7\t0.56\t126346.0\t88813.8\t76.6\t48.1\n",
      "162\t16.8\t0.18\t126345.8\t88812.7\t76.6\t48.1\n",
      "163\t16.9\t0.18\t126345.8\t88812.6\t76.6\t48.1\n",
      "164\t17.0\t0.24\t126345.6\t88814.9\t76.6\t48.1\n",
      "165\t17.1\t0.36\t126345.4\t88819.9\t76.7\t48.1\n",
      "166\t17.2\t0.44\t126345.2\t88828.7\t76.7\t48.1\n",
      "167\t17.3\t0.23\t126345.0\t88828.8\t76.7\t48.1\n",
      "168\t17.4\t0.27\t126344.8\t88829.2\t76.8\t48.1\n",
      "169\t17.5\t0.33\t126344.6\t88830.3\t76.8\t48.1\n",
      "170\t17.6\t0.58\t126344.4\t88832.0\t76.9\t48.1\n",
      "171\t17.7\t0.34\t126344.1\t88833.8\t76.9\t48.1\n",
      "172\t17.8\t0.29\t126343.8\t88834.7\t77.0\t48.1\n",
      "173\t17.9\t0.42\t126343.4\t88835.1\t77.1\t48.1\n",
      "174\t18.0\t0.62\t126343.1\t88835.1\t77.2\t48.1\n",
      "175\t18.1\t0.34\t126342.7\t88834.0\t77.2\t48.1\n",
      "176\t18.2\t0.35\t126342.3\t88832.2\t77.3\t48.1\n",
      "177\t18.3\t0.43\t126341.9\t88830.8\t77.3\t48.1\n",
      "178\t18.4\t0.74\t126341.5\t88828.2\t77.5\t48.1\n",
      "179\t18.5\t0.36\t126341.0\t88827.3\t77.5\t48.1\n",
      "180\t18.6\t0.36\t126340.6\t88827.0\t77.6\t48.1\n",
      "181\t18.8\t0.39\t126340.1\t88825.9\t77.7\t48.1\n",
      "182\t18.9\t0.57\t126339.9\t88824.7\t77.8\t48.1\n",
      "183\t19.0\t0.30\t126339.6\t88823.1\t77.8\t48.1\n",
      "184\t19.1\t0.27\t126339.3\t88821.6\t77.9\t48.1\n",
      "185\t19.2\t0.38\t126339.0\t88819.3\t78.0\t48.1\n",
      "186\t19.3\t0.39\t126338.8\t88816.7\t78.0\t48.1\n",
      "187\t19.4\t0.23\t126338.6\t88815.8\t78.1\t48.1\n",
      "188\t19.5\t0.24\t126338.4\t88814.4\t78.1\t48.1\n",
      "189\t19.6\t0.30\t126338.2\t88812.4\t78.1\t48.1\n",
      "190\t19.7\t0.23\t126338.1\t88808.8\t78.2\t48.1\n",
      "191\t19.8\t0.25\t126338.0\t88806.9\t78.2\t48.1\n",
      "192\t19.9\t0.18\t126337.9\t88805.9\t78.2\t48.1\n",
      "193\t20.0\t0.15\t126337.8\t88803.7\t78.2\t48.1\n",
      "194\t20.1\t0.36\t126337.7\t88800.7\t78.3\t48.1\n",
      "195\t20.2\t0.15\t126337.7\t88800.0\t78.3\t48.1\n",
      "196\t20.3\t0.12\t126337.6\t88799.4\t78.3\t48.1\n",
      "197\t20.4\t0.14\t126337.6\t88798.4\t78.3\t48.1\n",
      "198\t20.5\t0.33\t126337.5\t88795.7\t78.3\t48.1\n",
      "199\t20.6\t0.14\t126337.4\t88794.4\t78.3\t48.1\n",
      "200\t20.7\t0.12\t126337.4\t88794.0\t78.4\t48.1\n",
      "Gradient optimization: MAXIMUMITERATION\n"
     ]
    }
   ],
   "source": [
    "### training code for model\n",
    "!plmc/bin/plmc -o PABP_YEAST/model/PABP_YEAST_20000.model_params -c PABP_YEAST/model/PABP_YEAST_20000.txt -f PABP_YEAST -le 16.2 -lh 0.01 -m 200 -t 0.2 -g PABP_YEAST/data/PABP_YEAST_20000.a2m"
   ]
  },
  {
   "cell_type": "code",
   "execution_count": 104,
   "metadata": {},
   "outputs": [],
   "source": [
    "c3 = CouplingsModel(\"PABP_YEAST/model/PABP_YEAST_10000.model_params\")\n",
    "w_20000 = c3.weights\n",
    "w_20000_valid = []\n",
    "for i in range(c2.weights.shape[0]):\n",
    "    if w_20000[i] == 0: \n",
    "        continue\n",
    "    w_20000[i] = 1/w_20000[i]\n",
    "    w_20000_valid.append(w_20000[i])\n"
   ]
  },
  {
   "cell_type": "code",
   "execution_count": 107,
   "metadata": {},
   "outputs": [
    {
     "data": {
      "image/png": "[encoded data removed]",
      "text/plain": [
       "<Figure size 640x480 with 1 Axes>"
      ]
     },
     "metadata": {},
     "output_type": "display_data"
    }
   ],
   "source": [
    "plt.hist(msa_energies[len(w_10000_valid):len(w_10000_valid)+len(w_20000_valid), 0], weights=w_20000_valid, bins=40, range=(150, 350))\n",
    "\n",
    "plt.axvline(x=c.hamiltonians([c.seq()])[0][0], color='red')\n",
    "plt.title(\"Weighted Energy Distribution of MSA Data for the 10000th to 20000th sequence\")\n",
    "# plt.yscale('log')\n",
    "plt.show()"
   ]
  },
  {
   "cell_type": "code",
   "execution_count": null,
   "metadata": {},
   "outputs": [],
   "source": []
  }
 ],
 "metadata": {
  "kernelspec": {
   "display_name": "Python 3.9.5 ('dev_arthur')",
   "language": "python",
   "name": "python3"
  },
  "language_info": {
   "codemirror_mode": {
    "name": "ipython",
    "version": 3
   },
   "file_extension": ".py",
   "mimetype": "text/x-python",
   "name": "python",
   "nbconvert_exporter": "python",
   "pygments_lexer": "ipython3",
   "version": "3.9.5"
  },
  "orig_nbformat": 4,
  "vscode": {
   "interpreter": {
    "hash": "2b975e03f1e86e078ea1d566012707067ac1f6e4c759ff48317f6f9dc08e1449"
   }
  }
 },
 "nbformat": 4,
 "nbformat_minor": 2
}
