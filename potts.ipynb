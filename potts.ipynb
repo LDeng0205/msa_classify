{
 "cells": [
  {
   "cell_type": "markdown",
   "metadata": {},
   "source": [
    "This notebook is for further investigation of the Potts model in predicting protein fitness with MSA. "
   ]
  },
  {
   "cell_type": "code",
   "execution_count": 51,
   "metadata": {},
   "outputs": [],
   "source": [
    "import pandas as pd\n",
    "import numpy as np\n",
    "import matplotlib.pyplot as plt\n",
    "from model import CouplingsModel\n",
    "import tools\n",
    "import scipy\n",
    "from pathlib import Path\n",
    "from collections import OrderedDict\n",
    "# biopython SeqIO\n",
    "from Bio import SeqIO\n",
    "from sklearn.metrics import roc_auc_score\n",
    "import scipy"
   ]
  },
  {
   "cell_type": "code",
   "execution_count": 52,
   "metadata": {},
   "outputs": [],
   "source": [
    "ALPHABET_PROTEIN = '-ACDEFGHIKLMNPQRSTVWY'\n",
    "def check_sequence(s, alphabet=ALPHABET_PROTEIN):\n",
    "    for aa in s:\n",
    "        if aa not in ALPHABET_PROTEIN:\n",
    "            return False\n",
    "    return True"
   ]
  },
  {
   "cell_type": "code",
   "execution_count": 53,
   "metadata": {},
   "outputs": [],
   "source": [
    "NAME = 'PABP_YEAST'\n",
    "\n",
    "### training code for model, uncomment the following line: \n",
    "#!plmc/bin/plmc -o PABP_YEAST/model/{NAME}.model_params -c PABP_YEAST/model/{NAME}.txt -f PABP_YEAST -le 16.2 -lh 0.01 -m 200 -t 0.2 -g PABP_YEAST/data/{NAME}.a2m\n",
    "c = CouplingsModel(f\"PABP_YEAST/model/{NAME}.model_params\")"
   ]
  },
  {
   "cell_type": "code",
   "execution_count": 19,
   "metadata": {},
   "outputs": [],
   "source": [
    "# load parameters from file to create a pairwise model\n",
    "c = CouplingsModel(f\"PABP_YEAST/model/{NAME}.model_params\")\n",
    "# read the experimental mutational scanning dataset for PABP by Melamed et al., RNA, 2013\n",
    "data = pd.read_csv(\n",
    "    \"PABP_YEAST/data/PABP_YEAST_Fields2013-singles.csv\", sep=\";\", comment=\"#\"\n",
    ")\n",
    "# wt = {\"mutant\": \"wild\", \"linear\": 0, \"log\": 0}\n",
    "# data = data.append(wt, ignore_index=True)"
   ]
  },
  {
   "cell_type": "code",
   "execution_count": 54,
   "metadata": {},
   "outputs": [
    {
     "name": "stdout",
     "output_type": "stream",
     "text": [
      "  mutant    linear       log  effect_prediction_epistatic  \\\n",
      "0  G126A  0.711743 -0.490571                    -2.597435   \n",
      "1  G126C  0.449027 -1.155127                    -5.653770   \n",
      "2  G126E  0.588928 -0.763836                    -6.589126   \n",
      "3  G126D  0.229853 -2.121218                    -7.249220   \n",
      "4  G126N  0.679435 -0.557593                    -5.799652   \n",
      "\n",
      "   effect_prediction_independent  \n",
      "0                       0.406487  \n",
      "1                      -0.027602  \n",
      "2                      -1.827570  \n",
      "3                      -1.180076  \n",
      "4                       0.387440  \n",
      "Evmutation spearman:  SpearmanrResult(correlation=0.59280030296668, pvalue=1.2266190417209348e-113)\n",
      "Independent control spearman:  SpearmanrResult(correlation=0.4236780791119215, pvalue=6.077688379018816e-53)\n"
     ]
    }
   ],
   "source": [
    "\n",
    "# predict mutations using our model\n",
    "data_pred = tools.predict_mutation_table(\n",
    "    c, data, \"effect_prediction_epistatic\"\n",
    ")\n",
    "\n",
    "# can also add predictions by the corresponding independent model\n",
    "c0 = c.to_independent_model()\n",
    "\n",
    "data_pred = tools.predict_mutation_table(\n",
    "    c0, data_pred, \"effect_prediction_independent\"\n",
    ")\n",
    "print(data_pred.head())\n",
    "pred = data_pred['effect_prediction_epistatic']\n",
    "pred_ind = data_pred['effect_prediction_independent']\n",
    "label = data_pred['linear']\n",
    "print('Evmutation spearman: ', scipy.stats.spearmanr(pred, label))\n",
    "print('Independent control spearman: ', scipy.stats.spearmanr(pred_ind, label))"
   ]
  },
  {
   "cell_type": "code",
   "execution_count": 55,
   "metadata": {},
   "outputs": [],
   "source": [
    "yeast_seq_str = []\n",
    "fasta_sequences = SeqIO.parse(open(\"PABP_YEAST/data/PABP_YEAST.a2m\"),'fasta')\n",
    "for fasta in fasta_sequences:\n",
    "    yeast_seq_str.append(str(fasta.seq))"
   ]
  },
  {
   "cell_type": "code",
   "execution_count": 56,
   "metadata": {},
   "outputs": [],
   "source": [
    "pos_upper = [x for x in range(len(yeast_seq_str[0])) if not yeast_seq_str[0][x].islower()]\n",
    "processed_yeast = np.asarray([np.asarray(list(s))[pos_upper] for s in yeast_seq_str])\n",
    "processed_yeast = np.asarray([s for s in processed_yeast if check_sequence(s)])\n",
    "wildtype = yeast_seq_str[0]"
   ]
  },
  {
   "cell_type": "code",
   "execution_count": 57,
   "metadata": {},
   "outputs": [
    {
     "name": "stdout",
     "output_type": "stream",
     "text": [
      "152041\n",
      "(151528, 82)\n"
     ]
    }
   ],
   "source": [
    "print(len(yeast_seq_str))\n",
    "print(processed_yeast.shape)"
   ]
  },
  {
   "cell_type": "code",
   "execution_count": 8,
   "metadata": {},
   "outputs": [
    {
     "data": {
      "text/plain": [
       "array([['K', 'G', 'S', ..., 'L', 'S', 'R'],\n",
       "       ['K', 'G', 'S', ..., 'L', 'S', 'R'],\n",
       "       ['K', 'G', 'S', ..., 'L', 'S', 'R'],\n",
       "       ...,\n",
       "       ['K', 'G', 'S', ..., 'L', 'S', 'R'],\n",
       "       ['K', 'G', 'S', ..., 'L', 'S', 'R'],\n",
       "       ['K', 'G', 'S', ..., 'L', 'S', 'R']], dtype='<U1')"
      ]
     },
     "execution_count": 8,
     "metadata": {},
     "output_type": "execute_result"
    }
   ],
   "source": [
    "mutant, label = data['mutant'].to_numpy(), data['linear'].to_numpy()\n",
    "mutant_data = []\n",
    "for m in mutant:\n",
    "    if m == 'wild':\n",
    "        mutant_data.append(np.asarray(list(wildtype))[pos_upper])\n",
    "        continue\n",
    "    original_aa, loc, mutant_aa = m[0], int(m[1:4])-115, m[4]\n",
    "    assert wildtype[loc] == original_aa\n",
    "    mut_seq = np.asarray(list(wildtype[:loc]+mutant_aa+wildtype[loc+1:]))\n",
    "    mutant_data.append(mut_seq[pos_upper])\n",
    "mutant_data = np.asarray(mutant_data)\n",
    "mutant_data"
   ]
  },
  {
   "cell_type": "code",
   "execution_count": 84,
   "metadata": {},
   "outputs": [],
   "source": [
    "mutant_energies = c.hamiltonians(mutant_data.tolist())\n",
    "\n",
    "# c.delta_hamiltonian"
   ]
  },
  {
   "cell_type": "code",
   "execution_count": 80,
   "metadata": {},
   "outputs": [],
   "source": [
    "# modify energy computation to enable computing sequences with gap characters\n",
    "def mod_convert_sequences(sequences):\n",
    "    \"\"\"\n",
    "    Converts sequences in string format into internal symbol representation\n",
    "    according to alphabet of model\n",
    "\n",
    "    Parameters\n",
    "    ----------\n",
    "    sequences : list of str\n",
    "        List of sequences (must have same length and correspond to\n",
    "        model states)\n",
    "\n",
    "    Returns\n",
    "    -------\n",
    "    np.array\n",
    "        Matrix of size len(sequences) x L of sequences converted to\n",
    "        integer symbols\n",
    "    \"\"\"\n",
    "    seq_lens = list(set(map(len, sequences)))\n",
    "    if len(seq_lens) != 1:\n",
    "        raise ValueError(\"Input sequences have different lengths: \" + str(seq_lens))\n",
    "\n",
    "    L_seq = seq_lens[0]\n",
    "\n",
    "    S = np.empty((len(sequences), L_seq), dtype=np.int)\n",
    "\n",
    "    try:\n",
    "        for i, s in enumerate(sequences):\n",
    "            conv = []\n",
    "            for x in s:\n",
    "                if x == '-':\n",
    "                    conv.append(-1)\n",
    "                else:\n",
    "                    conv.append(c.alphabet_map[x])\n",
    "            S[i] = conv\n",
    "    except KeyError:\n",
    "        raise ValueError(\"Invalid symbol in sequence {}: {}\".format(i, x))\n",
    "    return S\n",
    "    \n",
    "def mod_hamiltonians(sequences, J_ij, h_i):\n",
    "    \"\"\"\n",
    "    Calculates the Hamiltonian of the global probability distribution P(A_1, ..., A_L)\n",
    "    for a given sequence A_1,...,A_L from J_ij and h_i parameters\n",
    "\n",
    "    Parameters\n",
    "    ----------\n",
    "    sequences : np.array\n",
    "        Sequence matrix for which Hamiltonians will be computed\n",
    "    J_ij: np.array\n",
    "        L x L x num_symbols x num_symbols J_ij pair coupling parameter matrix\n",
    "    h_i: np.array\n",
    "        L x num_symbols h_i fields parameter matrix\n",
    "\n",
    "    Returns\n",
    "    -------\n",
    "    np.array\n",
    "        Float matrix of size len(sequences) x 3, where each row corresponds to the\n",
    "        1) total Hamiltonian of sequence and the 2) J_ij and 3) h_i sub-sums\n",
    "    \"\"\"\n",
    "    # iterate over sequences\n",
    "    N, L = sequences.shape\n",
    "    H = np.zeros((N, 3))\n",
    "    for s in range(N):\n",
    "        A = sequences[s]\n",
    "        hi_sum = 0.0\n",
    "        Jij_sum = 0.0\n",
    "        for i in range(L):\n",
    "            if A[i] != -1:\n",
    "                hi_sum += h_i[i, A[i]]\n",
    "                for j in range(i + 1, L):\n",
    "                    if A[j] != -1:\n",
    "                        Jij_sum += J_ij[i, j, A[i], A[j]]\n",
    "\n",
    "        H[s] = [Jij_sum + hi_sum, Jij_sum, hi_sum]\n",
    "\n",
    "    return H"
   ]
  },
  {
   "cell_type": "code",
   "execution_count": 81,
   "metadata": {},
   "outputs": [
    {
     "name": "stderr",
     "output_type": "stream",
     "text": [
      "/tmp/ipykernel_3373741/1363331714.py:25: DeprecationWarning: `np.int` is a deprecated alias for the builtin `int`. To silence this warning, use `int` by itself. Doing this will not modify any behavior and is safe. When replacing `np.int`, you may wish to use e.g. `np.int64` or `np.int32` to specify the precision. If you wish to review your current use, check the release note link for additional information.\n",
      "Deprecated in NumPy 1.20; for more details and guidance: https://numpy.org/devdocs/release/1.20.0-notes.html#deprecations\n",
      "  S = np.empty((len(sequences), L_seq), dtype=np.int)\n"
     ]
    }
   ],
   "source": [
    "S = mod_convert_sequences(processed_yeast.tolist())"
   ]
  },
  {
   "cell_type": "code",
   "execution_count": 83,
   "metadata": {},
   "outputs": [],
   "source": [
    "msa_energies = mod_hamiltonians(S, c.J_ij, c.h_i)"
   ]
  },
  {
   "cell_type": "code",
   "execution_count": 88,
   "metadata": {},
   "outputs": [
    {
     "data": {
      "image/png": "[encoded data removed]",
      "text/plain": [
       "<Figure size 640x480 with 1 Axes>"
      ]
     },
     "metadata": {},
     "output_type": "display_data"
    }
   ],
   "source": [
    "plt.hist(msa_energies[:, 0])\n",
    "plt.hist(mutant_energies[:, 0])\n",
    "plt.axvline(x=c.hamiltonians([c.seq()])[0][0], color='red')\n",
    "plt.yscale('log')\n",
    "plt.show()"
   ]
  },
  {
   "cell_type": "code",
   "execution_count": 47,
   "metadata": {},
   "outputs": [
    {
     "ename": "TypingError",
     "evalue": "Failed in nopython mode pipeline (step: nopython frontend)\nNo implementation of function Function(<built-in function getitem>) found for signature:\n \n >>> getitem(array(float32, 2d, C), Tuple(int64, [unichr x 1]))\n \nThere are 22 candidate implementations:\n   - Of which 20 did not match due to:\n   Overload of function 'getitem': File: <numerous>: Line N/A.\n     With argument(s): '(array(float32, 2d, C), Tuple(int64, [unichr x 1]))':\n    No match.\n   - Of which 2 did not match due to:\n   Overload in function 'GetItemBuffer.generic': File: numba/core/typing/arraydecl.py: Line 166.\n     With argument(s): '(array(float32, 2d, C), Tuple(int64, [unichr x 1]))':\n    Rejected as the implementation raised a specific error:\n      NumbaTypeError: unsupported array index type [unichr x 1] in Tuple(int64, [unichr x 1])\n  raised from /data/anaconda3/envs/dev_arthur/lib/python3.9/site-packages/numba/core/typing/arraydecl.py:72\n\nDuring: typing of intrinsic-call at /home/arthur/dev/msa_classify/model.py (56)\n\nFile \"model.py\", line 56:\ndef _hamiltonians(sequences, J_ij, h_i):\n    <source elided>\n        for i in range(L):\n            hi_sum += h_i[i, A[i]]\n            ^\n",
     "output_type": "error",
     "traceback": [
      "\u001b[0;31m---------------------------------------------------------------------------\u001b[0m",
      "\u001b[0;31mTypingError\u001b[0m                               Traceback (most recent call last)",
      "\u001b[1;32m/home/arthur/dev/msa_classify/potts.ipynb Cell 16\u001b[0m in \u001b[0;36m<cell line: 1>\u001b[0;34m()\u001b[0m\n\u001b[0;32m----> <a href='vscode-notebook-cell://ssh-remote%2Bwhale.bair.berkeley.edu/home/arthur/dev/msa_classify/potts.ipynb#X16sdnNjb2RlLXJlbW90ZQ%3D%3D?line=0'>1</a>\u001b[0m energies \u001b[39m=\u001b[39m c\u001b[39m.\u001b[39;49mhamiltonians(processed_yeast)[:, \u001b[39m0\u001b[39m]\n\u001b[1;32m      <a href='vscode-notebook-cell://ssh-remote%2Bwhale.bair.berkeley.edu/home/arthur/dev/msa_classify/potts.ipynb#X16sdnNjb2RlLXJlbW90ZQ%3D%3D?line=1'>2</a>\u001b[0m wt_energy \u001b[39m=\u001b[39m energies[\u001b[39m0\u001b[39m]\n\u001b[1;32m      <a href='vscode-notebook-cell://ssh-remote%2Bwhale.bair.berkeley.edu/home/arthur/dev/msa_classify/potts.ipynb#X16sdnNjb2RlLXJlbW90ZQ%3D%3D?line=2'>3</a>\u001b[0m \u001b[39m# c.hamiltonians([s])\u001b[39;00m\n",
      "File \u001b[0;32m~/dev/msa_classify/model.py:560\u001b[0m, in \u001b[0;36mCouplingsModel.hamiltonians\u001b[0;34m(self, sequences)\u001b[0m\n\u001b[1;32m    557\u001b[0m \u001b[39mif\u001b[39;00m \u001b[39misinstance\u001b[39m(sequences, \u001b[39mlist\u001b[39m):\n\u001b[1;32m    558\u001b[0m     sequences \u001b[39m=\u001b[39m \u001b[39mself\u001b[39m\u001b[39m.\u001b[39mconvert_sequences(sequences)\n\u001b[0;32m--> 560\u001b[0m \u001b[39mreturn\u001b[39;00m _hamiltonians(sequences, \u001b[39mself\u001b[39;49m\u001b[39m.\u001b[39;49mJ_ij, \u001b[39mself\u001b[39;49m\u001b[39m.\u001b[39;49mh_i)\n",
      "File \u001b[0;32m/data/anaconda3/envs/dev_arthur/lib/python3.9/site-packages/numba/core/dispatcher.py:468\u001b[0m, in \u001b[0;36m_DispatcherBase._compile_for_args\u001b[0;34m(self, *args, **kws)\u001b[0m\n\u001b[1;32m    464\u001b[0m         msg \u001b[39m=\u001b[39m (\u001b[39mf\u001b[39m\u001b[39m\"\u001b[39m\u001b[39m{\u001b[39;00m\u001b[39mstr\u001b[39m(e)\u001b[39m.\u001b[39mrstrip()\u001b[39m}\u001b[39;00m\u001b[39m \u001b[39m\u001b[39m\\n\u001b[39;00m\u001b[39m\\n\u001b[39;00m\u001b[39mThis error may have been caused \u001b[39m\u001b[39m\"\u001b[39m\n\u001b[1;32m    465\u001b[0m                \u001b[39mf\u001b[39m\u001b[39m\"\u001b[39m\u001b[39mby the following argument(s):\u001b[39m\u001b[39m\\n\u001b[39;00m\u001b[39m{\u001b[39;00margs_str\u001b[39m}\u001b[39;00m\u001b[39m\\n\u001b[39;00m\u001b[39m\"\u001b[39m)\n\u001b[1;32m    466\u001b[0m         e\u001b[39m.\u001b[39mpatch_message(msg)\n\u001b[0;32m--> 468\u001b[0m     error_rewrite(e, \u001b[39m'\u001b[39;49m\u001b[39mtyping\u001b[39;49m\u001b[39m'\u001b[39;49m)\n\u001b[1;32m    469\u001b[0m \u001b[39mexcept\u001b[39;00m errors\u001b[39m.\u001b[39mUnsupportedError \u001b[39mas\u001b[39;00m e:\n\u001b[1;32m    470\u001b[0m     \u001b[39m# Something unsupported is present in the user code, add help info\u001b[39;00m\n\u001b[1;32m    471\u001b[0m     error_rewrite(e, \u001b[39m'\u001b[39m\u001b[39munsupported_error\u001b[39m\u001b[39m'\u001b[39m)\n",
      "File \u001b[0;32m/data/anaconda3/envs/dev_arthur/lib/python3.9/site-packages/numba/core/dispatcher.py:409\u001b[0m, in \u001b[0;36m_DispatcherBase._compile_for_args.<locals>.error_rewrite\u001b[0;34m(e, issue_type)\u001b[0m\n\u001b[1;32m    407\u001b[0m     \u001b[39mraise\u001b[39;00m e\n\u001b[1;32m    408\u001b[0m \u001b[39melse\u001b[39;00m:\n\u001b[0;32m--> 409\u001b[0m     \u001b[39mraise\u001b[39;00m e\u001b[39m.\u001b[39mwith_traceback(\u001b[39mNone\u001b[39;00m)\n",
      "\u001b[0;31mTypingError\u001b[0m: Failed in nopython mode pipeline (step: nopython frontend)\nNo implementation of function Function(<built-in function getitem>) found for signature:\n \n >>> getitem(array(float32, 2d, C), Tuple(int64, [unichr x 1]))\n \nThere are 22 candidate implementations:\n   - Of which 20 did not match due to:\n   Overload of function 'getitem': File: <numerous>: Line N/A.\n     With argument(s): '(array(float32, 2d, C), Tuple(int64, [unichr x 1]))':\n    No match.\n   - Of which 2 did not match due to:\n   Overload in function 'GetItemBuffer.generic': File: numba/core/typing/arraydecl.py: Line 166.\n     With argument(s): '(array(float32, 2d, C), Tuple(int64, [unichr x 1]))':\n    Rejected as the implementation raised a specific error:\n      NumbaTypeError: unsupported array index type [unichr x 1] in Tuple(int64, [unichr x 1])\n  raised from /data/anaconda3/envs/dev_arthur/lib/python3.9/site-packages/numba/core/typing/arraydecl.py:72\n\nDuring: typing of intrinsic-call at /home/arthur/dev/msa_classify/model.py (56)\n\nFile \"model.py\", line 56:\ndef _hamiltonians(sequences, J_ij, h_i):\n    <source elided>\n        for i in range(L):\n            hi_sum += h_i[i, A[i]]\n            ^\n"
     ]
    }
   ],
   "source": [
    "energies = c.hamiltonians(processed_yeast)[:, 0]\n",
    "wt_energy = energies[0]\n",
    "# c.hamiltonians([s])\n",
    "data = pd.read_csv(\n",
    "    \"PABP_YEAST/data/PABP_YEAST_Fields2013-singles.csv\", sep=\";\", comment=\"#\"\n",
    ")\n",
    "\n",
    "\n",
    "# predict mutations using our model\n",
    "data_pred = tools.predict_mutation_table(\n",
    "    c, data, \"effect_prediction_epistatic\"\n",
    ")\n",
    "evm_pred = data_pred['effect_prediction_epistatic'].to_numpy()\n",
    "evm_pred_pos = evm_pred[np.where(label>=1)]+wt_energy\n",
    "evm_pred_neg = evm_pred[np.where(label<1)]+wt_energy"
   ]
  }
 ],
 "metadata": {
  "kernelspec": {
   "display_name": "Python 3.9.5 ('dev_arthur')",
   "language": "python",
   "name": "python3"
  },
  "language_info": {
   "codemirror_mode": {
    "name": "ipython",
    "version": 3
   },
   "file_extension": ".py",
   "mimetype": "text/x-python",
   "name": "python",
   "nbconvert_exporter": "python",
   "pygments_lexer": "ipython3",
   "version": "3.9.5"
  },
  "orig_nbformat": 4,
  "vscode": {
   "interpreter": {
    "hash": "2b975e03f1e86e078ea1d566012707067ac1f6e4c759ff48317f6f9dc08e1449"
   }
  }
 },
 "nbformat": 4,
 "nbformat_minor": 2
}
