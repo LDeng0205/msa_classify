{
 "cells": [
  {
   "cell_type": "markdown",
   "metadata": {},
   "source": [
    "This notebook is for further investigation of the Potts model in predicting protein fitness with MSA. "
   ]
  },
  {
   "cell_type": "code",
   "execution_count": 3,
   "metadata": {},
   "outputs": [],
   "source": [
    "import pandas as pd\n",
    "import numpy as np\n",
    "import matplotlib.pyplot as plt\n",
    "from model import CouplingsModel\n",
    "import tools\n",
    "import scipy\n",
    "from pathlib import Path\n",
    "from collections import OrderedDict\n",
    "# biopython SeqIO\n",
    "from Bio import SeqIO\n",
    "from sklearn.metrics import roc_auc_score\n",
    "import scipy"
   ]
  },
  {
   "cell_type": "code",
   "execution_count": 5,
   "metadata": {},
   "outputs": [],
   "source": [
    "NAME = 'PABP_YEAST'\n",
    "\n",
    "### training code for model, uncomment the following line: \n",
    "#!plmc/bin/plmc -o PABP_YEAST/model/{NAME}.model_params -c PABP_YEAST/model/{NAME}.txt -f PABP_YEAST -le 16.2 -lh 0.01 -m 200 -t 0.2 -g PABP_YEAST/data/{NAME}.a2m"
   ]
  },
  {
   "cell_type": "code",
   "execution_count": 18,
   "metadata": {},
   "outputs": [
    {
     "name": "stderr",
     "output_type": "stream",
     "text": [
      "/tmp/ipykernel_1425607/1563486686.py:8: FutureWarning: The frame.append method is deprecated and will be removed from pandas in a future version. Use pandas.concat instead.\n",
      "  data = data.append(wt, ignore_index=True)\n"
     ]
    }
   ],
   "source": [
    "# load parameters from file to create a pairwise model\n",
    "c = CouplingsModel(f\"PABP_YEAST/model/{NAME}.model_params\")\n",
    "# read the experimental mutational scanning dataset for PABP by Melamed et al., RNA, 2013\n",
    "data = pd.read_csv(\n",
    "    \"PABP_YEAST/data/PABP_YEAST_Fields2013-singles.csv\", sep=\";\", comment=\"#\"\n",
    ")\n",
    "wt = {\"mutant\": \"wild\", \"linear\": 0, \"log\": 0}\n",
    "data = data.append(wt, ignore_index=True)"
   ]
  },
  {
   "cell_type": "code",
   "execution_count": 21,
   "metadata": {},
   "outputs": [
    {
     "name": "stdout",
     "output_type": "stream",
     "text": [
      "  mutant    linear       log  effect_prediction_epistatic  \\\n",
      "0  G126A  0.711743 -0.490571                    -2.601740   \n",
      "1  G126C  0.449027 -1.155127                    -5.648695   \n",
      "2  G126E  0.588928 -0.763836                    -6.598581   \n",
      "3  G126D  0.229853 -2.121218                    -7.250636   \n",
      "4  G126N  0.679435 -0.557593                    -5.800188   \n",
      "\n",
      "   effect_prediction_independent  \n",
      "0                       0.406487  \n",
      "1                      -0.027602  \n",
      "2                      -1.827570  \n",
      "3                      -1.180076  \n",
      "4                       0.387440  \n",
      "Evmutation spearman:  SpearmanrResult(correlation=0.5887727501243497, pvalue=7.616520847741117e-112)\n",
      "Independent control spearman:  SpearmanrResult(correlation=0.420793816603478, pvalue=3.2177604726528132e-52)\n"
     ]
    }
   ],
   "source": [
    "\n",
    "# predict mutations using our model\n",
    "data_pred = tools.predict_mutation_table(\n",
    "    c, data, \"effect_prediction_epistatic\"\n",
    ")\n",
    "\n",
    "# can also add predictions by the corresponding independent model\n",
    "c0 = c.to_independent_model()\n",
    "\n",
    "data_pred = tools.predict_mutation_table(\n",
    "    c0, data_pred, \"effect_prediction_independent\"\n",
    ")\n",
    "print(data_pred.head())\n",
    "pred = data_pred['effect_prediction_epistatic']\n",
    "pred_ind = data_pred['effect_prediction_independent']\n",
    "label = data_pred['linear']\n",
    "print('Evmutation spearman: ', scipy.stats.spearmanr(pred, label))\n",
    "print('Independent control spearman: ', scipy.stats.spearmanr(pred_ind, label))"
   ]
  },
  {
   "cell_type": "code",
   "execution_count": 24,
   "metadata": {},
   "outputs": [],
   "source": [
    "yeast_seq_str = []\n",
    "fasta_sequences = SeqIO.parse(open(\"PABP_YEAST/data/PABP_YEAST.a2m\"),'fasta')\n",
    "for fasta in fasta_sequences:\n",
    "    yeast_seq_str.append(str(fasta.seq))"
   ]
  },
  {
   "cell_type": "code",
   "execution_count": 38,
   "metadata": {},
   "outputs": [],
   "source": [
    "pos_upper = [x for x in range(len(yeast_seq_str[0])) if not yeast_seq_str[0][x].islower()]\n",
    "processed_yeast = np.asarray([np.asarray(list(s))[pos_upper] for s in yeast_seq_str])\n",
    "processed_yeast.shape\n",
    "wildtype = yeast_seq_str[0]"
   ]
  },
  {
   "cell_type": "code",
   "execution_count": 46,
   "metadata": {},
   "outputs": [
    {
     "data": {
      "text/plain": [
       "array([['K', 'G', 'S', ..., 'L', 'S', 'R'],\n",
       "       ['K', 'G', 'S', ..., 'L', 'S', 'R'],\n",
       "       ['K', 'G', 'S', ..., 'L', 'S', 'R'],\n",
       "       ...,\n",
       "       ['K', 'G', 'S', ..., 'L', 'S', 'R'],\n",
       "       ['K', 'G', 'S', ..., 'L', 'S', 'R'],\n",
       "       ['K', 'G', 'S', ..., 'L', 'S', 'R']], dtype='<U1')"
      ]
     },
     "execution_count": 46,
     "metadata": {},
     "output_type": "execute_result"
    }
   ],
   "source": [
    "mutant, label = data['mutant'].to_numpy(), data['linear'].to_numpy()\n",
    "mutant_data = []\n",
    "for m in mutant:\n",
    "    if m == 'wild':\n",
    "        mutant_data.append(np.asarray(list(wildtype))[pos_upper])\n",
    "        continue\n",
    "    original_aa, loc, mutant_aa = m[0], int(m[1:4])-115, m[4]\n",
    "    assert wildtype[loc] == original_aa\n",
    "    mut_seq = np.asarray(list(wildtype[:loc]+mutant_aa+wildtype[loc+1:]))\n",
    "    mutant_data.append(mut_seq[pos_upper])\n",
    "mutant_data = np.asarray(mutant_data)\n",
    "mutant_data"
   ]
  },
  {
   "cell_type": "code",
   "execution_count": 48,
   "metadata": {},
   "outputs": [
    {
     "ename": "TypingError",
     "evalue": "Failed in nopython mode pipeline (step: nopython frontend)\nNo implementation of function Function(<built-in function getitem>) found for signature:\n \n >>> getitem(array(float32, 2d, C), Tuple(int64, [unichr x 1]))\n \nThere are 22 candidate implementations:\n   - Of which 20 did not match due to:\n   Overload of function 'getitem': File: <numerous>: Line N/A.\n     With argument(s): '(array(float32, 2d, C), Tuple(int64, [unichr x 1]))':\n    No match.\n   - Of which 2 did not match due to:\n   Overload in function 'GetItemBuffer.generic': File: numba/core/typing/arraydecl.py: Line 166.\n     With argument(s): '(array(float32, 2d, C), Tuple(int64, [unichr x 1]))':\n    Rejected as the implementation raised a specific error:\n      NumbaTypeError: unsupported array index type [unichr x 1] in Tuple(int64, [unichr x 1])\n  raised from /data/anaconda3/envs/dev_arthur/lib/python3.9/site-packages/numba/core/typing/arraydecl.py:72\n\nDuring: typing of intrinsic-call at /home/arthur/dev/msa_classify/model.py (56)\n\nFile \"model.py\", line 56:\ndef _hamiltonians(sequences, J_ij, h_i):\n    <source elided>\n        for i in range(L):\n            hi_sum += h_i[i, A[i]]\n            ^\n",
     "output_type": "error",
     "traceback": [
      "\u001b[0;31m---------------------------------------------------------------------------\u001b[0m",
      "\u001b[0;31mTypingError\u001b[0m                               Traceback (most recent call last)",
      "\u001b[1;32m/home/arthur/dev/msa_classify/potts.ipynb Cell 9\u001b[0m in \u001b[0;36m<cell line: 1>\u001b[0;34m()\u001b[0m\n\u001b[0;32m----> <a href='vscode-notebook-cell://ssh-remote%2Bwhale.bair.berkeley.edu/home/arthur/dev/msa_classify/potts.ipynb#X13sdnNjb2RlLXJlbW90ZQ%3D%3D?line=0'>1</a>\u001b[0m c\u001b[39m.\u001b[39;49mhamiltonians(mutant_data)\n",
      "File \u001b[0;32m~/dev/msa_classify/model.py:560\u001b[0m, in \u001b[0;36mCouplingsModel.hamiltonians\u001b[0;34m(self, sequences)\u001b[0m\n\u001b[1;32m    557\u001b[0m \u001b[39mif\u001b[39;00m \u001b[39misinstance\u001b[39m(sequences, \u001b[39mlist\u001b[39m):\n\u001b[1;32m    558\u001b[0m     sequences \u001b[39m=\u001b[39m \u001b[39mself\u001b[39m\u001b[39m.\u001b[39mconvert_sequences(sequences)\n\u001b[0;32m--> 560\u001b[0m \u001b[39mreturn\u001b[39;00m _hamiltonians(sequences, \u001b[39mself\u001b[39;49m\u001b[39m.\u001b[39;49mJ_ij, \u001b[39mself\u001b[39;49m\u001b[39m.\u001b[39;49mh_i)\n",
      "File \u001b[0;32m/data/anaconda3/envs/dev_arthur/lib/python3.9/site-packages/numba/core/dispatcher.py:468\u001b[0m, in \u001b[0;36m_DispatcherBase._compile_for_args\u001b[0;34m(self, *args, **kws)\u001b[0m\n\u001b[1;32m    464\u001b[0m         msg \u001b[39m=\u001b[39m (\u001b[39mf\u001b[39m\u001b[39m\"\u001b[39m\u001b[39m{\u001b[39;00m\u001b[39mstr\u001b[39m(e)\u001b[39m.\u001b[39mrstrip()\u001b[39m}\u001b[39;00m\u001b[39m \u001b[39m\u001b[39m\\n\u001b[39;00m\u001b[39m\\n\u001b[39;00m\u001b[39mThis error may have been caused \u001b[39m\u001b[39m\"\u001b[39m\n\u001b[1;32m    465\u001b[0m                \u001b[39mf\u001b[39m\u001b[39m\"\u001b[39m\u001b[39mby the following argument(s):\u001b[39m\u001b[39m\\n\u001b[39;00m\u001b[39m{\u001b[39;00margs_str\u001b[39m}\u001b[39;00m\u001b[39m\\n\u001b[39;00m\u001b[39m\"\u001b[39m)\n\u001b[1;32m    466\u001b[0m         e\u001b[39m.\u001b[39mpatch_message(msg)\n\u001b[0;32m--> 468\u001b[0m     error_rewrite(e, \u001b[39m'\u001b[39;49m\u001b[39mtyping\u001b[39;49m\u001b[39m'\u001b[39;49m)\n\u001b[1;32m    469\u001b[0m \u001b[39mexcept\u001b[39;00m errors\u001b[39m.\u001b[39mUnsupportedError \u001b[39mas\u001b[39;00m e:\n\u001b[1;32m    470\u001b[0m     \u001b[39m# Something unsupported is present in the user code, add help info\u001b[39;00m\n\u001b[1;32m    471\u001b[0m     error_rewrite(e, \u001b[39m'\u001b[39m\u001b[39munsupported_error\u001b[39m\u001b[39m'\u001b[39m)\n",
      "File \u001b[0;32m/data/anaconda3/envs/dev_arthur/lib/python3.9/site-packages/numba/core/dispatcher.py:409\u001b[0m, in \u001b[0;36m_DispatcherBase._compile_for_args.<locals>.error_rewrite\u001b[0;34m(e, issue_type)\u001b[0m\n\u001b[1;32m    407\u001b[0m     \u001b[39mraise\u001b[39;00m e\n\u001b[1;32m    408\u001b[0m \u001b[39melse\u001b[39;00m:\n\u001b[0;32m--> 409\u001b[0m     \u001b[39mraise\u001b[39;00m e\u001b[39m.\u001b[39mwith_traceback(\u001b[39mNone\u001b[39;00m)\n",
      "\u001b[0;31mTypingError\u001b[0m: Failed in nopython mode pipeline (step: nopython frontend)\nNo implementation of function Function(<built-in function getitem>) found for signature:\n \n >>> getitem(array(float32, 2d, C), Tuple(int64, [unichr x 1]))\n \nThere are 22 candidate implementations:\n   - Of which 20 did not match due to:\n   Overload of function 'getitem': File: <numerous>: Line N/A.\n     With argument(s): '(array(float32, 2d, C), Tuple(int64, [unichr x 1]))':\n    No match.\n   - Of which 2 did not match due to:\n   Overload in function 'GetItemBuffer.generic': File: numba/core/typing/arraydecl.py: Line 166.\n     With argument(s): '(array(float32, 2d, C), Tuple(int64, [unichr x 1]))':\n    Rejected as the implementation raised a specific error:\n      NumbaTypeError: unsupported array index type [unichr x 1] in Tuple(int64, [unichr x 1])\n  raised from /data/anaconda3/envs/dev_arthur/lib/python3.9/site-packages/numba/core/typing/arraydecl.py:72\n\nDuring: typing of intrinsic-call at /home/arthur/dev/msa_classify/model.py (56)\n\nFile \"model.py\", line 56:\ndef _hamiltonians(sequences, J_ij, h_i):\n    <source elided>\n        for i in range(L):\n            hi_sum += h_i[i, A[i]]\n            ^\n"
     ]
    }
   ],
   "source": [
    "# c.hamiltonians(mutant_data)\n",
    "c.delta_hamiltonian"
   ]
  },
  {
   "cell_type": "code",
   "execution_count": null,
   "metadata": {},
   "outputs": [],
   "source": []
  },
  {
   "cell_type": "code",
   "execution_count": null,
   "metadata": {},
   "outputs": [],
   "source": [
    "NAME = 'PABP_YEAST_10000'\n",
    "c = CouplingsModel(f\"PABP_YEAST/model/{NAME}.model_params\")\n",
    "pos_upper = [x for x in range(len(yeast_seq_str[0])) if not yeast_seq_str[0][x].islower()]\n",
    "processed_yeast = [s for s in yeast_seq_str if not 'X' in s]\n",
    "processed_yeast = [np.asarray(list(s))[pos_upper] for s in processed_yeast]\n",
    "processed_yeast = [s for s in processed_yeast if not '-' in s]\n",
    "# np.asarray(list(s))[pos_upper] for s in yeast_seq_str if not '-' in np.asarray(list(s))[pos_upper] and not 'X' in np.asarray(list(s))[pos_upper]\n",
    "energies = c.hamiltonians(processed_yeast)[:, 0]\n",
    "wt_energy = energies[0]\n",
    "\n",
    "# c.hamiltonians([s])\n",
    "data = pd.read_csv(\n",
    "    \"PABP_YEAST/data/PABP_YEAST_Fields2013-singles.csv\", sep=\";\", comment=\"#\"\n",
    ")\n",
    "\n",
    "# predict mutations using our model\n",
    "data_pred = tools.predict_mutation_table(\n",
    "    c, data, \"effect_prediction_epistatic\"\n",
    ")\n",
    "evm_pred = data_pred['effect_prediction_epistatic'].to_numpy()\n",
    "evm_pred_pos = evm_pred[np.where(label>=1)]+wt_energy\n",
    "evm_pred_neg = evm_pred[np.where(label<1)]+wt_energy"
   ]
  }
 ],
 "metadata": {
  "kernelspec": {
   "display_name": "Python 3.9.5 ('dev_arthur')",
   "language": "python",
   "name": "python3"
  },
  "language_info": {
   "codemirror_mode": {
    "name": "ipython",
    "version": 3
   },
   "file_extension": ".py",
   "mimetype": "text/x-python",
   "name": "python",
   "nbconvert_exporter": "python",
   "pygments_lexer": "ipython3",
   "version": "3.9.5"
  },
  "orig_nbformat": 4,
  "vscode": {
   "interpreter": {
    "hash": "2b975e03f1e86e078ea1d566012707067ac1f6e4c759ff48317f6f9dc08e1449"
   }
  }
 },
 "nbformat": 4,
 "nbformat_minor": 2
}
