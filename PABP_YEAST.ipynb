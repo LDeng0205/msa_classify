{
 "cells": [
  {
   "cell_type": "code",
   "execution_count": 2,
   "metadata": {},
   "outputs": [],
   "source": [
    "### replicate results of EVmutation with the PABP_YEAST dataset\n",
    "import pandas as pd\n",
    "import numpy as np\n",
    "import matplotlib.pyplot as plt\n",
    "from model import CouplingsModel\n",
    "import tools\n",
    "import scipy\n",
    "from pathlib import Path\n",
    "from collections import OrderedDict\n",
    "# biopython SeqIO\n",
    "from Bio import SeqIO\n",
    "from sklearn.metrics import roc_auc_score\n",
    "import scipy"
   ]
  },
  {
   "cell_type": "code",
   "execution_count": 4,
   "metadata": {},
   "outputs": [
    {
     "name": "stdout",
     "output_type": "stream",
     "text": [
      "Found focus PABP_YEAST as sequence 1\n",
      "151496 valid sequences out of 152041 \n",
      "82 sites out of 96\n",
      "Region starts at 115\n",
      "Effective number of samples (to 1 decimal place): 18615.5\t(80% identical neighborhood = 1.000 samples)\n",
      "iter\ttime\tcond\tfx\t-loglk\t||h||\t||e||\n",
      "1\t1.0\t668.45\t2803680.4\t2803612.2\t72.1\t1.0\n",
      "2\t1.4\t1317.47\t2530380.0\t2526756.6\t72.1\t14.8\n",
      "3\t1.9\t1387.57\t2507890.2\t2498735.3\t72.1\t23.7\n",
      "4\t2.4\t658.49\t2409702.7\t2401575.0\t72.1\t22.3\n",
      "5\t2.9\t637.79\t2383657.9\t2376482.3\t72.0\t21.0\n",
      "6\t3.3\t407.33\t2361117.0\t2353416.7\t72.0\t21.7\n",
      "7\t3.8\t478.18\t2297750.2\t2288016.6\t72.0\t24.4\n",
      "8\t4.3\t549.61\t2213983.4\t2198656.6\t71.9\t30.7\n",
      "9\t5.1\t707.63\t2182939.6\t2163878.2\t71.9\t34.3\n",
      "10\t5.6\t477.00\t2147279.0\t2123692.2\t71.9\t38.1\n",
      "11\t6.1\t424.40\t2114991.4\t2087527.3\t71.9\t41.1\n",
      "12\t6.5\t646.70\t2086447.8\t2052652.6\t71.9\t45.6\n",
      "13\t7.0\t331.04\t2063943.8\t2030772.3\t71.9\t45.2\n",
      "14\t7.5\t275.17\t2043127.9\t2009362.5\t71.9\t45.6\n",
      "15\t7.9\t294.50\t2018508.1\t1981338.2\t71.9\t47.9\n",
      "16\t8.4\t455.42\t1995078.0\t1951677.0\t71.8\t51.7\n",
      "17\t8.8\t301.11\t1976134.6\t1926882.9\t71.8\t55.1\n",
      "18\t9.3\t208.26\t1963587.2\t1913315.7\t71.8\t55.7\n",
      "19\t9.7\t292.71\t1944821.9\t1890895.1\t71.7\t57.7\n",
      "20\t10.2\t272.67\t1933692.2\t1874484.9\t71.7\t60.4\n",
      "21\t10.7\t178.42\t1921179.0\t1855754.2\t71.7\t63.5\n",
      "22\t11.1\t206.03\t1908994.2\t1834398.5\t71.7\t67.8\n",
      "23\t11.6\t240.80\t1901357.8\t1820707.4\t71.7\t70.5\n",
      "24\t12.1\t158.05\t1894488.7\t1814169.5\t71.7\t70.4\n",
      "25\t12.5\t166.49\t1882504.4\t1802412.7\t71.7\t70.3\n",
      "26\t13.0\t187.41\t1874535.3\t1792062.8\t71.7\t71.3\n",
      "27\t13.4\t201.08\t1864128.2\t1774510.2\t71.7\t74.4\n",
      "28\t13.9\t153.78\t1856394.0\t1761381.5\t71.7\t76.6\n",
      "29\t14.3\t135.20\t1850516.9\t1752234.9\t71.6\t77.9\n",
      "30\t14.8\t145.22\t1842733.4\t1738824.6\t71.6\t80.1\n",
      "31\t15.2\t254.62\t1839890.5\t1728326.5\t71.6\t83.0\n",
      "32\t15.7\t121.04\t1832755.3\t1721602.6\t71.6\t82.8\n",
      "33\t16.1\t120.34\t1828145.8\t1716275.0\t71.6\t83.1\n",
      "34\t16.6\t119.09\t1824419.3\t1710950.6\t71.6\t83.7\n",
      "35\t17.1\t313.69\t1820945.5\t1700242.7\t71.6\t86.3\n",
      "36\t17.6\t102.56\t1813910.8\t1691877.8\t71.6\t86.8\n",
      "37\t18.0\t91.97\t1811080.2\t1688352.9\t71.6\t87.0\n",
      "38\t18.5\t106.68\t1806539.2\t1680730.4\t71.6\t88.1\n",
      "39\t18.9\t181.49\t1802432.5\t1672257.2\t71.6\t89.6\n",
      "40\t19.4\t114.51\t1798287.3\t1663725.8\t71.6\t91.1\n",
      "41\t19.9\t70.19\t1795792.1\t1660447.1\t71.6\t91.4\n",
      "42\t20.4\t92.03\t1793335.6\t1656427.9\t71.6\t91.9\n",
      "43\t20.9\t89.59\t1791153.1\t1651936.3\t71.5\t92.7\n",
      "44\t21.4\t103.87\t1788285.0\t1645299.0\t71.5\t93.9\n",
      "45\t21.9\t103.62\t1785262.5\t1638145.6\t71.5\t95.3\n",
      "46\t22.4\t74.98\t1782707.3\t1633763.8\t71.5\t95.9\n",
      "47\t22.8\t73.35\t1780612.3\t1630511.8\t71.5\t96.2\n",
      "48\t23.3\t70.87\t1778044.5\t1625464.6\t71.5\t97.0\n",
      "49\t23.7\t99.35\t1776071.7\t1620488.2\t71.5\t98.0\n",
      "50\t24.2\t66.88\t1774082.3\t1616734.8\t71.5\t98.5\n",
      "51\t24.7\t63.10\t1772014.9\t1612297.8\t71.5\t99.3\n",
      "52\t25.2\t82.25\t1770396.9\t1608188.0\t71.5\t100.0\n",
      "53\t25.7\t62.19\t1768739.3\t1604420.2\t71.5\t100.7\n",
      "54\t26.2\t59.73\t1767246.9\t1601359.1\t71.5\t101.2\n",
      "55\t26.6\t77.57\t1765860.8\t1598255.7\t71.5\t101.7\n",
      "56\t27.1\t57.68\t1764644.4\t1595996.4\t71.5\t102.0\n",
      "57\t27.6\t46.06\t1763350.7\t1592955.1\t71.5\t102.5\n",
      "58\t28.1\t60.80\t1762257.4\t1589907.9\t71.5\t103.1\n",
      "59\t28.5\t46.84\t1761006.7\t1586338.7\t71.5\t103.8\n",
      "60\t29.0\t42.50\t1760006.5\t1584159.4\t71.5\t104.2\n",
      "61\t29.5\t50.07\t1758933.4\t1581691.4\t71.5\t104.6\n",
      "62\t29.9\t56.78\t1758161.3\t1580126.7\t71.5\t104.8\n",
      "63\t30.4\t42.49\t1757363.2\t1578904.7\t71.5\t104.9\n",
      "64\t30.9\t44.74\t1756244.6\t1576561.2\t71.5\t105.3\n",
      "65\t31.4\t71.41\t1755543.4\t1574562.7\t71.5\t105.7\n",
      "66\t31.8\t43.75\t1754763.8\t1573069.4\t71.5\t105.9\n",
      "67\t32.3\t30.22\t1753891.7\t1570899.9\t71.4\t106.3\n",
      "68\t32.7\t35.99\t1753489.0\t1569806.5\t71.4\t106.5\n",
      "69\t33.2\t28.72\t1752896.7\t1568158.4\t71.4\t106.8\n",
      "70\t33.7\t59.38\t1752407.8\t1566864.5\t71.4\t107.0\n",
      "71\t34.2\t34.06\t1751782.8\t1566008.0\t71.4\t107.1\n",
      "72\t34.7\t31.69\t1751166.5\t1565434.0\t71.4\t107.1\n",
      "73\t35.2\t43.84\t1750561.3\t1564633.8\t71.4\t107.1\n",
      "74\t35.7\t64.99\t1750111.0\t1563616.2\t71.4\t107.3\n",
      "75\t36.1\t28.93\t1749606.1\t1563106.6\t71.4\t107.3\n",
      "76\t36.6\t25.53\t1749303.9\t1562750.4\t71.4\t107.3\n",
      "77\t37.1\t29.66\t1748913.0\t1562182.5\t71.4\t107.3\n",
      "78\t37.5\t63.91\t1748608.9\t1561623.4\t71.4\t107.4\n",
      "79\t38.0\t27.55\t1748148.4\t1561013.5\t71.4\t107.5\n",
      "80\t38.4\t21.24\t1747883.6\t1560709.8\t71.4\t107.5\n",
      "81\t38.9\t25.39\t1747554.8\t1560334.2\t71.4\t107.5\n",
      "82\t39.4\t45.07\t1747234.9\t1559927.4\t71.4\t107.5\n",
      "83\t39.9\t21.35\t1746895.1\t1559563.6\t71.4\t107.5\n",
      "84\t40.3\t19.67\t1746687.7\t1559405.0\t71.4\t107.5\n",
      "85\t40.8\t29.95\t1746383.0\t1559221.0\t71.4\t107.5\n",
      "86\t41.2\t37.03\t1746179.6\t1559145.8\t71.4\t107.4\n",
      "87\t41.7\t20.20\t1745964.6\t1558962.8\t71.4\t107.4\n",
      "88\t42.1\t18.34\t1745739.3\t1558807.9\t71.4\t107.4\n",
      "89\t42.6\t20.30\t1745584.8\t1558726.9\t71.4\t107.4\n",
      "90\t43.0\t51.86\t1745521.2\t1558880.9\t71.4\t107.3\n",
      "91\t43.5\t15.86\t1745244.7\t1558608.0\t71.4\t107.3\n",
      "92\t44.0\t13.98\t1745171.0\t1558546.1\t71.4\t107.3\n",
      "93\t44.4\t18.08\t1744994.6\t1558466.2\t71.4\t107.3\n",
      "94\t44.9\t48.33\t1744899.0\t1558583.4\t71.4\t107.2\n",
      "95\t45.4\t19.29\t1744683.5\t1558423.9\t71.4\t107.2\n",
      "96\t45.8\t13.11\t1744582.0\t1558388.8\t71.4\t107.2\n",
      "97\t46.3\t14.50\t1744489.2\t1558395.0\t71.4\t107.2\n",
      "98\t46.7\t18.05\t1744351.6\t1558410.7\t71.4\t107.1\n",
      "99\t47.2\t28.94\t1744284.9\t1558597.4\t71.3\t107.0\n",
      "100\t47.7\t11.70\t1744167.1\t1558460.2\t71.3\t107.1\n",
      "101\t48.1\t13.38\t1744103.6\t1558407.7\t71.3\t107.0\n",
      "102\t48.6\t17.30\t1743994.0\t1558395.6\t71.3\t107.0\n",
      "103\t49.0\t35.80\t1743915.5\t1558554.5\t71.3\t107.0\n",
      "104\t49.5\t13.41\t1743787.5\t1558547.4\t71.3\t106.9\n",
      "105\t49.9\t9.91\t1743736.0\t1558563.7\t71.3\t106.9\n",
      "106\t50.4\t10.87\t1743675.6\t1558621.6\t71.3\t106.9\n",
      "107\t50.8\t10.95\t1743591.9\t1558698.9\t71.3\t106.8\n",
      "108\t51.7\t20.14\t1743536.4\t1558800.2\t71.3\t106.8\n",
      "109\t52.2\t10.60\t1743445.1\t1558872.0\t71.3\t106.7\n",
      "110\t52.6\t9.46\t1743383.0\t1558898.2\t71.3\t106.7\n",
      "111\t53.0\t20.61\t1743335.3\t1558997.9\t71.3\t106.7\n",
      "112\t53.5\t8.51\t1743284.0\t1558969.4\t71.3\t106.7\n",
      "113\t53.9\t6.94\t1743262.6\t1558943.7\t71.3\t106.7\n",
      "114\t54.4\t8.59\t1743223.0\t1558937.1\t71.3\t106.6\n",
      "115\t54.8\t19.26\t1743195.7\t1559027.7\t71.3\t106.6\n",
      "116\t55.3\t9.30\t1743156.6\t1559030.5\t71.3\t106.6\n",
      "117\t55.7\t6.80\t1743127.0\t1559080.9\t71.3\t106.6\n",
      "118\t56.2\t8.03\t1743105.6\t1559134.5\t71.3\t106.6\n",
      "119\t56.6\t14.93\t1743066.0\t1559266.5\t71.3\t106.5\n",
      "120\t57.1\t9.16\t1743028.8\t1559377.7\t71.3\t106.5\n",
      "121\t57.5\t6.09\t1743007.7\t1559361.3\t71.3\t106.5\n",
      "122\t58.0\t7.70\t1742978.7\t1559367.0\t71.3\t106.4\n",
      "123\t58.4\t11.94\t1742962.5\t1559422.7\t71.3\t106.4\n",
      "124\t58.9\t7.56\t1742942.4\t1559448.5\t71.3\t106.4\n",
      "125\t59.3\t5.79\t1742914.5\t1559530.8\t71.3\t106.4\n",
      "126\t59.8\t6.38\t1742897.5\t1559586.7\t71.3\t106.4\n",
      "127\t60.2\t16.95\t1742883.3\t1559798.7\t71.3\t106.3\n",
      "128\t60.7\t5.38\t1742852.0\t1559764.0\t71.3\t106.3\n",
      "129\t61.1\t4.73\t1742843.4\t1559741.7\t71.3\t106.3\n",
      "130\t61.6\t6.08\t1742826.7\t1559751.9\t71.3\t106.3\n",
      "131\t62.0\t11.43\t1742810.7\t1559821.1\t71.3\t106.3\n",
      "132\t62.5\t6.16\t1742791.0\t1559864.8\t71.3\t106.2\n",
      "133\t62.9\t5.12\t1742776.1\t1559910.9\t71.3\t106.2\n",
      "134\t63.4\t5.76\t1742760.5\t1559968.0\t71.3\t106.2\n",
      "135\t63.8\t12.59\t1742755.5\t1560057.5\t71.3\t106.2\n",
      "136\t64.3\t4.58\t1742739.7\t1560031.2\t71.3\t106.2\n",
      "137\t64.7\t3.98\t1742732.3\t1560018.0\t71.3\t106.2\n",
      "138\t65.2\t5.23\t1742721.9\t1560018.0\t71.3\t106.2\n",
      "139\t65.6\t7.07\t1742704.9\t1560044.8\t71.3\t106.2\n",
      "140\t66.1\t11.96\t1742697.9\t1560110.8\t71.3\t106.1\n",
      "141\t66.5\t4.01\t1742680.8\t1560097.7\t71.3\t106.1\n",
      "142\t67.0\t3.75\t1742675.1\t1560097.9\t71.3\t106.1\n",
      "143\t67.4\t4.41\t1742666.1\t1560106.7\t71.3\t106.1\n",
      "144\t67.9\t5.84\t1742651.5\t1560128.4\t71.2\t106.1\n",
      "145\t68.8\t6.52\t1742642.0\t1560151.6\t71.2\t106.1\n",
      "146\t69.3\t3.94\t1742631.6\t1560161.0\t71.2\t106.1\n",
      "147\t69.8\t3.92\t1742622.6\t1560167.6\t71.2\t106.1\n",
      "148\t70.2\t5.65\t1742616.1\t1560175.4\t71.2\t106.1\n",
      "149\t70.7\t3.47\t1742609.3\t1560175.2\t71.2\t106.1\n",
      "150\t71.2\t3.93\t1742600.8\t1560174.1\t71.2\t106.1\n",
      "151\t71.6\t5.28\t1742592.5\t1560183.0\t71.2\t106.1\n",
      "152\t72.1\t5.10\t1742584.0\t1560196.6\t71.2\t106.1\n",
      "153\t72.6\t3.58\t1742577.6\t1560199.1\t71.2\t106.1\n",
      "154\t73.0\t3.75\t1742571.5\t1560199.9\t71.2\t106.1\n",
      "155\t73.5\t4.49\t1742563.0\t1560202.3\t71.2\t106.1\n",
      "156\t74.0\t11.04\t1742557.8\t1560221.9\t71.2\t106.1\n",
      "157\t74.4\t3.80\t1742545.7\t1560211.6\t71.2\t106.1\n",
      "158\t74.9\t3.04\t1742541.1\t1560208.3\t71.2\t106.1\n",
      "159\t75.3\t3.27\t1742535.8\t1560208.3\t71.2\t106.1\n",
      "160\t75.8\t6.69\t1742529.3\t1560211.8\t71.2\t106.1\n",
      "161\t76.3\t3.53\t1742522.0\t1560212.1\t71.2\t106.1\n",
      "162\t76.8\t2.99\t1742517.4\t1560209.3\t71.2\t106.1\n",
      "163\t77.2\t4.13\t1742508.5\t1560204.3\t71.2\t106.1\n",
      "164\t77.7\t8.41\t1742506.1\t1560206.2\t71.2\t106.1\n",
      "165\t78.1\t3.64\t1742499.0\t1560198.2\t71.2\t106.1\n",
      "166\t78.6\t2.80\t1742494.5\t1560193.1\t71.2\t106.1\n",
      "167\t79.0\t3.55\t1742489.6\t1560187.8\t71.2\t106.1\n",
      "168\t79.5\t5.25\t1742481.9\t1560178.4\t71.2\t106.1\n",
      "169\t80.0\t6.63\t1742475.7\t1560167.1\t71.2\t106.1\n",
      "170\t80.5\t3.34\t1742468.8\t1560159.1\t71.2\t106.1\n",
      "171\t80.9\t3.48\t1742462.7\t1560149.9\t71.2\t106.1\n",
      "172\t81.4\t4.36\t1742456.3\t1560138.1\t71.2\t106.1\n",
      "173\t81.8\t9.00\t1742450.6\t1560117.3\t71.2\t106.1\n",
      "174\t82.3\t3.67\t1742441.2\t1560101.6\t71.2\t106.1\n",
      "175\t82.8\t3.35\t1742436.4\t1560092.9\t71.2\t106.1\n",
      "176\t83.2\t3.71\t1742428.8\t1560074.2\t71.2\t106.1\n",
      "177\t83.7\t7.58\t1742422.3\t1560047.5\t71.2\t106.1\n",
      "178\t84.2\t3.49\t1742414.1\t1560023.0\t71.2\t106.1\n",
      "179\t84.6\t3.20\t1742408.7\t1560008.4\t71.2\t106.1\n",
      "180\t85.1\t4.33\t1742400.6\t1559982.4\t71.1\t106.1\n",
      "181\t85.5\t8.53\t1742393.7\t1559939.4\t71.1\t106.1\n",
      "182\t86.0\t4.13\t1742384.4\t1559911.8\t71.1\t106.1\n",
      "183\t86.5\t3.22\t1742379.0\t1559896.2\t71.1\t106.1\n",
      "184\t86.9\t3.97\t1742372.9\t1559870.3\t71.1\t106.1\n",
      "185\t87.4\t6.16\t1742366.7\t1559827.0\t71.1\t106.1\n",
      "186\t87.8\t3.99\t1742359.4\t1559792.3\t71.1\t106.1\n",
      "187\t88.3\t3.59\t1742352.3\t1559755.8\t71.1\t106.2\n",
      "188\t88.7\t5.07\t1742345.2\t1559705.1\t71.1\t106.2\n",
      "189\t89.2\t4.69\t1742337.6\t1559638.7\t71.1\t106.2\n",
      "190\t89.7\t3.53\t1742331.2\t1559602.6\t71.1\t106.2\n",
      "191\t90.1\t4.62\t1742323.6\t1559538.5\t71.1\t106.2\n",
      "192\t90.6\t4.71\t1742317.1\t1559486.2\t71.1\t106.2\n",
      "193\t91.1\t4.38\t1742310.1\t1559434.8\t71.1\t106.2\n",
      "194\t91.6\t9.12\t1742300.3\t1559285.4\t71.1\t106.3\n",
      "195\t92.1\t4.82\t1742289.1\t1559187.3\t71.1\t106.3\n",
      "196\t92.5\t3.62\t1742283.6\t1559176.5\t71.1\t106.3\n",
      "197\t93.0\t4.55\t1742272.5\t1559083.2\t71.1\t106.3\n",
      "198\t93.4\t8.19\t1742267.1\t1558952.1\t71.1\t106.4\n",
      "199\t93.9\t4.82\t1742260.4\t1558924.2\t71.1\t106.4\n",
      "200\t94.4\t3.69\t1742249.0\t1558804.5\t71.1\t106.4\n",
      "Gradient optimization: MAXIMUMITERATION\n"
     ]
    }
   ],
   "source": [
    "### training code for model\n",
    "!plmc/bin/plmc -o PABP_YEAST/model/PABP_YEAST.model_params -c PABP_YEAST/model/PABP_YEAST.txt -f PABP_YEAST -le 16.2 -lh 0.01 -m 200 -t 0.2 -g EVmutation/example/PABP_YEAST.a2m"
   ]
  },
  {
   "cell_type": "code",
   "execution_count": 8,
   "metadata": {},
   "outputs": [],
   "source": [
    "# load parameters from file to create a pairwise model\n",
    "c = CouplingsModel(\"PABP_YEAST/model/PABP_YEAST.model_params\")\n",
    "# read the experimental mutational scanning dataset for PABP by Melamed et al., RNA, 2013\n",
    "data = pd.read_csv(\n",
    "    \"PABP_YEAST/data/PABP_YEAST_Fields2013-singles.csv\", sep=\";\", comment=\"#\"\n",
    ")\n",
    "\n",
    "# predict mutations using our model\n",
    "data_pred = tools.predict_mutation_table(\n",
    "    c, data, \"effect_prediction_epistatic\"\n",
    ")"
   ]
  },
  {
   "cell_type": "code",
   "execution_count": 10,
   "metadata": {},
   "outputs": [],
   "source": [
    "# can also add predictions by the corresponding independent model\n",
    "c0 = c.to_independent_model()\n",
    "\n",
    "data_pred = tools.predict_mutation_table(\n",
    "    c0, data_pred, \"effect_prediction_independent\"\n",
    ")"
   ]
  },
  {
   "cell_type": "code",
   "execution_count": 12,
   "metadata": {},
   "outputs": [
    {
     "data": {
      "text/html": [
       "<div>\n",
       "<style scoped>\n",
       "    .dataframe tbody tr th:only-of-type {\n",
       "        vertical-align: middle;\n",
       "    }\n",
       "\n",
       "    .dataframe tbody tr th {\n",
       "        vertical-align: top;\n",
       "    }\n",
       "\n",
       "    .dataframe thead th {\n",
       "        text-align: right;\n",
       "    }\n",
       "</style>\n",
       "<table border=\"1\" class=\"dataframe\">\n",
       "  <thead>\n",
       "    <tr style=\"text-align: right;\">\n",
       "      <th></th>\n",
       "      <th>mutant</th>\n",
       "      <th>pos</th>\n",
       "      <th>wt</th>\n",
       "      <th>subs</th>\n",
       "      <th>frequency</th>\n",
       "      <th>effect_prediction_epistatic</th>\n",
       "    </tr>\n",
       "  </thead>\n",
       "  <tbody>\n",
       "    <tr>\n",
       "      <th>0</th>\n",
       "      <td>K123A</td>\n",
       "      <td>123</td>\n",
       "      <td>K</td>\n",
       "      <td>A</td>\n",
       "      <td>0.077201</td>\n",
       "      <td>0.801569</td>\n",
       "    </tr>\n",
       "    <tr>\n",
       "      <th>1</th>\n",
       "      <td>K123C</td>\n",
       "      <td>123</td>\n",
       "      <td>K</td>\n",
       "      <td>C</td>\n",
       "      <td>0.001461</td>\n",
       "      <td>-3.336549</td>\n",
       "    </tr>\n",
       "    <tr>\n",
       "      <th>2</th>\n",
       "      <td>K123D</td>\n",
       "      <td>123</td>\n",
       "      <td>K</td>\n",
       "      <td>D</td>\n",
       "      <td>0.118235</td>\n",
       "      <td>-0.308808</td>\n",
       "    </tr>\n",
       "    <tr>\n",
       "      <th>3</th>\n",
       "      <td>K123E</td>\n",
       "      <td>123</td>\n",
       "      <td>K</td>\n",
       "      <td>E</td>\n",
       "      <td>0.110503</td>\n",
       "      <td>-1.065410</td>\n",
       "    </tr>\n",
       "    <tr>\n",
       "      <th>4</th>\n",
       "      <td>K123F</td>\n",
       "      <td>123</td>\n",
       "      <td>K</td>\n",
       "      <td>F</td>\n",
       "      <td>0.007791</td>\n",
       "      <td>-3.006763</td>\n",
       "    </tr>\n",
       "  </tbody>\n",
       "</table>\n",
       "</div>"
      ],
      "text/plain": [
       "  mutant  pos wt subs  frequency  effect_prediction_epistatic\n",
       "0  K123A  123  K    A   0.077201                     0.801569\n",
       "1  K123C  123  K    C   0.001461                    -3.336549\n",
       "2  K123D  123  K    D   0.118235                    -0.308808\n",
       "3  K123E  123  K    E   0.110503                    -1.065410\n",
       "4  K123F  123  K    F   0.007791                    -3.006763"
      ]
     },
     "execution_count": 12,
     "metadata": {},
     "output_type": "execute_result"
    }
   ],
   "source": [
    "singles = tools.single_mutant_matrix(\n",
    "    c, output_column=\"effect_prediction_epistatic\"\n",
    ")\n",
    "\n",
    "singles.head()"
   ]
  },
  {
   "cell_type": "code",
   "execution_count": 13,
   "metadata": {},
   "outputs": [
    {
     "data": {
      "text/html": [
       "<div>\n",
       "<style scoped>\n",
       "    .dataframe tbody tr th:only-of-type {\n",
       "        vertical-align: middle;\n",
       "    }\n",
       "\n",
       "    .dataframe tbody tr th {\n",
       "        vertical-align: top;\n",
       "    }\n",
       "\n",
       "    .dataframe thead th {\n",
       "        text-align: right;\n",
       "    }\n",
       "</style>\n",
       "<table border=\"1\" class=\"dataframe\">\n",
       "  <thead>\n",
       "    <tr style=\"text-align: right;\">\n",
       "      <th></th>\n",
       "      <th>mutant</th>\n",
       "      <th>linear</th>\n",
       "      <th>log</th>\n",
       "    </tr>\n",
       "  </thead>\n",
       "  <tbody>\n",
       "    <tr>\n",
       "      <th>0</th>\n",
       "      <td>G126A</td>\n",
       "      <td>0.711743</td>\n",
       "      <td>-0.490571</td>\n",
       "    </tr>\n",
       "    <tr>\n",
       "      <th>1</th>\n",
       "      <td>G126C</td>\n",
       "      <td>0.449027</td>\n",
       "      <td>-1.155127</td>\n",
       "    </tr>\n",
       "    <tr>\n",
       "      <th>2</th>\n",
       "      <td>G126E</td>\n",
       "      <td>0.588928</td>\n",
       "      <td>-0.763836</td>\n",
       "    </tr>\n",
       "    <tr>\n",
       "      <th>3</th>\n",
       "      <td>G126D</td>\n",
       "      <td>0.229853</td>\n",
       "      <td>-2.121218</td>\n",
       "    </tr>\n",
       "    <tr>\n",
       "      <th>4</th>\n",
       "      <td>G126N</td>\n",
       "      <td>0.679435</td>\n",
       "      <td>-0.557593</td>\n",
       "    </tr>\n",
       "    <tr>\n",
       "      <th>...</th>\n",
       "      <td>...</td>\n",
       "      <td>...</td>\n",
       "      <td>...</td>\n",
       "    </tr>\n",
       "    <tr>\n",
       "      <th>1183</th>\n",
       "      <td>P200Q</td>\n",
       "      <td>1.379698</td>\n",
       "      <td>0.464353</td>\n",
       "    </tr>\n",
       "    <tr>\n",
       "      <th>1184</th>\n",
       "      <td>P200S</td>\n",
       "      <td>1.052320</td>\n",
       "      <td>0.073573</td>\n",
       "    </tr>\n",
       "    <tr>\n",
       "      <th>1185</th>\n",
       "      <td>P200R</td>\n",
       "      <td>1.133948</td>\n",
       "      <td>0.181355</td>\n",
       "    </tr>\n",
       "    <tr>\n",
       "      <th>1186</th>\n",
       "      <td>P200T</td>\n",
       "      <td>1.005247</td>\n",
       "      <td>0.007550</td>\n",
       "    </tr>\n",
       "    <tr>\n",
       "      <th>1187</th>\n",
       "      <td>P200V</td>\n",
       "      <td>0.976337</td>\n",
       "      <td>-0.034549</td>\n",
       "    </tr>\n",
       "  </tbody>\n",
       "</table>\n",
       "<p>1188 rows × 3 columns</p>\n",
       "</div>"
      ],
      "text/plain": [
       "     mutant    linear       log\n",
       "0     G126A  0.711743 -0.490571\n",
       "1     G126C  0.449027 -1.155127\n",
       "2     G126E  0.588928 -0.763836\n",
       "3     G126D  0.229853 -2.121218\n",
       "4     G126N  0.679435 -0.557593\n",
       "...     ...       ...       ...\n",
       "1183  P200Q  1.379698  0.464353\n",
       "1184  P200S  1.052320  0.073573\n",
       "1185  P200R  1.133948  0.181355\n",
       "1186  P200T  1.005247  0.007550\n",
       "1187  P200V  0.976337 -0.034549\n",
       "\n",
       "[1188 rows x 3 columns]"
      ]
     },
     "execution_count": 13,
     "metadata": {},
     "output_type": "execute_result"
    }
   ],
   "source": [
    "data"
   ]
  },
  {
   "cell_type": "code",
   "execution_count": 16,
   "metadata": {},
   "outputs": [
    {
     "data": {
      "text/plain": [
       "SpearmanrResult(correlation=0.5926175055168056, pvalue=1.495790932177082e-113)"
      ]
     },
     "execution_count": 16,
     "metadata": {},
     "output_type": "execute_result"
    }
   ],
   "source": [
    "pred = data_pred['effect_prediction_epistatic']\n",
    "pred_ind = data_pred['effect_prediction_independent']\n",
    "label = data_pred['linear']\n",
    "scipy.stats.spearmanr(pred, label)"
   ]
  },
  {
   "cell_type": "markdown",
   "metadata": {},
   "source": [
    "Running SVM on this set of data"
   ]
  },
  {
   "cell_type": "code",
   "execution_count": 4,
   "metadata": {},
   "outputs": [],
   "source": [
    "ALPHABET_PROTEIN = '-ACDEFGHIKLMNPQRSTVWY'\n",
    "# Protein amino acid alphabet + gap character \"-\"\n",
    "alphabet = '-ACDEFGHIKLMNPQRSTVWY'\n",
    "# map amino acids to index\n",
    "aa_to_i = {aa:i for i, aa in enumerate(alphabet)}\n",
    "# map index to amino acids\n",
    "i_to_a = {i:aa for i, aa in enumerate(alphabet)}"
   ]
  },
  {
   "cell_type": "code",
   "execution_count": 25,
   "id": "f90865fb",
   "metadata": {
    "collapsed": false
   },
   "outputs": [],
   "source": [
    "def encode(seqs, alphabet=ALPHABET_PROTEIN):\n",
    "    '''\n",
    "    Go from letters to numbers\n",
    "    '''\n",
    "    aa_to_i = OrderedDict((aa, i) for i, aa in enumerate( alphabet ))\n",
    "    X = np.asarray([[aa_to_i[x] for x in seq] \n",
    "                    for seq in seqs])\n",
    "    return X, aa_to_i\n",
    "\n",
    "def check_sequence(s, alphabet=ALPHABET_PROTEIN):\n",
    "    for aa in s:\n",
    "        if aa not in ALPHABET_PROTEIN:\n",
    "            return False\n",
    "    return True\n",
    "\n",
    "def one_hot_encode(s):\n",
    "    ''' one hot encode sequence'''\n",
    "    return np.eye(21)[s].flatten()\n",
    "def process_msa_sequence(msa_sequences):\n",
    "    ''' takes in list of sequences and one-hot encodes the sequences'''\n",
    "    # get wild-type sequence\n",
    "    wt_seq = msa_sequences[0]\n",
    "    # keep all the columns\n",
    "    columns_to_keep = [i for i in range(len(wt_seq))]\n",
    "    # upper case all letters\n",
    "    msa_sequences = [[s[i].upper() for i in columns_to_keep] for s in msa_sequences]\n",
    "    # replace \".\" with \"-\"\n",
    "    msa_sequences = [[aa.replace(\".\", \"-\") for aa in s] for s in msa_sequences]\n",
    "    msa_sequences = np.asarray(msa_sequences)\n",
    "    # keep sequences that pass check_sequence\n",
    "    msa_sequences = [s for s in msa_sequences if check_sequence(s)]\n",
    "    msa_sequences = np.asarray(msa_sequences)\n",
    "\n",
    "    seqs_enc, aa_to_i = encode(msa_sequences)\n",
    "    i_to_a = {i:aa for i, aa in enumerate(ALPHABET_PROTEIN)}\n",
    "    oh_enc_seq = []\n",
    "    for s in seqs_enc:\n",
    "        oh_enc_seq.append(one_hot_encode(s))\n",
    "    oh_enc_seq = np.asarray(oh_enc_seq)\n",
    "    return oh_enc_seq"
   ]
  },
  {
   "cell_type": "code",
   "execution_count": 26,
   "metadata": {},
   "outputs": [],
   "source": [
    "# read in fasta files\n",
    "yeast_seq = [str(x.seq) for x in SeqIO.parse('EVmutation/example/PABP_YEAST.a2m', 'fasta')]\n",
    "wildtype = yeast_seq[0]\n",
    "yeast_seq = process_msa_sequence(yeast_seq)"
   ]
  },
  {
   "cell_type": "code",
   "execution_count": 27,
   "metadata": {},
   "outputs": [
    {
     "data": {
      "text/plain": [
       "(151496, 2016)"
      ]
     },
     "execution_count": 27,
     "metadata": {},
     "output_type": "execute_result"
    }
   ],
   "source": [
    "yeast_seq.shape"
   ]
  },
  {
   "cell_type": "code",
   "execution_count": 19,
   "metadata": {},
   "outputs": [
    {
     "data": {
      "text/html": [
       "<style>#sk-container-id-4 {color: black;background-color: white;}#sk-container-id-4 pre{padding: 0;}#sk-container-id-4 div.sk-toggleable {background-color: white;}#sk-container-id-4 label.sk-toggleable__label {cursor: pointer;display: block;width: 100%;margin-bottom: 0;padding: 0.3em;box-sizing: border-box;text-align: center;}#sk-container-id-4 label.sk-toggleable__label-arrow:before {content: \"▸\";float: left;margin-right: 0.25em;color: #696969;}#sk-container-id-4 label.sk-toggleable__label-arrow:hover:before {color: black;}#sk-container-id-4 div.sk-estimator:hover label.sk-toggleable__label-arrow:before {color: black;}#sk-container-id-4 div.sk-toggleable__content {max-height: 0;max-width: 0;overflow: hidden;text-align: left;background-color: #f0f8ff;}#sk-container-id-4 div.sk-toggleable__content pre {margin: 0.2em;color: black;border-radius: 0.25em;background-color: #f0f8ff;}#sk-container-id-4 input.sk-toggleable__control:checked~div.sk-toggleable__content {max-height: 200px;max-width: 100%;overflow: auto;}#sk-container-id-4 input.sk-toggleable__control:checked~label.sk-toggleable__label-arrow:before {content: \"▾\";}#sk-container-id-4 div.sk-estimator input.sk-toggleable__control:checked~label.sk-toggleable__label {background-color: #d4ebff;}#sk-container-id-4 div.sk-label input.sk-toggleable__control:checked~label.sk-toggleable__label {background-color: #d4ebff;}#sk-container-id-4 input.sk-hidden--visually {border: 0;clip: rect(1px 1px 1px 1px);clip: rect(1px, 1px, 1px, 1px);height: 1px;margin: -1px;overflow: hidden;padding: 0;position: absolute;width: 1px;}#sk-container-id-4 div.sk-estimator {font-family: monospace;background-color: #f0f8ff;border: 1px dotted black;border-radius: 0.25em;box-sizing: border-box;margin-bottom: 0.5em;}#sk-container-id-4 div.sk-estimator:hover {background-color: #d4ebff;}#sk-container-id-4 div.sk-parallel-item::after {content: \"\";width: 100%;border-bottom: 1px solid gray;flex-grow: 1;}#sk-container-id-4 div.sk-label:hover label.sk-toggleable__label {background-color: #d4ebff;}#sk-container-id-4 div.sk-serial::before {content: \"\";position: absolute;border-left: 1px solid gray;box-sizing: border-box;top: 0;bottom: 0;left: 50%;z-index: 0;}#sk-container-id-4 div.sk-serial {display: flex;flex-direction: column;align-items: center;background-color: white;padding-right: 0.2em;padding-left: 0.2em;position: relative;}#sk-container-id-4 div.sk-item {position: relative;z-index: 1;}#sk-container-id-4 div.sk-parallel {display: flex;align-items: stretch;justify-content: center;background-color: white;position: relative;}#sk-container-id-4 div.sk-item::before, #sk-container-id-4 div.sk-parallel-item::before {content: \"\";position: absolute;border-left: 1px solid gray;box-sizing: border-box;top: 0;bottom: 0;left: 50%;z-index: -1;}#sk-container-id-4 div.sk-parallel-item {display: flex;flex-direction: column;z-index: 1;position: relative;background-color: white;}#sk-container-id-4 div.sk-parallel-item:first-child::after {align-self: flex-end;width: 50%;}#sk-container-id-4 div.sk-parallel-item:last-child::after {align-self: flex-start;width: 50%;}#sk-container-id-4 div.sk-parallel-item:only-child::after {width: 0;}#sk-container-id-4 div.sk-dashed-wrapped {border: 1px dashed gray;margin: 0 0.4em 0.5em 0.4em;box-sizing: border-box;padding-bottom: 0.4em;background-color: white;}#sk-container-id-4 div.sk-label label {font-family: monospace;font-weight: bold;display: inline-block;line-height: 1.2em;}#sk-container-id-4 div.sk-label-container {text-align: center;}#sk-container-id-4 div.sk-container {/* jupyter's `normalize.less` sets `[hidden] { display: none; }` but bootstrap.min.css set `[hidden] { display: none !important; }` so we also need the `!important` here to be able to override the default hidden behavior on the sphinx rendered scikit-learn.org. See: https://github.com/scikit-learn/scikit-learn/issues/21755 */display: inline-block !important;position: relative;}#sk-container-id-4 div.sk-text-repr-fallback {display: none;}</style><div id=\"sk-container-id-4\" class=\"sk-top-container\"><div class=\"sk-text-repr-fallback\"><pre>OneClassSVM(kernel=&#x27;poly&#x27;, nu=0.1)</pre><b>In a Jupyter environment, please rerun this cell to show the HTML representation or trust the notebook. <br />On GitHub, the HTML representation is unable to render, please try loading this page with nbviewer.org.</b></div><div class=\"sk-container\" hidden><div class=\"sk-item\"><div class=\"sk-estimator sk-toggleable\"><input class=\"sk-toggleable__control sk-hidden--visually\" id=\"sk-estimator-id-4\" type=\"checkbox\" checked><label for=\"sk-estimator-id-4\" class=\"sk-toggleable__label sk-toggleable__label-arrow\">OneClassSVM</label><div class=\"sk-toggleable__content\"><pre>OneClassSVM(kernel=&#x27;poly&#x27;, nu=0.1)</pre></div></div></div></div></div>"
      ],
      "text/plain": [
       "OneClassSVM(kernel='poly', nu=0.1)"
      ]
     },
     "execution_count": 19,
     "metadata": {},
     "output_type": "execute_result"
    }
   ],
   "source": [
    "from sklearn.svm import OneClassSVM\n",
    "\n",
    "clf = OneClassSVM(kernel='poly', degree=3, nu=0.1)\n",
    "clf.fit(yeast_seq[:10000])"
   ]
  },
  {
   "cell_type": "code",
   "execution_count": 20,
   "metadata": {},
   "outputs": [
    {
     "data": {
      "text/plain": [
       "array([-1,  1,  1,  1,  1,  1,  1,  1,  1,  1,  1, -1, -1,  1, -1,  1,  1,\n",
       "        1, -1, -1])"
      ]
     },
     "execution_count": 20,
     "metadata": {},
     "output_type": "execute_result"
    }
   ],
   "source": [
    "clf.predict(yeast_seq[:20])"
   ]
  },
  {
   "cell_type": "code",
   "execution_count": 28,
   "metadata": {},
   "outputs": [
    {
     "ename": "IndexError",
     "evalue": "string index out of range",
     "output_type": "error",
     "traceback": [
      "\u001b[0;31m---------------------------------------------------------------------------\u001b[0m",
      "\u001b[0;31mIndexError\u001b[0m                                Traceback (most recent call last)",
      "\u001b[1;32m/home/arthur/dev/msa_classify/PABP_YEAST.ipynb Cell 15\u001b[0m in \u001b[0;36m<cell line: 6>\u001b[0;34m()\u001b[0m\n\u001b[1;32m      <a href='vscode-notebook-cell://ssh-remote%2Bwhale.bair.berkeley.edu/home/arthur/dev/msa_classify/PABP_YEAST.ipynb#X22sdnNjb2RlLXJlbW90ZQ%3D%3D?line=5'>6</a>\u001b[0m \u001b[39mfor\u001b[39;00m m \u001b[39min\u001b[39;00m mutant:\n\u001b[1;32m      <a href='vscode-notebook-cell://ssh-remote%2Bwhale.bair.berkeley.edu/home/arthur/dev/msa_classify/PABP_YEAST.ipynb#X22sdnNjb2RlLXJlbW90ZQ%3D%3D?line=6'>7</a>\u001b[0m     original_aa, loc, mutant_aa \u001b[39m=\u001b[39m m[\u001b[39m0\u001b[39m], \u001b[39mint\u001b[39m(m[\u001b[39m1\u001b[39m:\u001b[39m4\u001b[39m]), m[\u001b[39m4\u001b[39m]\n\u001b[0;32m----> <a href='vscode-notebook-cell://ssh-remote%2Bwhale.bair.berkeley.edu/home/arthur/dev/msa_classify/PABP_YEAST.ipynb#X22sdnNjb2RlLXJlbW90ZQ%3D%3D?line=7'>8</a>\u001b[0m     \u001b[39massert\u001b[39;00m wildtype[loc] \u001b[39m==\u001b[39m original_aa\n",
      "\u001b[0;31mIndexError\u001b[0m: string index out of range"
     ]
    }
   ],
   "source": [
    "data = pd.read_csv(\n",
    "    \"PABP_YEAST/data/PABP_YEAST_Fields2013-singles.csv\", sep=\";\", comment=\"#\"\n",
    ")\n",
    "mutant, label = data['mutant'].to_numpy(), data['linear'].to_numpy()\n",
    "mutant_data = []\n",
    "for m in mutant:\n",
    "    original_aa, loc, mutant_aa = m[0], int(m[1:4]), m[4]\n",
    "    assert wildtype[loc] == original_aa"
   ]
  },
  {
   "cell_type": "code",
   "execution_count": null,
   "metadata": {},
   "outputs": [],
   "source": [
    "G126A\t"
   ]
  },
  {
   "cell_type": "code",
   "execution_count": 29,
   "metadata": {},
   "outputs": [
    {
     "data": {
      "text/plain": [
       "'qrdpslrkKGSGNIFIKNLHPDIDNKALYDTFSVFGDILSSKIATDENGKSKGFGFVHFEEEGAAKEAIDALNGMLLNGQEIYVAPHLSRkerdsq'"
      ]
     },
     "execution_count": 29,
     "metadata": {},
     "output_type": "execute_result"
    }
   ],
   "source": [
    "wildtype"
   ]
  },
  {
   "cell_type": "code",
   "execution_count": null,
   "metadata": {},
   "outputs": [],
   "source": []
  }
 ],
 "metadata": {
  "kernelspec": {
   "display_name": "Python 3.9.5 ('dev_arthur')",
   "language": "python",
   "name": "python3"
  },
  "language_info": {
   "codemirror_mode": {
    "name": "ipython",
    "version": 3
   },
   "file_extension": ".py",
   "mimetype": "text/x-python",
   "name": "python",
   "nbconvert_exporter": "python",
   "pygments_lexer": "ipython3",
   "version": "3.9.5"
  },
  "orig_nbformat": 4,
  "vscode": {
   "interpreter": {
    "hash": "2b975e03f1e86e078ea1d566012707067ac1f6e4c759ff48317f6f9dc08e1449"
   }
  }
 },
 "nbformat": 4,
 "nbformat_minor": 2
}
