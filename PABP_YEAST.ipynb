{
 "cells": [
  {
   "cell_type": "code",
   "execution_count": 2,
   "metadata": {},
   "outputs": [],
   "source": [
    "### replicate results of EVmutation with the PABP_YEAST dataset\n",
    "import pandas as pd\n",
    "import numpy as np\n",
    "import matplotlib.pyplot as plt\n",
    "from model import CouplingsModel\n",
    "import tools\n",
    "import scipy\n",
    "from pathlib import Path\n",
    "from collections import OrderedDict\n",
    "# biopython SeqIO\n",
    "from Bio import SeqIO\n",
    "from sklearn.metrics import roc_auc_score\n",
    "import scipy"
   ]
  },
  {
   "cell_type": "code",
   "execution_count": 3,
   "metadata": {},
   "outputs": [],
   "source": [
    "NAME = 'PABP_YEAST'"
   ]
  },
  {
   "cell_type": "code",
   "execution_count": 4,
   "metadata": {},
   "outputs": [],
   "source": [
    "### cut down training size to 10000 samples\n",
    "if NAME != \"PABP_YEAST\":\n",
    "    number = NAME.split('_')[2]\n",
    "    fasta_sequences = SeqIO.parse(open(\"PABP_YEAST/data/PABP_YEAST.a2m\"),'fasta')\n",
    "    with open(f\"PABP_YEAST/data/{NAME}.a2m\", \"w+\") as out_file:\n",
    "        cnt = 0\n",
    "        seq = []\n",
    "        for fasta in fasta_sequences:\n",
    "            seq.append(fasta)\n",
    "            cnt += 1\n",
    "            if cnt >= 10000:\n",
    "                break\n",
    "        SeqIO.write(seq, out_file, \"fasta\")"
   ]
  },
  {
   "cell_type": "code",
   "execution_count": 7,
   "metadata": {},
   "outputs": [
    {
     "name": "stdout",
     "output_type": "stream",
     "text": [
      "Found focus PABP_YEAST as sequence 1\n",
      "151496 valid sequences out of 152041 \n",
      "82 sites out of 96\n",
      "Region starts at 115\n",
      "Effective number of samples (to 1 decimal place): 18615.5\t(80% identical neighborhood = 1.000 samples)\n",
      "iter\ttime\tcond\tfx\t-loglk\t||h||\t||e||\n",
      "1\t1.5\t668.45\t2803680.4\t2803612.2\t72.1\t1.0\n",
      "2\t2.2\t1317.47\t2530380.0\t2526756.6\t72.1\t14.8\n",
      "3\t2.8\t1387.57\t2507890.2\t2498735.3\t72.1\t23.7\n",
      "4\t3.5\t658.49\t2409702.7\t2401575.0\t72.1\t22.3\n",
      "5\t4.2\t637.79\t2383657.9\t2376482.3\t72.0\t21.0\n",
      "6\t4.9\t407.33\t2361117.0\t2353416.7\t72.0\t21.7\n",
      "7\t5.6\t478.18\t2297750.2\t2288016.6\t72.0\t24.4\n",
      "8\t6.3\t549.61\t2213983.4\t2198656.6\t71.9\t30.7\n",
      "9\t7.7\t707.63\t2182939.6\t2163878.2\t71.9\t34.3\n",
      "10\t8.3\t477.00\t2147279.0\t2123692.2\t71.9\t38.1\n",
      "11\t9.0\t424.40\t2114991.4\t2087527.3\t71.9\t41.1\n",
      "12\t9.7\t646.70\t2086447.8\t2052652.6\t71.9\t45.6\n",
      "13\t10.4\t331.04\t2063943.8\t2030772.3\t71.9\t45.2\n",
      "14\t11.2\t275.17\t2043127.9\t2009362.5\t71.9\t45.6\n",
      "15\t11.9\t294.50\t2018508.1\t1981338.2\t71.9\t47.9\n",
      "16\t12.6\t455.42\t1995078.0\t1951677.0\t71.8\t51.7\n",
      "17\t13.3\t301.11\t1976134.6\t1926882.9\t71.8\t55.1\n",
      "18\t13.9\t208.26\t1963587.2\t1913315.7\t71.8\t55.7\n",
      "19\t14.6\t292.71\t1944821.9\t1890895.1\t71.7\t57.7\n",
      "20\t15.3\t272.67\t1933692.2\t1874484.9\t71.7\t60.4\n",
      "21\t16.0\t178.42\t1921179.0\t1855754.2\t71.7\t63.5\n",
      "22\t16.7\t206.03\t1908994.2\t1834398.5\t71.7\t67.8\n",
      "23\t17.4\t240.80\t1901357.8\t1820707.4\t71.7\t70.5\n",
      "24\t18.1\t158.05\t1894488.7\t1814169.5\t71.7\t70.4\n",
      "25\t18.8\t166.49\t1882504.4\t1802412.7\t71.7\t70.3\n",
      "26\t19.5\t187.41\t1874535.3\t1792062.8\t71.7\t71.3\n",
      "27\t20.2\t201.08\t1864128.2\t1774510.2\t71.7\t74.4\n",
      "28\t20.9\t153.78\t1856394.0\t1761381.5\t71.7\t76.6\n",
      "29\t21.6\t135.20\t1850516.9\t1752234.9\t71.6\t77.9\n",
      "30\t22.3\t145.22\t1842733.4\t1738824.6\t71.6\t80.1\n",
      "31\t23.0\t254.62\t1839890.5\t1728326.5\t71.6\t83.0\n",
      "32\t23.7\t121.04\t1832755.3\t1721602.6\t71.6\t82.8\n",
      "33\t24.3\t120.34\t1828145.8\t1716275.0\t71.6\t83.1\n",
      "34\t25.0\t119.09\t1824419.3\t1710950.6\t71.6\t83.7\n",
      "35\t25.6\t313.69\t1820945.5\t1700242.7\t71.6\t86.3\n",
      "36\t26.3\t102.56\t1813910.8\t1691877.8\t71.6\t86.8\n",
      "37\t27.1\t91.97\t1811080.2\t1688352.9\t71.6\t87.0\n",
      "38\t27.8\t106.68\t1806539.2\t1680730.4\t71.6\t88.1\n",
      "39\t28.5\t181.49\t1802432.5\t1672257.2\t71.6\t89.6\n",
      "40\t29.2\t114.51\t1798287.3\t1663725.8\t71.6\t91.1\n",
      "41\t29.9\t70.19\t1795792.1\t1660447.1\t71.6\t91.4\n",
      "42\t30.6\t92.03\t1793335.6\t1656427.9\t71.6\t91.9\n",
      "43\t31.3\t89.59\t1791153.1\t1651936.3\t71.5\t92.7\n",
      "44\t32.0\t103.87\t1788285.0\t1645299.0\t71.5\t93.9\n",
      "45\t32.7\t103.62\t1785262.5\t1638145.6\t71.5\t95.3\n",
      "46\t33.4\t74.98\t1782707.3\t1633763.8\t71.5\t95.9\n",
      "47\t34.1\t73.35\t1780612.3\t1630511.8\t71.5\t96.2\n",
      "48\t34.8\t70.87\t1778044.5\t1625464.6\t71.5\t97.0\n",
      "49\t35.4\t99.35\t1776071.7\t1620488.2\t71.5\t98.0\n",
      "50\t36.1\t66.88\t1774082.3\t1616734.8\t71.5\t98.5\n",
      "51\t36.8\t63.10\t1772014.9\t1612297.8\t71.5\t99.3\n",
      "52\t37.5\t82.25\t1770396.9\t1608188.0\t71.5\t100.0\n",
      "53\t38.2\t62.19\t1768739.3\t1604420.2\t71.5\t100.7\n",
      "54\t38.9\t59.73\t1767246.9\t1601359.1\t71.5\t101.2\n",
      "55\t39.5\t77.57\t1765860.8\t1598255.7\t71.5\t101.7\n",
      "56\t40.2\t57.68\t1764644.4\t1595996.4\t71.5\t102.0\n",
      "57\t40.8\t46.06\t1763350.7\t1592955.1\t71.5\t102.5\n",
      "58\t41.5\t60.80\t1762257.4\t1589907.9\t71.5\t103.1\n",
      "59\t42.2\t46.84\t1761006.7\t1586338.7\t71.5\t103.8\n",
      "60\t42.9\t42.50\t1760006.5\t1584159.4\t71.5\t104.2\n",
      "61\t43.5\t50.07\t1758933.4\t1581691.4\t71.5\t104.6\n",
      "62\t44.2\t56.78\t1758161.3\t1580126.7\t71.5\t104.8\n",
      "63\t44.9\t42.49\t1757363.2\t1578904.7\t71.5\t104.9\n",
      "64\t45.5\t44.74\t1756244.6\t1576561.2\t71.5\t105.3\n",
      "65\t46.2\t71.41\t1755543.4\t1574562.7\t71.5\t105.7\n",
      "66\t46.9\t43.75\t1754763.8\t1573069.4\t71.5\t105.9\n",
      "67\t47.6\t30.22\t1753891.7\t1570899.9\t71.4\t106.3\n",
      "68\t48.3\t35.99\t1753489.0\t1569806.5\t71.4\t106.5\n",
      "69\t49.0\t28.72\t1752896.7\t1568158.4\t71.4\t106.8\n",
      "70\t49.6\t59.38\t1752407.8\t1566864.5\t71.4\t107.0\n",
      "71\t50.3\t34.06\t1751782.8\t1566008.0\t71.4\t107.1\n",
      "72\t51.0\t31.69\t1751166.5\t1565434.0\t71.4\t107.1\n",
      "73\t51.7\t43.84\t1750561.3\t1564633.8\t71.4\t107.1\n",
      "74\t52.4\t64.99\t1750111.0\t1563616.2\t71.4\t107.3\n",
      "75\t53.0\t28.93\t1749606.1\t1563106.6\t71.4\t107.3\n",
      "76\t53.8\t25.53\t1749303.9\t1562750.4\t71.4\t107.3\n",
      "77\t54.4\t29.66\t1748913.0\t1562182.5\t71.4\t107.3\n",
      "78\t54.9\t63.91\t1748608.9\t1561623.4\t71.4\t107.4\n",
      "79\t55.5\t27.55\t1748148.4\t1561013.5\t71.4\t107.5\n",
      "80\t55.9\t21.24\t1747883.6\t1560709.8\t71.4\t107.5\n",
      "81\t56.4\t25.39\t1747554.8\t1560334.2\t71.4\t107.5\n",
      "82\t56.9\t45.07\t1747234.9\t1559927.4\t71.4\t107.5\n",
      "83\t57.4\t21.35\t1746895.1\t1559563.6\t71.4\t107.5\n",
      "84\t57.9\t19.67\t1746687.7\t1559405.0\t71.4\t107.5\n",
      "85\t58.4\t29.95\t1746383.0\t1559221.0\t71.4\t107.5\n",
      "86\t58.8\t37.03\t1746179.6\t1559145.8\t71.4\t107.4\n",
      "87\t59.3\t20.20\t1745964.6\t1558962.8\t71.4\t107.4\n",
      "88\t59.8\t18.34\t1745739.3\t1558807.9\t71.4\t107.4\n",
      "89\t60.2\t20.30\t1745584.8\t1558726.9\t71.4\t107.4\n",
      "90\t60.7\t51.86\t1745521.2\t1558880.9\t71.4\t107.3\n",
      "91\t61.2\t15.86\t1745244.7\t1558608.0\t71.4\t107.3\n",
      "92\t61.6\t13.98\t1745171.0\t1558546.1\t71.4\t107.3\n",
      "93\t62.1\t18.08\t1744994.6\t1558466.2\t71.4\t107.3\n",
      "94\t62.5\t48.33\t1744899.0\t1558583.4\t71.4\t107.2\n",
      "95\t63.0\t19.29\t1744683.5\t1558423.9\t71.4\t107.2\n",
      "96\t63.4\t13.11\t1744582.0\t1558388.8\t71.4\t107.2\n",
      "97\t63.9\t14.50\t1744489.2\t1558395.0\t71.4\t107.2\n",
      "98\t64.4\t18.05\t1744351.6\t1558410.7\t71.4\t107.1\n",
      "99\t64.9\t28.94\t1744284.9\t1558597.4\t71.3\t107.0\n",
      "100\t65.4\t11.70\t1744167.1\t1558460.2\t71.3\t107.1\n",
      "101\t65.9\t13.38\t1744103.6\t1558407.7\t71.3\t107.0\n",
      "102\t66.3\t17.30\t1743994.0\t1558395.6\t71.3\t107.0\n",
      "103\t66.8\t35.80\t1743915.5\t1558554.5\t71.3\t107.0\n",
      "104\t67.3\t13.41\t1743787.5\t1558547.4\t71.3\t106.9\n",
      "105\t67.8\t9.91\t1743736.0\t1558563.7\t71.3\t106.9\n",
      "106\t68.3\t10.87\t1743675.6\t1558621.6\t71.3\t106.9\n",
      "107\t68.7\t10.95\t1743591.9\t1558698.9\t71.3\t106.8\n",
      "108\t69.7\t20.14\t1743536.4\t1558800.2\t71.3\t106.8\n",
      "109\t70.2\t10.60\t1743445.1\t1558872.0\t71.3\t106.7\n",
      "110\t70.6\t9.46\t1743383.0\t1558898.2\t71.3\t106.7\n",
      "111\t71.1\t20.61\t1743335.3\t1558997.9\t71.3\t106.7\n",
      "112\t71.6\t8.51\t1743284.0\t1558969.4\t71.3\t106.7\n",
      "113\t72.1\t6.94\t1743262.6\t1558943.7\t71.3\t106.7\n",
      "114\t72.6\t8.59\t1743223.0\t1558937.1\t71.3\t106.6\n",
      "115\t73.0\t19.26\t1743195.7\t1559027.7\t71.3\t106.6\n",
      "116\t73.5\t9.30\t1743156.6\t1559030.5\t71.3\t106.6\n",
      "117\t74.0\t6.80\t1743127.0\t1559080.9\t71.3\t106.6\n",
      "118\t74.5\t8.03\t1743105.6\t1559134.5\t71.3\t106.6\n",
      "119\t74.9\t14.93\t1743066.0\t1559266.5\t71.3\t106.5\n",
      "120\t75.4\t9.16\t1743028.8\t1559377.7\t71.3\t106.5\n",
      "121\t75.8\t6.09\t1743007.7\t1559361.3\t71.3\t106.5\n",
      "122\t76.3\t7.70\t1742978.7\t1559367.0\t71.3\t106.4\n",
      "123\t76.8\t11.94\t1742962.5\t1559422.7\t71.3\t106.4\n",
      "124\t77.2\t7.56\t1742942.4\t1559448.5\t71.3\t106.4\n",
      "125\t77.7\t5.79\t1742914.5\t1559530.8\t71.3\t106.4\n",
      "126\t78.2\t6.38\t1742897.5\t1559586.7\t71.3\t106.4\n",
      "127\t78.6\t16.95\t1742883.3\t1559798.7\t71.3\t106.3\n",
      "128\t79.1\t5.38\t1742852.0\t1559764.0\t71.3\t106.3\n",
      "129\t79.5\t4.73\t1742843.4\t1559741.7\t71.3\t106.3\n",
      "130\t80.0\t6.08\t1742826.7\t1559751.9\t71.3\t106.3\n",
      "131\t80.5\t11.43\t1742810.7\t1559821.1\t71.3\t106.3\n",
      "132\t80.9\t6.16\t1742791.0\t1559864.8\t71.3\t106.2\n",
      "133\t81.4\t5.12\t1742776.1\t1559910.9\t71.3\t106.2\n",
      "134\t81.9\t5.76\t1742760.5\t1559968.0\t71.3\t106.2\n",
      "135\t82.3\t12.60\t1742755.5\t1560057.5\t71.3\t106.2\n",
      "136\t82.8\t4.58\t1742739.7\t1560031.2\t71.3\t106.2\n",
      "137\t83.3\t3.98\t1742732.3\t1560018.1\t71.3\t106.2\n",
      "138\t83.8\t5.23\t1742721.9\t1560018.0\t71.3\t106.2\n",
      "139\t84.3\t7.07\t1742704.9\t1560044.7\t71.3\t106.2\n",
      "140\t84.8\t11.98\t1742697.9\t1560110.8\t71.3\t106.1\n",
      "141\t85.2\t4.01\t1742680.8\t1560097.7\t71.3\t106.1\n",
      "142\t85.7\t3.74\t1742675.2\t1560097.9\t71.3\t106.1\n",
      "143\t86.2\t4.41\t1742666.1\t1560106.7\t71.3\t106.1\n",
      "144\t86.7\t5.83\t1742651.5\t1560128.3\t71.2\t106.1\n",
      "145\t87.7\t6.53\t1742642.0\t1560151.5\t71.2\t106.1\n",
      "146\t88.2\t3.94\t1742631.7\t1560160.9\t71.2\t106.1\n",
      "147\t88.7\t3.92\t1742622.6\t1560167.6\t71.2\t106.1\n",
      "148\t89.2\t5.66\t1742616.1\t1560175.4\t71.2\t106.1\n",
      "149\t89.7\t3.47\t1742609.3\t1560175.2\t71.2\t106.1\n",
      "150\t90.2\t3.93\t1742600.9\t1560174.0\t71.2\t106.1\n",
      "151\t90.6\t5.27\t1742592.6\t1560182.8\t71.2\t106.1\n",
      "152\t91.1\t5.17\t1742584.0\t1560196.4\t71.2\t106.1\n",
      "153\t91.7\t3.57\t1742577.7\t1560198.8\t71.2\t106.1\n",
      "154\t92.2\t3.75\t1742571.5\t1560199.5\t71.2\t106.1\n",
      "155\t92.7\t4.47\t1742563.1\t1560201.9\t71.2\t106.1\n",
      "156\t93.2\t11.30\t1742558.3\t1560222.0\t71.2\t106.1\n",
      "157\t93.7\t3.83\t1742545.9\t1560211.1\t71.2\t106.1\n",
      "158\t94.2\t3.03\t1742541.3\t1560207.9\t71.2\t106.1\n",
      "159\t94.7\t3.27\t1742535.9\t1560208.0\t71.2\t106.1\n",
      "160\t95.2\t6.26\t1742529.2\t1560210.9\t71.2\t106.1\n",
      "161\t95.7\t3.71\t1742522.0\t1560212.4\t71.2\t106.1\n",
      "162\t96.1\t2.99\t1742517.3\t1560209.1\t71.2\t106.1\n",
      "163\t96.7\t4.41\t1742508.1\t1560203.6\t71.2\t106.1\n",
      "164\t97.1\t7.35\t1742504.8\t1560204.2\t71.2\t106.1\n",
      "165\t97.7\t3.63\t1742499.0\t1560197.7\t71.2\t106.1\n",
      "166\t98.1\t2.87\t1742493.8\t1560192.3\t71.2\t106.1\n",
      "167\t98.6\t3.50\t1742489.1\t1560187.5\t71.2\t106.1\n",
      "168\t99.1\t6.95\t1742481.2\t1560177.6\t71.2\t106.1\n",
      "169\t99.6\t4.62\t1742473.3\t1560165.9\t71.2\t106.1\n",
      "170\t100.0\t3.24\t1742468.2\t1560159.0\t71.2\t106.1\n",
      "171\t100.5\t4.17\t1742459.7\t1560144.2\t71.2\t106.1\n",
      "172\t101.0\t6.24\t1742454.5\t1560131.8\t71.2\t106.1\n",
      "173\t101.5\t4.35\t1742448.4\t1560121.1\t71.2\t106.1\n",
      "174\t102.0\t3.50\t1742438.1\t1560098.1\t71.2\t106.1\n",
      "175\t102.5\t4.71\t1742432.0\t1560080.9\t71.2\t106.1\n",
      "176\t103.0\t3.98\t1742424.3\t1560054.8\t71.2\t106.1\n",
      "177\t103.5\t4.22\t1742418.3\t1560036.8\t71.2\t106.1\n",
      "178\t104.0\t3.69\t1742411.3\t1560017.5\t71.2\t106.1\n",
      "179\t104.6\t4.55\t1742402.6\t1559993.3\t71.1\t106.1\n",
      "180\t105.1\t7.57\t1742392.7\t1559944.9\t71.1\t106.1\n",
      "181\t105.6\t4.14\t1742383.4\t1559915.5\t71.1\t106.1\n",
      "182\t106.1\t3.28\t1742378.8\t1559904.6\t71.1\t106.1\n",
      "183\t106.6\t4.14\t1742372.5\t1559876.2\t71.1\t106.1\n",
      "184\t107.1\t5.76\t1742367.1\t1559834.2\t71.1\t106.1\n",
      "185\t107.6\t3.86\t1742361.7\t1559812.9\t71.1\t106.1\n",
      "186\t108.1\t3.55\t1742353.1\t1559757.9\t71.1\t106.2\n",
      "187\t108.6\t5.30\t1742347.3\t1559711.0\t71.1\t106.2\n",
      "188\t109.1\t4.65\t1742338.3\t1559642.8\t71.1\t106.2\n",
      "189\t109.6\t9.63\t1742329.0\t1559527.1\t71.1\t106.2\n",
      "190\t110.1\t3.54\t1742316.8\t1559456.7\t71.1\t106.2\n",
      "191\t110.6\t3.36\t1742310.9\t1559444.6\t71.1\t106.2\n",
      "192\t111.1\t4.21\t1742300.4\t1559384.0\t71.1\t106.2\n",
      "193\t112.1\t5.77\t1742295.2\t1559329.7\t71.1\t106.3\n",
      "194\t112.6\t3.95\t1742288.4\t1559271.1\t71.1\t106.3\n",
      "195\t113.2\t3.79\t1742278.5\t1559151.5\t71.1\t106.3\n",
      "196\t113.6\t7.03\t1742273.3\t1559049.4\t71.1\t106.3\n",
      "197\t114.2\t4.31\t1742266.8\t1559016.5\t71.1\t106.3\n",
      "198\t114.7\t3.89\t1742255.2\t1558918.2\t71.1\t106.4\n",
      "199\t115.2\t4.61\t1742247.9\t1558834.2\t71.2\t106.4\n",
      "200\t115.7\t9.42\t1742234.8\t1558598.1\t71.2\t106.5\n",
      "Gradient optimization: MAXIMUMITERATION\n"
     ]
    }
   ],
   "source": [
    "### training code for model\n",
    "!plmc/bin/plmc -o PABP_YEAST/model/{NAME}.model_params -c PABP_YEAST/model/{NAME}.txt -f PABP_YEAST -le 16.2 -lh 0.01 -m 200 -t 0.2 -g PABP_YEAST/data/{NAME}.a2m"
   ]
  },
  {
   "cell_type": "code",
   "execution_count": 5,
   "metadata": {},
   "outputs": [],
   "source": [
    "def EVmutation_results(NAME=\"PABP_YEAST\"):\n",
    "    # load parameters from file to create a pairwise model\n",
    "    c = CouplingsModel(f\"PABP_YEAST/model/{NAME}.model_params\")\n",
    "    # read the experimental mutational scanning dataset for PABP by Melamed et al., RNA, 2013\n",
    "    data = pd.read_csv(\n",
    "        \"PABP_YEAST/data/PABP_YEAST_Fields2013-singles.csv\", sep=\";\", comment=\"#\"\n",
    "    )\n",
    "\n",
    "    # predict mutations using our model\n",
    "    data_pred = tools.predict_mutation_table(\n",
    "        c, data, \"effect_prediction_epistatic\"\n",
    "    )\n",
    "\n",
    "    # can also add predictions by the corresponding independent model\n",
    "    c0 = c.to_independent_model()\n",
    "\n",
    "    data_pred = tools.predict_mutation_table(\n",
    "        c0, data_pred, \"effect_prediction_independent\"\n",
    "    )\n",
    "    print(data_pred.head())\n",
    "\n",
    "    singles = tools.single_mutant_matrix(\n",
    "        c, output_column=\"effect_prediction_epistatic\"\n",
    "    )\n",
    "\n",
    "    print(singles.head())\n",
    "    pred = data_pred['effect_prediction_epistatic']\n",
    "    pred_ind = data_pred['effect_prediction_independent']\n",
    "    label = data_pred['linear']\n",
    "    print('evmutation spearman: ', scipy.stats.spearmanr(pred, label))\n",
    "    print('independent control spearman: ', scipy.stats.spearmanr(pred_ind, label))"
   ]
  },
  {
   "cell_type": "code",
   "execution_count": 6,
   "metadata": {},
   "outputs": [
    {
     "name": "stdout",
     "output_type": "stream",
     "text": [
      "  mutant    linear       log  effect_prediction_epistatic  \\\n",
      "0  G126A  0.711743 -0.490571                    -2.601740   \n",
      "1  G126C  0.449027 -1.155127                    -5.648695   \n",
      "2  G126E  0.588928 -0.763836                    -6.598581   \n",
      "3  G126D  0.229853 -2.121218                    -7.250636   \n",
      "4  G126N  0.679435 -0.557593                    -5.800188   \n",
      "\n",
      "   effect_prediction_independent  \n",
      "0                       0.406487  \n",
      "1                      -0.027602  \n",
      "2                      -1.827570  \n",
      "3                      -1.180076  \n",
      "4                       0.387440  \n",
      "  mutant  pos wt subs  frequency  effect_prediction_epistatic\n",
      "0  K123A  123  K    A   0.077201                     0.807069\n",
      "1  K123C  123  K    C   0.001461                    -3.332515\n",
      "2  K123D  123  K    D   0.118235                    -0.304472\n",
      "3  K123E  123  K    E   0.110503                    -1.060114\n",
      "4  K123F  123  K    F   0.007791                    -3.003125\n",
      "evmutation spearman:  SpearmanrResult(correlation=0.5925893462212992, pvalue=1.5421933021357687e-113)\n",
      "independent control spearman:  SpearmanrResult(correlation=0.4236780791119215, pvalue=6.077688379018816e-53)\n",
      "=======\n",
      "  mutant    linear       log  effect_prediction_epistatic  \\\n",
      "0  G126A  0.711743 -0.490571                    -2.748296   \n",
      "1  G126C  0.449027 -1.155127                    -5.845742   \n",
      "2  G126E  0.588928 -0.763836                    -7.487606   \n",
      "3  G126D  0.229853 -2.121218                    -9.381074   \n",
      "4  G126N  0.679435 -0.557593                    -5.259304   \n",
      "\n",
      "   effect_prediction_independent  \n",
      "0                      -0.238069  \n",
      "1                      -2.374895  \n",
      "2                      -4.914058  \n",
      "3                      -7.378356  \n",
      "4                      -1.247678  \n",
      "  mutant  pos wt subs  frequency  effect_prediction_epistatic\n",
      "0  K123A  123  K    A   0.188267                    -0.692897\n",
      "1  K123C  123  K    C   0.006716                    -3.635591\n",
      "2  K123D  123  K    D   0.018194                    -2.769356\n",
      "3  K123E  123  K    E   0.055396                    -3.402607\n",
      "4  K123F  123  K    F   0.025574                    -3.841820\n",
      "evmutation spearman:  SpearmanrResult(correlation=0.5981180502516961, pvalue=3.612670279465758e-116)\n",
      "independent control spearman:  SpearmanrResult(correlation=0.5348699490246678, pvalue=7.042356286654231e-89)\n"
     ]
    }
   ],
   "source": [
    "EVmutation_results(\"PABP_YEAST\")\n",
    "print('=======')\n",
    "EVmutation_results(\"PABP_YEAST_10000\")"
   ]
  },
  {
   "cell_type": "markdown",
   "metadata": {},
   "source": [
    "Running SVM on this set of data"
   ]
  },
  {
   "cell_type": "code",
   "execution_count": 7,
   "metadata": {},
   "outputs": [],
   "source": [
    "ALPHABET_PROTEIN = '-ACDEFGHIKLMNPQRSTVWY'\n",
    "# Protein amino acid alphabet + gap character \"-\"\n",
    "alphabet = '-ACDEFGHIKLMNPQRSTVWY'\n",
    "# map amino acids to index\n",
    "aa_to_i = {aa:i for i, aa in enumerate(alphabet)}\n",
    "# map index to amino acids\n",
    "i_to_a = {i:aa for i, aa in enumerate(alphabet)}"
   ]
  },
  {
   "cell_type": "code",
   "execution_count": 8,
   "id": "f90865fb",
   "metadata": {
    "collapsed": false
   },
   "outputs": [],
   "source": [
    "def encode(seqs, alphabet=ALPHABET_PROTEIN):\n",
    "    '''\n",
    "    Go from letters to numbers\n",
    "    '''\n",
    "    aa_to_i = OrderedDict((aa, i) for i, aa in enumerate( alphabet ))\n",
    "    X = np.asarray([[aa_to_i[x] for x in seq] \n",
    "                    for seq in seqs])\n",
    "    return X, aa_to_i\n",
    "\n",
    "def check_sequence(s, alphabet=ALPHABET_PROTEIN):\n",
    "    for aa in s:\n",
    "        if aa not in ALPHABET_PROTEIN:\n",
    "            return False\n",
    "    return True\n",
    "\n",
    "def one_hot_encode(s):\n",
    "    ''' one hot encode sequence'''\n",
    "    return np.eye(21)[s].flatten()\n",
    "def process_msa_sequence(msa_sequences):\n",
    "    ''' takes in list of sequences and one-hot encodes the sequences'''\n",
    "    # get wild-type sequence\n",
    "    wt_seq = msa_sequences[0]\n",
    "    # keep all the columns\n",
    "    columns_to_keep = [i for i in range(len(wt_seq))]\n",
    "    # upper case all letters\n",
    "    msa_sequences = [[s[i].upper() for i in columns_to_keep] for s in msa_sequences]\n",
    "    # replace \".\" with \"-\"\n",
    "    msa_sequences = [[aa.replace(\".\", \"-\") for aa in s] for s in msa_sequences]\n",
    "    msa_sequences = np.asarray(msa_sequences)\n",
    "    # keep sequences that pass check_sequence\n",
    "    msa_sequences = [s for s in msa_sequences if check_sequence(s)]\n",
    "    msa_sequences = np.asarray(msa_sequences)\n",
    "\n",
    "    seqs_enc, aa_to_i = encode(msa_sequences)\n",
    "    i_to_a = {i:aa for i, aa in enumerate(ALPHABET_PROTEIN)}\n",
    "    oh_enc_seq = []\n",
    "    for s in seqs_enc:\n",
    "        oh_enc_seq.append(one_hot_encode(s))\n",
    "    oh_enc_seq = np.asarray(oh_enc_seq)\n",
    "    return oh_enc_seq"
   ]
  },
  {
   "cell_type": "code",
   "execution_count": 9,
   "metadata": {},
   "outputs": [],
   "source": [
    "# read in fasta files\n",
    "yeast_seq = [str(x.seq) for x in SeqIO.parse('EVmutation/example/PABP_YEAST.a2m', 'fasta')]\n",
    "wildtype = yeast_seq[0]\n",
    "yeast_seq = process_msa_sequence(yeast_seq)"
   ]
  },
  {
   "cell_type": "code",
   "execution_count": 10,
   "metadata": {},
   "outputs": [
    {
     "data": {
      "text/html": [
       "<style>#sk-container-id-1 {color: black;background-color: white;}#sk-container-id-1 pre{padding: 0;}#sk-container-id-1 div.sk-toggleable {background-color: white;}#sk-container-id-1 label.sk-toggleable__label {cursor: pointer;display: block;width: 100%;margin-bottom: 0;padding: 0.3em;box-sizing: border-box;text-align: center;}#sk-container-id-1 label.sk-toggleable__label-arrow:before {content: \"▸\";float: left;margin-right: 0.25em;color: #696969;}#sk-container-id-1 label.sk-toggleable__label-arrow:hover:before {color: black;}#sk-container-id-1 div.sk-estimator:hover label.sk-toggleable__label-arrow:before {color: black;}#sk-container-id-1 div.sk-toggleable__content {max-height: 0;max-width: 0;overflow: hidden;text-align: left;background-color: #f0f8ff;}#sk-container-id-1 div.sk-toggleable__content pre {margin: 0.2em;color: black;border-radius: 0.25em;background-color: #f0f8ff;}#sk-container-id-1 input.sk-toggleable__control:checked~div.sk-toggleable__content {max-height: 200px;max-width: 100%;overflow: auto;}#sk-container-id-1 input.sk-toggleable__control:checked~label.sk-toggleable__label-arrow:before {content: \"▾\";}#sk-container-id-1 div.sk-estimator input.sk-toggleable__control:checked~label.sk-toggleable__label {background-color: #d4ebff;}#sk-container-id-1 div.sk-label input.sk-toggleable__control:checked~label.sk-toggleable__label {background-color: #d4ebff;}#sk-container-id-1 input.sk-hidden--visually {border: 0;clip: rect(1px 1px 1px 1px);clip: rect(1px, 1px, 1px, 1px);height: 1px;margin: -1px;overflow: hidden;padding: 0;position: absolute;width: 1px;}#sk-container-id-1 div.sk-estimator {font-family: monospace;background-color: #f0f8ff;border: 1px dotted black;border-radius: 0.25em;box-sizing: border-box;margin-bottom: 0.5em;}#sk-container-id-1 div.sk-estimator:hover {background-color: #d4ebff;}#sk-container-id-1 div.sk-parallel-item::after {content: \"\";width: 100%;border-bottom: 1px solid gray;flex-grow: 1;}#sk-container-id-1 div.sk-label:hover label.sk-toggleable__label {background-color: #d4ebff;}#sk-container-id-1 div.sk-serial::before {content: \"\";position: absolute;border-left: 1px solid gray;box-sizing: border-box;top: 0;bottom: 0;left: 50%;z-index: 0;}#sk-container-id-1 div.sk-serial {display: flex;flex-direction: column;align-items: center;background-color: white;padding-right: 0.2em;padding-left: 0.2em;position: relative;}#sk-container-id-1 div.sk-item {position: relative;z-index: 1;}#sk-container-id-1 div.sk-parallel {display: flex;align-items: stretch;justify-content: center;background-color: white;position: relative;}#sk-container-id-1 div.sk-item::before, #sk-container-id-1 div.sk-parallel-item::before {content: \"\";position: absolute;border-left: 1px solid gray;box-sizing: border-box;top: 0;bottom: 0;left: 50%;z-index: -1;}#sk-container-id-1 div.sk-parallel-item {display: flex;flex-direction: column;z-index: 1;position: relative;background-color: white;}#sk-container-id-1 div.sk-parallel-item:first-child::after {align-self: flex-end;width: 50%;}#sk-container-id-1 div.sk-parallel-item:last-child::after {align-self: flex-start;width: 50%;}#sk-container-id-1 div.sk-parallel-item:only-child::after {width: 0;}#sk-container-id-1 div.sk-dashed-wrapped {border: 1px dashed gray;margin: 0 0.4em 0.5em 0.4em;box-sizing: border-box;padding-bottom: 0.4em;background-color: white;}#sk-container-id-1 div.sk-label label {font-family: monospace;font-weight: bold;display: inline-block;line-height: 1.2em;}#sk-container-id-1 div.sk-label-container {text-align: center;}#sk-container-id-1 div.sk-container {/* jupyter's `normalize.less` sets `[hidden] { display: none; }` but bootstrap.min.css set `[hidden] { display: none !important; }` so we also need the `!important` here to be able to override the default hidden behavior on the sphinx rendered scikit-learn.org. See: https://github.com/scikit-learn/scikit-learn/issues/21755 */display: inline-block !important;position: relative;}#sk-container-id-1 div.sk-text-repr-fallback {display: none;}</style><div id=\"sk-container-id-1\" class=\"sk-top-container\"><div class=\"sk-text-repr-fallback\"><pre>OneClassSVM(degree=2, kernel=&#x27;poly&#x27;, nu=0.3)</pre><b>In a Jupyter environment, please rerun this cell to show the HTML representation or trust the notebook. <br />On GitHub, the HTML representation is unable to render, please try loading this page with nbviewer.org.</b></div><div class=\"sk-container\" hidden><div class=\"sk-item\"><div class=\"sk-estimator sk-toggleable\"><input class=\"sk-toggleable__control sk-hidden--visually\" id=\"sk-estimator-id-1\" type=\"checkbox\" checked><label for=\"sk-estimator-id-1\" class=\"sk-toggleable__label sk-toggleable__label-arrow\">OneClassSVM</label><div class=\"sk-toggleable__content\"><pre>OneClassSVM(degree=2, kernel=&#x27;poly&#x27;, nu=0.3)</pre></div></div></div></div></div>"
      ],
      "text/plain": [
       "OneClassSVM(degree=2, kernel='poly', nu=0.3)"
      ]
     },
     "execution_count": 10,
     "metadata": {},
     "output_type": "execute_result"
    }
   ],
   "source": [
    "from sklearn.svm import OneClassSVM\n",
    "\n",
    "clf = OneClassSVM(kernel='poly', degree=2, nu=0.3)\n",
    "train = yeast_seq[:50000]\n",
    "clf.fit(train)"
   ]
  },
  {
   "cell_type": "code",
   "execution_count": 11,
   "metadata": {},
   "outputs": [],
   "source": [
    "data = pd.read_csv(\n",
    "    \"PABP_YEAST/data/PABP_YEAST_Fields2013-singles.csv\", sep=\";\", comment=\"#\"\n",
    ")\n",
    "mutant, label = data['mutant'].to_numpy(), data['linear'].to_numpy()\n",
    "mutant_data = []\n",
    "for m in mutant:\n",
    "    original_aa, loc, mutant_aa = m[0], int(m[1:4])-115, m[4]\n",
    "    assert wildtype[loc] == original_aa\n",
    "    mutant_data.append(wildtype[:loc]+mutant_aa+wildtype[loc+1:])\n",
    "mutant_data = np.asarray(mutant_data)\n",
    "mutant_data = process_msa_sequence(mutant_data)"
   ]
  },
  {
   "cell_type": "code",
   "execution_count": 12,
   "metadata": {},
   "outputs": [],
   "source": [
    "### about labelling in the data: for linear, > 1 --> generally neutral mutation, probability of neutral mutation decreases as\n",
    "### enrichment score gets lower"
   ]
  },
  {
   "cell_type": "code",
   "execution_count": 15,
   "metadata": {},
   "outputs": [],
   "source": [
    "train_pred = clf.decision_function(train[:10000])\n",
    "msa_pred = clf.decision_function(yeast_seq[50000:60000])\n",
    "mut_pred_pos = clf.decision_function(mutant_data[np.where(label>=1)])\n",
    "mut_pred_neg = clf.decision_function(mutant_data[np.where(label<1)])\n"
   ]
  },
  {
   "cell_type": "code",
   "execution_count": 1,
   "metadata": {},
   "outputs": [
    {
     "ename": "NameError",
     "evalue": "name 'plt' is not defined",
     "output_type": "error",
     "traceback": [
      "\u001b[0;31m---------------------------------------------------------------------------\u001b[0m",
      "\u001b[0;31mNameError\u001b[0m                                 Traceback (most recent call last)",
      "\u001b[1;32m/home/arthur/dev/msa_classify/PABP_YEAST.ipynb Cell 15\u001b[0m in \u001b[0;36m<cell line: 1>\u001b[0;34m()\u001b[0m\n\u001b[0;32m----> <a href='vscode-notebook-cell://ssh-remote%2Bwhale.bair.berkeley.edu/home/arthur/dev/msa_classify/PABP_YEAST.ipynb#X20sdnNjb2RlLXJlbW90ZQ%3D%3D?line=0'>1</a>\u001b[0m plt\u001b[39m.\u001b[39mhist(train_pred, alpha\u001b[39m=\u001b[39m\u001b[39m0.6\u001b[39m)\n\u001b[1;32m      <a href='vscode-notebook-cell://ssh-remote%2Bwhale.bair.berkeley.edu/home/arthur/dev/msa_classify/PABP_YEAST.ipynb#X20sdnNjb2RlLXJlbW90ZQ%3D%3D?line=1'>2</a>\u001b[0m plt\u001b[39m.\u001b[39mhist(msa_pred, alpha\u001b[39m=\u001b[39m\u001b[39m0.6\u001b[39m)\n\u001b[1;32m      <a href='vscode-notebook-cell://ssh-remote%2Bwhale.bair.berkeley.edu/home/arthur/dev/msa_classify/PABP_YEAST.ipynb#X20sdnNjb2RlLXJlbW90ZQ%3D%3D?line=2'>3</a>\u001b[0m plt\u001b[39m.\u001b[39mhist(mut_pred_pos, alpha\u001b[39m=\u001b[39m\u001b[39m0.8\u001b[39m)\n",
      "\u001b[0;31mNameError\u001b[0m: name 'plt' is not defined"
     ]
    }
   ],
   "source": [
    "plt.hist(train_pred, alpha=0.6)\n",
    "plt.hist(msa_pred, alpha=0.6)\n",
    "plt.hist(mut_pred_pos, alpha=0.8)\n",
    "plt.hist(mut_pred_neg, alpha=0.8)"
   ]
  },
  {
   "cell_type": "markdown",
   "metadata": {},
   "source": [
    "G"
   ]
  },
  {
   "cell_type": "code",
   "execution_count": 17,
   "metadata": {},
   "outputs": [
    {
     "data": {
      "text/plain": [
       "(array([ 63.,  72.,  54.,  95., 133., 129., 305., 112.,  25.,   7.]),\n",
       " array([-386.41248625, -376.37461419, -366.33674212, -356.29887006,\n",
       "        -346.26099799, -336.22312592, -326.18525386, -316.14738179,\n",
       "        -306.10950973, -296.07163766, -286.0337656 ]),\n",
       " <BarContainer object of 10 artists>)"
      ]
     },
     "execution_count": 17,
     "metadata": {},
     "output_type": "execute_result"
    },
    {
     "data": {
      "image/png": "[encoded data removed]",
      "text/plain": [
       "<Figure size 640x480 with 1 Axes>"
      ]
     },
     "metadata": {},
     "output_type": "display_data"
    }
   ],
   "source": [
    "plt.hist(mut_pred_pos, alpha=0.8)\n",
    "plt.hist(mut_pred_neg, alpha=0.8)"
   ]
  },
  {
   "cell_type": "code",
   "execution_count": null,
   "metadata": {},
   "outputs": [],
   "source": []
  }
 ],
 "metadata": {
  "kernelspec": {
   "display_name": "Python 3.9.5 ('dev_arthur')",
   "language": "python",
   "name": "python3"
  },
  "language_info": {
   "codemirror_mode": {
    "name": "ipython",
    "version": 3
   },
   "file_extension": ".py",
   "mimetype": "text/x-python",
   "name": "python",
   "nbconvert_exporter": "python",
   "pygments_lexer": "ipython3",
   "version": "3.9.5"
  },
  "orig_nbformat": 4,
  "vscode": {
   "interpreter": {
    "hash": "2b975e03f1e86e078ea1d566012707067ac1f6e4c759ff48317f6f9dc08e1449"
   }
  }
 },
 "nbformat": 4,
 "nbformat_minor": 2
}
